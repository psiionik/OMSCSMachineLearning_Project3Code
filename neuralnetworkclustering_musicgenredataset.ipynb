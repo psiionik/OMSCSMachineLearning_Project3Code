{
 "cells": [
  {
   "cell_type": "code",
   "execution_count": 1,
   "id": "ab2b43e7",
   "metadata": {},
   "outputs": [],
   "source": [
    "import numpy as np\n",
    "import struct\n",
    "from array import array\n",
    "import pandas as pd\n",
    "import os\n",
    "from os.path  import join\n",
    "import random as rn\n",
    "from sklearn.neural_network import MLPClassifier\n",
    "import graphviz\n",
    "import pydotplus\n",
    "from IPython.display import Image\n",
    "from io import StringIO\n",
    "from sklearn.model_selection import cross_val_score\n",
    "from sklearn.model_selection import cross_validate\n",
    "from sklearn.model_selection import StratifiedKFold\n",
    "from sklearn.model_selection import learning_curve\n",
    "from sklearn.preprocessing import LabelEncoder\n",
    "from sklearn.preprocessing import StandardScaler\n",
    "from sklearn.model_selection import train_test_split\n",
    "from sklearn.metrics import davies_bouldin_score\n",
    "from sklearn.metrics import log_loss\n",
    "import random\n",
    "import matplotlib.pyplot as plt\n",
    "from sklearn.metrics import silhouette_score\n",
    "import time\n",
    "import itertools\n",
    "import matplotlib as mpl\n",
    "from sklearn.model_selection import GridSearchCV\n",
    "\n",
    "from sklearn.mixture import GaussianMixture\n",
    "from sklearn.cluster import KMeans\n",
    "from sklearn.manifold import TSNE\n",
    "from sklearn.decomposition import PCA\n",
    "from scipy.stats import kurtosis\n",
    "from sklearn.decomposition import FastICA\n",
    "from sklearn.random_projection import SparseRandomProjection"
   ]
  },
  {
   "cell_type": "code",
   "execution_count": 2,
   "id": "370b03c5",
   "metadata": {},
   "outputs": [
    {
     "name": "stdout",
     "output_type": "stream",
     "text": [
      "       popularity  acousticness  danceability  duration_ms  energy  \\\n",
      "0            27.0       0.00468         0.652         -1.0   0.941   \n",
      "1            31.0       0.01270         0.622     218293.0   0.890   \n",
      "2            28.0       0.00306         0.620     215613.0   0.755   \n",
      "3            34.0       0.02540         0.774     166875.0   0.700   \n",
      "4            32.0       0.00465         0.638     222369.0   0.587   \n",
      "...           ...           ...           ...          ...     ...   \n",
      "49995        59.0       0.03340         0.913         -1.0   0.574   \n",
      "49996        72.0       0.15700         0.709     251860.0   0.362   \n",
      "49997        51.0       0.00597         0.693     189483.0   0.763   \n",
      "49998        65.0       0.08310         0.782     262773.0   0.472   \n",
      "49999        67.0       0.10200         0.862     267267.0   0.642   \n",
      "\n",
      "       instrumentalness  key  liveness  loudness  mode  speechiness   tempo  \\\n",
      "0               0.79200    1     0.115    -5.201     1       0.0748  100.89   \n",
      "1               0.95000    5     0.124    -7.043     1       0.0300  115.00   \n",
      "2               0.01180   11     0.534    -4.617     0       0.0345  127.99   \n",
      "3               0.00253    4     0.157    -4.498     0       0.2390  128.01   \n",
      "4               0.90900    9     0.157    -6.266     0       0.0413  145.04   \n",
      "...                 ...  ...       ...       ...   ...          ...     ...   \n",
      "49995           0.00000    4     0.119    -7.022     0       0.2980   98.03   \n",
      "49996           0.00000    2     0.109    -9.814     0       0.0550  122.04   \n",
      "49997           0.00000    5     0.143    -5.443     0       0.1460  131.08   \n",
      "49998           0.00000   10     0.106    -5.016     1       0.0441   75.89   \n",
      "49999           0.00000    9     0.272   -13.652     1       0.1010   99.20   \n",
      "\n",
      "       valence music_genre  \n",
      "0        0.759  Electronic  \n",
      "1        0.531  Electronic  \n",
      "2        0.333  Electronic  \n",
      "3        0.270  Electronic  \n",
      "4        0.323  Electronic  \n",
      "...        ...         ...  \n",
      "49995    0.330     Hip-Hop  \n",
      "49996    0.113     Hip-Hop  \n",
      "49997    0.395     Hip-Hop  \n",
      "49998    0.354     Hip-Hop  \n",
      "49999    0.765     Hip-Hop  \n",
      "\n",
      "[45020 rows x 14 columns]\n",
      "['Alternative' 'Anime' 'Blues' 'Classical' 'Country' 'Electronic'\n",
      " 'Hip-Hop' 'Jazz' 'Rap' 'Rock']\n",
      "10\n"
     ]
    }
   ],
   "source": [
    "\"\"\"\n",
    "Loading in the dataset into a pandas dataframe object.\n",
    "\n",
    "For the following segments the code snippets were retreved from: https://www.kaggle.com/code/anetakovacheva/interpreting-a-music-genre-classifier\n",
    "\"\"\"\n",
    "\n",
    "%matplotlib inline\n",
    "\n",
    "input_path = 'data/musicgenre_datafolder'\n",
    "file_path = join(input_path, 'music_genre.csv')\n",
    "\n",
    "music_data = pd.read_csv(file_path)\n",
    "\n",
    "\"\"\"\n",
    "Cleaning and Pre-Processing all of the data\n",
    "\"\"\"\n",
    "\n",
    "\"\"\"\n",
    "There are some duplicated data that needs to be cleaned up\n",
    "\"\"\"\n",
    "music_data.duplicated().any()\n",
    "duplicated = music_data.duplicated()\n",
    "music_data[duplicated]\n",
    "music_data.iloc[9999:10006]\n",
    "music_data.drop([10000, 10001, 10002, 10003, 10004], inplace = True)\n",
    "\n",
    "\"\"\"\n",
    "Removing some columns that don't matter or will complicated the training too much\n",
    "\"\"\"\n",
    "music_data.reset_index(inplace = True)\n",
    "music_data = music_data.drop([\"artist_name\", \"index\", \"instance_id\", \"track_name\", \"obtained_date\"], axis = 1)\n",
    "\n",
    "\"\"\"\n",
    "Normalizing the music data such that it removes invalid values for 'tempo' and converts\n",
    "the column values into a float\n",
    "\"\"\"\n",
    "music_data = music_data.drop(music_data[music_data[\"tempo\"] == \"?\"].index)\n",
    "music_data[\"tempo\"] = music_data[\"tempo\"].astype(\"float\")\n",
    "music_data[\"tempo\"] = np.around(music_data[\"tempo\"], decimals = 2)\n",
    "\n",
    "\"\"\"\n",
    "Encoding the columns that are strings with LabelEncoder since this will mess\n",
    "up the algorithms that require numeric values\n",
    "\"\"\"\n",
    "key_encoder = LabelEncoder()\n",
    "mode_encoder = LabelEncoder()\n",
    "music_data[\"key\"] = key_encoder.fit_transform(music_data[\"key\"])\n",
    "music_data[\"mode\"] = mode_encoder.fit_transform(music_data[\"mode\"])\n",
    "\n",
    "\"\"\"\n",
    "Separating out the column features from the music genre label\n",
    "\"\"\"\n",
    "music_features = music_data.drop(\"music_genre\", axis = 1)\n",
    "music_labels = music_data[\"music_genre\"]\n",
    "\n",
    "print(music_data)\n",
    "print(np.unique(music_labels))\n",
    "print(len(np.unique(music_labels)))\n",
    "\n",
    "\"\"\"\n",
    "Scaling the features out into a scale centered around 0 with a standard deviation of 1\n",
    "\"\"\"\n",
    "scaler = StandardScaler()\n",
    "music_features_scaled = scaler.fit_transform(music_features)\n",
    "# print(music_features_scaled[0])\n",
    "\n",
    "\"\"\"\n",
    "Splitting the data into Training and Testing Data Sets\n",
    "\"\"\"\n",
    "train_features, test_features, train_labels, test_labels = train_test_split(\n",
    "    music_features_scaled, music_labels, test_size = 0.1, stratify = music_labels)\n"
   ]
  },
  {
   "cell_type": "code",
   "execution_count": 38,
   "id": "9041cd70",
   "metadata": {},
   "outputs": [],
   "source": [
    "\"\"\"\n",
    "Setting up seed values for reproducability\n",
    "\"\"\"\n",
    "seed = 1234\n",
    "np.random.seed(seed)\n",
    "rn.seed(seed)\n",
    "os.environ['PYTHONHASHSEED'] = str(seed)"
   ]
  },
  {
   "cell_type": "code",
   "execution_count": 39,
   "id": "a3191aad",
   "metadata": {},
   "outputs": [],
   "source": [
    "\"\"\"\n",
    "Getting the size values for the training and testing dataset\n",
    "\"\"\"\n",
    "size_train_samples = np.shape(train_features)[0]\n",
    "size_test_samples = np.shape(test_features)[0]"
   ]
  },
  {
   "cell_type": "code",
   "execution_count": 40,
   "id": "d366c81d",
   "metadata": {},
   "outputs": [],
   "source": [
    "number_of_epochs = 150"
   ]
  },
  {
   "cell_type": "code",
   "execution_count": 41,
   "id": "faca7c0e",
   "metadata": {},
   "outputs": [],
   "source": [
    "\"\"\"\n",
    "Running the clustering algorithm to find labels to add as another feature to the dataset\n",
    "\"\"\"\n",
    "covariance_type = \"full\"\n",
    "tol = 1e-3\n",
    "reg_covar = 1e-6\n",
    "max_iter = 100\n",
    "n_init = 1\n",
    "init_params = \"kmeans\"\n",
    "\n",
    "gmfinal = GaussianMixture(\n",
    "        n_components = 10,\n",
    "        covariance_type = covariance_type,\n",
    "        tol = tol,\n",
    "        reg_covar = reg_covar,\n",
    "        max_iter = max_iter,\n",
    "        init_params = init_params,\n",
    "        n_init = n_init,\n",
    "        random_state = seed\n",
    "    )\n",
    "    \n",
    "gmfinal.fit(train_features)\n",
    "gm_train_fit_labels = gmfinal.predict(train_features)\n",
    "gm_test_fit_labels = gmfinal.predict(test_features)"
   ]
  },
  {
   "cell_type": "code",
   "execution_count": 42,
   "id": "feed5cd3",
   "metadata": {},
   "outputs": [],
   "source": [
    "\"\"\"\n",
    "Adding the labels as a column to the train / test data\n",
    "\"\"\"\n",
    "gm_train_data = np.append(train_features, gm_train_fit_labels[:, None], axis=1)\n",
    "gm_test_data = np.append(test_features, gm_test_fit_labels[:, None], axis=1)"
   ]
  },
  {
   "cell_type": "code",
   "execution_count": 43,
   "id": "03dabd1b",
   "metadata": {},
   "outputs": [
    {
     "name": "stderr",
     "output_type": "stream",
     "text": [
      "/Users/brandenkim/miniconda3/envs/ml_env/lib/python3.9/site-packages/sklearn/neural_network/_multilayer_perceptron.py:691: ConvergenceWarning: Stochastic Optimizer: Maximum iterations (1) reached and the optimization hasn't converged yet.\n",
      "  warnings.warn(\n"
     ]
    },
    {
     "name": "stdout",
     "output_type": "stream",
     "text": [
      "=============================================\n",
      "Run for 1 epoch\n",
      "Training Score: 0.37638057629419386\n",
      "Validation Score: 0.3636475814412636\n",
      "Training Loss Score: 1.787195669992153\n",
      "Validation Loss Score: 1.802343272748713\n",
      "=============================================\n"
     ]
    },
    {
     "name": "stderr",
     "output_type": "stream",
     "text": [
      "/Users/brandenkim/miniconda3/envs/ml_env/lib/python3.9/site-packages/sklearn/neural_network/_multilayer_perceptron.py:691: ConvergenceWarning: Stochastic Optimizer: Maximum iterations (1) reached and the optimization hasn't converged yet.\n",
      "  warnings.warn(\n"
     ]
    },
    {
     "name": "stdout",
     "output_type": "stream",
     "text": [
      "=============================================\n",
      "Run for 2 epoch\n",
      "Training Score: 0.4943542913555871\n",
      "Validation Score: 0.4826011846001974\n",
      "Training Loss Score: 1.3820838592036866\n",
      "Validation Loss Score: 1.4052543913311606\n",
      "=============================================\n"
     ]
    },
    {
     "name": "stderr",
     "output_type": "stream",
     "text": [
      "/Users/brandenkim/miniconda3/envs/ml_env/lib/python3.9/site-packages/sklearn/neural_network/_multilayer_perceptron.py:691: ConvergenceWarning: Stochastic Optimizer: Maximum iterations (1) reached and the optimization hasn't converged yet.\n",
      "  warnings.warn(\n"
     ]
    },
    {
     "name": "stdout",
     "output_type": "stream",
     "text": [
      "=============================================\n",
      "Run for 3 epoch\n",
      "Training Score: 0.5277657802184241\n",
      "Validation Score: 0.5118460019743336\n",
      "Training Loss Score: 1.264598781776799\n",
      "Validation Loss Score: 1.29374852225552\n",
      "=============================================\n"
     ]
    },
    {
     "name": "stderr",
     "output_type": "stream",
     "text": [
      "/Users/brandenkim/miniconda3/envs/ml_env/lib/python3.9/site-packages/sklearn/neural_network/_multilayer_perceptron.py:691: ConvergenceWarning: Stochastic Optimizer: Maximum iterations (1) reached and the optimization hasn't converged yet.\n",
      "  warnings.warn(\n"
     ]
    },
    {
     "name": "stdout",
     "output_type": "stream",
     "text": [
      "=============================================\n",
      "Run for 4 epoch\n",
      "Training Score: 0.5401678287159869\n",
      "Validation Score: 0.5185093780848964\n",
      "Training Loss Score: 1.2246637894828378\n",
      "Validation Loss Score: 1.2584076893654932\n",
      "=============================================\n"
     ]
    },
    {
     "name": "stderr",
     "output_type": "stream",
     "text": [
      "/Users/brandenkim/miniconda3/envs/ml_env/lib/python3.9/site-packages/sklearn/neural_network/_multilayer_perceptron.py:691: ConvergenceWarning: Stochastic Optimizer: Maximum iterations (1) reached and the optimization hasn't converged yet.\n",
      "  warnings.warn(\n"
     ]
    },
    {
     "name": "stdout",
     "output_type": "stream",
     "text": [
      "=============================================\n",
      "Run for 5 epoch\n",
      "Training Score: 0.5469550194360462\n",
      "Validation Score: 0.5244323790720632\n",
      "Training Loss Score: 1.205043548011696\n",
      "Validation Loss Score: 1.241828287353392\n",
      "=============================================\n"
     ]
    },
    {
     "name": "stderr",
     "output_type": "stream",
     "text": [
      "/Users/brandenkim/miniconda3/envs/ml_env/lib/python3.9/site-packages/sklearn/neural_network/_multilayer_perceptron.py:691: ConvergenceWarning: Stochastic Optimizer: Maximum iterations (1) reached and the optimization hasn't converged yet.\n",
      "  warnings.warn(\n"
     ]
    },
    {
     "name": "stdout",
     "output_type": "stream",
     "text": [
      "=============================================\n",
      "Run for 6 epoch\n",
      "Training Score: 0.5508113777997161\n",
      "Validation Score: 0.5293682132280355\n",
      "Training Loss Score: 1.1924704187238482\n",
      "Validation Loss Score: 1.2314280296047344\n",
      "=============================================\n"
     ]
    },
    {
     "name": "stderr",
     "output_type": "stream",
     "text": [
      "/Users/brandenkim/miniconda3/envs/ml_env/lib/python3.9/site-packages/sklearn/neural_network/_multilayer_perceptron.py:691: ConvergenceWarning: Stochastic Optimizer: Maximum iterations (1) reached and the optimization hasn't converged yet.\n",
      "  warnings.warn(\n"
     ]
    },
    {
     "name": "stdout",
     "output_type": "stream",
     "text": [
      "=============================================\n",
      "Run for 7 epoch\n",
      "Training Score: 0.5531560436848275\n",
      "Validation Score: 0.5326999012833169\n",
      "Training Loss Score: 1.1828628032940587\n",
      "Validation Loss Score: 1.223819237128102\n",
      "=============================================\n"
     ]
    },
    {
     "name": "stderr",
     "output_type": "stream",
     "text": [
      "/Users/brandenkim/miniconda3/envs/ml_env/lib/python3.9/site-packages/sklearn/neural_network/_multilayer_perceptron.py:691: ConvergenceWarning: Stochastic Optimizer: Maximum iterations (1) reached and the optimization hasn't converged yet.\n",
      "  warnings.warn(\n"
     ]
    },
    {
     "name": "stdout",
     "output_type": "stream",
     "text": [
      "=============================================\n",
      "Run for 8 epoch\n",
      "Training Score: 0.5562411303757635\n",
      "Validation Score: 0.5335636722606121\n",
      "Training Loss Score: 1.1746432458861351\n",
      "Validation Loss Score: 1.2166572289752347\n",
      "=============================================\n"
     ]
    },
    {
     "name": "stderr",
     "output_type": "stream",
     "text": [
      "/Users/brandenkim/miniconda3/envs/ml_env/lib/python3.9/site-packages/sklearn/neural_network/_multilayer_perceptron.py:691: ConvergenceWarning: Stochastic Optimizer: Maximum iterations (1) reached and the optimization hasn't converged yet.\n",
      "  warnings.warn(\n"
     ]
    },
    {
     "name": "stdout",
     "output_type": "stream",
     "text": [
      "=============================================\n",
      "Run for 9 epoch\n",
      "Training Score: 0.5581230332572346\n",
      "Validation Score: 0.5376357354392892\n",
      "Training Loss Score: 1.1678758377516367\n",
      "Validation Loss Score: 1.2105272268015035\n",
      "=============================================\n"
     ]
    },
    {
     "name": "stderr",
     "output_type": "stream",
     "text": [
      "/Users/brandenkim/miniconda3/envs/ml_env/lib/python3.9/site-packages/sklearn/neural_network/_multilayer_perceptron.py:691: ConvergenceWarning: Stochastic Optimizer: Maximum iterations (1) reached and the optimization hasn't converged yet.\n",
      "  warnings.warn(\n"
     ]
    },
    {
     "name": "stdout",
     "output_type": "stream",
     "text": [
      "=============================================\n",
      "Run for 10 epoch\n",
      "Training Score: 0.559542173135065\n",
      "Validation Score: 0.5420779861796644\n",
      "Training Loss Score: 1.1618933327901684\n",
      "Validation Loss Score: 1.2048730660784595\n",
      "=============================================\n"
     ]
    },
    {
     "name": "stderr",
     "output_type": "stream",
     "text": [
      "/Users/brandenkim/miniconda3/envs/ml_env/lib/python3.9/site-packages/sklearn/neural_network/_multilayer_perceptron.py:691: ConvergenceWarning: Stochastic Optimizer: Maximum iterations (1) reached and the optimization hasn't converged yet.\n",
      "  warnings.warn(\n"
     ]
    },
    {
     "name": "stdout",
     "output_type": "stream",
     "text": [
      "=============================================\n",
      "Run for 11 epoch\n",
      "Training Score: 0.5613623742827173\n",
      "Validation Score: 0.5441757156959526\n",
      "Training Loss Score: 1.156863175224028\n",
      "Validation Loss Score: 1.200069470031868\n",
      "=============================================\n"
     ]
    },
    {
     "name": "stderr",
     "output_type": "stream",
     "text": [
      "/Users/brandenkim/miniconda3/envs/ml_env/lib/python3.9/site-packages/sklearn/neural_network/_multilayer_perceptron.py:691: ConvergenceWarning: Stochastic Optimizer: Maximum iterations (1) reached and the optimization hasn't converged yet.\n",
      "  warnings.warn(\n"
     ]
    },
    {
     "name": "stdout",
     "output_type": "stream",
     "text": [
      "=============================================\n",
      "Run for 12 epoch\n",
      "Training Score: 0.5619793916209046\n",
      "Validation Score: 0.5459032576505429\n",
      "Training Loss Score: 1.1523237621848215\n",
      "Validation Loss Score: 1.195789585983635\n",
      "=============================================\n"
     ]
    },
    {
     "name": "stderr",
     "output_type": "stream",
     "text": [
      "/Users/brandenkim/miniconda3/envs/ml_env/lib/python3.9/site-packages/sklearn/neural_network/_multilayer_perceptron.py:691: ConvergenceWarning: Stochastic Optimizer: Maximum iterations (1) reached and the optimization hasn't converged yet.\n",
      "  warnings.warn(\n"
     ]
    },
    {
     "name": "stdout",
     "output_type": "stream",
     "text": [
      "=============================================\n",
      "Run for 13 epoch\n",
      "Training Score: 0.5640463997038316\n",
      "Validation Score: 0.5463968410661402\n",
      "Training Loss Score: 1.1481620295538475\n",
      "Validation Loss Score: 1.1917319683496563\n",
      "=============================================\n"
     ]
    },
    {
     "name": "stderr",
     "output_type": "stream",
     "text": [
      "/Users/brandenkim/miniconda3/envs/ml_env/lib/python3.9/site-packages/sklearn/neural_network/_multilayer_perceptron.py:691: ConvergenceWarning: Stochastic Optimizer: Maximum iterations (1) reached and the optimization hasn't converged yet.\n",
      "  warnings.warn(\n"
     ]
    },
    {
     "name": "stdout",
     "output_type": "stream",
     "text": [
      "=============================================\n",
      "Run for 14 epoch\n",
      "Training Score: 0.5657431973838465\n",
      "Validation Score: 0.5467670286278381\n",
      "Training Loss Score: 1.1442734462929411\n",
      "Validation Loss Score: 1.1879785271715386\n",
      "=============================================\n"
     ]
    },
    {
     "name": "stderr",
     "output_type": "stream",
     "text": [
      "/Users/brandenkim/miniconda3/envs/ml_env/lib/python3.9/site-packages/sklearn/neural_network/_multilayer_perceptron.py:691: ConvergenceWarning: Stochastic Optimizer: Maximum iterations (1) reached and the optimization hasn't converged yet.\n",
      "  warnings.warn(\n"
     ]
    },
    {
     "name": "stdout",
     "output_type": "stream",
     "text": [
      "=============================================\n",
      "Run for 15 epoch\n",
      "Training Score: 0.5662676621213056\n",
      "Validation Score: 0.5470138203356367\n",
      "Training Loss Score: 1.1406866779927156\n",
      "Validation Loss Score: 1.1845497859387888\n",
      "=============================================\n"
     ]
    },
    {
     "name": "stderr",
     "output_type": "stream",
     "text": [
      "/Users/brandenkim/miniconda3/envs/ml_env/lib/python3.9/site-packages/sklearn/neural_network/_multilayer_perceptron.py:691: ConvergenceWarning: Stochastic Optimizer: Maximum iterations (1) reached and the optimization hasn't converged yet.\n",
      "  warnings.warn(\n"
     ]
    },
    {
     "name": "stdout",
     "output_type": "stream",
     "text": [
      "=============================================\n",
      "Run for 16 epoch\n",
      "Training Score: 0.5679027580675017\n",
      "Validation Score: 0.5488647581441264\n",
      "Training Loss Score: 1.1373585236722912\n",
      "Validation Loss Score: 1.181481779141289\n",
      "=============================================\n"
     ]
    },
    {
     "name": "stderr",
     "output_type": "stream",
     "text": [
      "/Users/brandenkim/miniconda3/envs/ml_env/lib/python3.9/site-packages/sklearn/neural_network/_multilayer_perceptron.py:691: ConvergenceWarning: Stochastic Optimizer: Maximum iterations (1) reached and the optimization hasn't converged yet.\n",
      "  warnings.warn(\n"
     ]
    },
    {
     "name": "stdout",
     "output_type": "stream",
     "text": [
      "=============================================\n",
      "Run for 17 epoch\n",
      "Training Score: 0.5692293453446042\n",
      "Validation Score: 0.5505923000987167\n",
      "Training Loss Score: 1.1343001349991566\n",
      "Validation Loss Score: 1.1786964290864943\n",
      "=============================================\n"
     ]
    },
    {
     "name": "stderr",
     "output_type": "stream",
     "text": [
      "/Users/brandenkim/miniconda3/envs/ml_env/lib/python3.9/site-packages/sklearn/neural_network/_multilayer_perceptron.py:691: ConvergenceWarning: Stochastic Optimizer: Maximum iterations (1) reached and the optimization hasn't converged yet.\n",
      "  warnings.warn(\n"
     ]
    },
    {
     "name": "stdout",
     "output_type": "stream",
     "text": [
      "=============================================\n",
      "Run for 18 epoch\n",
      "Training Score: 0.5696612574813352\n",
      "Validation Score: 0.5505923000987167\n",
      "Training Loss Score: 1.1314111908193116\n",
      "Validation Loss Score: 1.17616082770074\n",
      "=============================================\n"
     ]
    },
    {
     "name": "stderr",
     "output_type": "stream",
     "text": [
      "/Users/brandenkim/miniconda3/envs/ml_env/lib/python3.9/site-packages/sklearn/neural_network/_multilayer_perceptron.py:691: ConvergenceWarning: Stochastic Optimizer: Maximum iterations (1) reached and the optimization hasn't converged yet.\n",
      "  warnings.warn(\n"
     ]
    },
    {
     "name": "stdout",
     "output_type": "stream",
     "text": [
      "=============================================\n",
      "Run for 19 epoch\n",
      "Training Score: 0.5703399765533411\n",
      "Validation Score: 0.5525666337611056\n",
      "Training Loss Score: 1.128646431057782\n",
      "Validation Loss Score: 1.1736924142001044\n",
      "=============================================\n"
     ]
    },
    {
     "name": "stderr",
     "output_type": "stream",
     "text": [
      "/Users/brandenkim/miniconda3/envs/ml_env/lib/python3.9/site-packages/sklearn/neural_network/_multilayer_perceptron.py:691: ConvergenceWarning: Stochastic Optimizer: Maximum iterations (1) reached and the optimization hasn't converged yet.\n",
      "  warnings.warn(\n"
     ]
    },
    {
     "name": "stdout",
     "output_type": "stream",
     "text": [
      "=============================================\n",
      "Run for 20 epoch\n",
      "Training Score: 0.5712963534275313\n",
      "Validation Score: 0.5531836130306022\n",
      "Training Loss Score: 1.1260456993027304\n",
      "Validation Loss Score: 1.1715501913438484\n",
      "=============================================\n"
     ]
    },
    {
     "name": "stderr",
     "output_type": "stream",
     "text": [
      "/Users/brandenkim/miniconda3/envs/ml_env/lib/python3.9/site-packages/sklearn/neural_network/_multilayer_perceptron.py:691: ConvergenceWarning: Stochastic Optimizer: Maximum iterations (1) reached and the optimization hasn't converged yet.\n",
      "  warnings.warn(\n"
     ]
    },
    {
     "name": "stdout",
     "output_type": "stream",
     "text": [
      "=============================================\n",
      "Run for 21 epoch\n",
      "Training Score: 0.5711420990929845\n",
      "Validation Score: 0.5551579466929911\n",
      "Training Loss Score: 1.123600222804003\n",
      "Validation Loss Score: 1.169388295682811\n",
      "=============================================\n"
     ]
    },
    {
     "name": "stderr",
     "output_type": "stream",
     "text": [
      "/Users/brandenkim/miniconda3/envs/ml_env/lib/python3.9/site-packages/sklearn/neural_network/_multilayer_perceptron.py:691: ConvergenceWarning: Stochastic Optimizer: Maximum iterations (1) reached and the optimization hasn't converged yet.\n",
      "  warnings.warn(\n"
     ]
    },
    {
     "name": "stdout",
     "output_type": "stream",
     "text": [
      "=============================================\n",
      "Run for 22 epoch\n",
      "Training Score: 0.5722218794348121\n",
      "Validation Score: 0.5570088845014808\n",
      "Training Loss Score: 1.121270843836182\n",
      "Validation Loss Score: 1.1674378220339328\n",
      "=============================================\n"
     ]
    },
    {
     "name": "stderr",
     "output_type": "stream",
     "text": [
      "/Users/brandenkim/miniconda3/envs/ml_env/lib/python3.9/site-packages/sklearn/neural_network/_multilayer_perceptron.py:691: ConvergenceWarning: Stochastic Optimizer: Maximum iterations (1) reached and the optimization hasn't converged yet.\n",
      "  warnings.warn(\n"
     ]
    },
    {
     "name": "stdout",
     "output_type": "stream",
     "text": [
      "=============================================\n",
      "Run for 23 epoch\n",
      "Training Score: 0.5729314493737274\n",
      "Validation Score: 0.5567620927936822\n",
      "Training Loss Score: 1.1191506521399377\n",
      "Validation Loss Score: 1.1658039118102776\n",
      "=============================================\n"
     ]
    },
    {
     "name": "stderr",
     "output_type": "stream",
     "text": [
      "/Users/brandenkim/miniconda3/envs/ml_env/lib/python3.9/site-packages/sklearn/neural_network/_multilayer_perceptron.py:691: ConvergenceWarning: Stochastic Optimizer: Maximum iterations (1) reached and the optimization hasn't converged yet.\n",
      "  warnings.warn(\n"
     ]
    },
    {
     "name": "stdout",
     "output_type": "stream",
     "text": [
      "=============================================\n",
      "Run for 24 epoch\n",
      "Training Score: 0.5737952736471895\n",
      "Validation Score: 0.5583662388943732\n",
      "Training Loss Score: 1.1169791619050933\n",
      "Validation Loss Score: 1.1641368293648895\n",
      "=============================================\n"
     ]
    },
    {
     "name": "stderr",
     "output_type": "stream",
     "text": [
      "/Users/brandenkim/miniconda3/envs/ml_env/lib/python3.9/site-packages/sklearn/neural_network/_multilayer_perceptron.py:691: ConvergenceWarning: Stochastic Optimizer: Maximum iterations (1) reached and the optimization hasn't converged yet.\n",
      "  warnings.warn(\n"
     ]
    },
    {
     "name": "stdout",
     "output_type": "stream",
     "text": [
      "=============================================\n",
      "Run for 25 epoch\n",
      "Training Score: 0.5744431418522861\n",
      "Validation Score: 0.5586130306021717\n",
      "Training Loss Score: 1.1149412508827687\n",
      "Validation Loss Score: 1.1626141534296262\n",
      "=============================================\n"
     ]
    },
    {
     "name": "stderr",
     "output_type": "stream",
     "text": [
      "/Users/brandenkim/miniconda3/envs/ml_env/lib/python3.9/site-packages/sklearn/neural_network/_multilayer_perceptron.py:691: ConvergenceWarning: Stochastic Optimizer: Maximum iterations (1) reached and the optimization hasn't converged yet.\n",
      "  warnings.warn(\n"
     ]
    },
    {
     "name": "stdout",
     "output_type": "stream",
     "text": [
      "=============================================\n",
      "Run for 26 epoch\n",
      "Training Score: 0.5742888875177392\n",
      "Validation Score: 0.5589832181638696\n",
      "Training Loss Score: 1.1129232827307516\n",
      "Validation Loss Score: 1.161053537421672\n",
      "=============================================\n"
     ]
    },
    {
     "name": "stderr",
     "output_type": "stream",
     "text": [
      "/Users/brandenkim/miniconda3/envs/ml_env/lib/python3.9/site-packages/sklearn/neural_network/_multilayer_perceptron.py:691: ConvergenceWarning: Stochastic Optimizer: Maximum iterations (1) reached and the optimization hasn't converged yet.\n",
      "  warnings.warn(\n"
     ]
    },
    {
     "name": "stdout",
     "output_type": "stream",
     "text": [
      "=============================================\n",
      "Run for 27 epoch\n",
      "Training Score: 0.5748750539890171\n",
      "Validation Score: 0.5576258637709773\n",
      "Training Loss Score: 1.1109430509907783\n",
      "Validation Loss Score: 1.1595241132605534\n",
      "=============================================\n"
     ]
    },
    {
     "name": "stderr",
     "output_type": "stream",
     "text": [
      "/Users/brandenkim/miniconda3/envs/ml_env/lib/python3.9/site-packages/sklearn/neural_network/_multilayer_perceptron.py:691: ConvergenceWarning: Stochastic Optimizer: Maximum iterations (1) reached and the optimization hasn't converged yet.\n",
      "  warnings.warn(\n"
     ]
    },
    {
     "name": "stdout",
     "output_type": "stream",
     "text": [
      "=============================================\n",
      "Run for 28 epoch\n",
      "Training Score: 0.5756154747948418\n",
      "Validation Score: 0.5577492596248766\n",
      "Training Loss Score: 1.1091287243524919\n",
      "Validation Loss Score: 1.1582354493861147\n",
      "=============================================\n"
     ]
    },
    {
     "name": "stderr",
     "output_type": "stream",
     "text": [
      "/Users/brandenkim/miniconda3/envs/ml_env/lib/python3.9/site-packages/sklearn/neural_network/_multilayer_perceptron.py:691: ConvergenceWarning: Stochastic Optimizer: Maximum iterations (1) reached and the optimization hasn't converged yet.\n",
      "  warnings.warn(\n"
     ]
    },
    {
     "name": "stdout",
     "output_type": "stream",
     "text": [
      "=============================================\n",
      "Run for 29 epoch\n",
      "Training Score: 0.5763558956006664\n",
      "Validation Score: 0.557872655478776\n",
      "Training Loss Score: 1.107387853797628\n",
      "Validation Loss Score: 1.1568654845468764\n",
      "=============================================\n"
     ]
    },
    {
     "name": "stderr",
     "output_type": "stream",
     "text": [
      "/Users/brandenkim/miniconda3/envs/ml_env/lib/python3.9/site-packages/sklearn/neural_network/_multilayer_perceptron.py:691: ConvergenceWarning: Stochastic Optimizer: Maximum iterations (1) reached and the optimization hasn't converged yet.\n",
      "  warnings.warn(\n"
     ]
    },
    {
     "name": "stdout",
     "output_type": "stream",
     "text": [
      "=============================================\n",
      "Run for 30 epoch\n",
      "Training Score: 0.5773739742086753\n",
      "Validation Score: 0.5593534057255676\n",
      "Training Loss Score: 1.105706306568048\n",
      "Validation Loss Score: 1.1556252231741289\n",
      "=============================================\n"
     ]
    },
    {
     "name": "stderr",
     "output_type": "stream",
     "text": [
      "/Users/brandenkim/miniconda3/envs/ml_env/lib/python3.9/site-packages/sklearn/neural_network/_multilayer_perceptron.py:691: ConvergenceWarning: Stochastic Optimizer: Maximum iterations (1) reached and the optimization hasn't converged yet.\n",
      "  warnings.warn(\n"
     ]
    },
    {
     "name": "stdout",
     "output_type": "stream",
     "text": [
      "=============================================\n",
      "Run for 31 epoch\n",
      "Training Score: 0.5780218424137719\n",
      "Validation Score: 0.5596001974333662\n",
      "Training Loss Score: 1.1041745558338043\n",
      "Validation Loss Score: 1.154639395863197\n",
      "=============================================\n"
     ]
    },
    {
     "name": "stderr",
     "output_type": "stream",
     "text": [
      "/Users/brandenkim/miniconda3/envs/ml_env/lib/python3.9/site-packages/sklearn/neural_network/_multilayer_perceptron.py:691: ConvergenceWarning: Stochastic Optimizer: Maximum iterations (1) reached and the optimization hasn't converged yet.\n",
      "  warnings.warn(\n"
     ]
    },
    {
     "name": "stdout",
     "output_type": "stream",
     "text": [
      "=============================================\n",
      "Run for 32 epoch\n",
      "Training Score: 0.5783612019497748\n",
      "Validation Score: 0.5609575518262586\n",
      "Training Loss Score: 1.1026659353045856\n",
      "Validation Loss Score: 1.153444972013087\n",
      "=============================================\n"
     ]
    },
    {
     "name": "stderr",
     "output_type": "stream",
     "text": [
      "/Users/brandenkim/miniconda3/envs/ml_env/lib/python3.9/site-packages/sklearn/neural_network/_multilayer_perceptron.py:691: ConvergenceWarning: Stochastic Optimizer: Maximum iterations (1) reached and the optimization hasn't converged yet.\n",
      "  warnings.warn(\n"
     ]
    },
    {
     "name": "stdout",
     "output_type": "stream",
     "text": [
      "=============================================\n",
      "Run for 33 epoch\n",
      "Training Score: 0.5786697106188684\n",
      "Validation Score: 0.5618213228035538\n",
      "Training Loss Score: 1.101244143537621\n",
      "Validation Loss Score: 1.152246584127735\n",
      "=============================================\n"
     ]
    },
    {
     "name": "stderr",
     "output_type": "stream",
     "text": [
      "/Users/brandenkim/miniconda3/envs/ml_env/lib/python3.9/site-packages/sklearn/neural_network/_multilayer_perceptron.py:691: ConvergenceWarning: Stochastic Optimizer: Maximum iterations (1) reached and the optimization hasn't converged yet.\n",
      "  warnings.warn(\n"
     ]
    },
    {
     "name": "stdout",
     "output_type": "stream",
     "text": [
      "=============================================\n",
      "Run for 34 epoch\n",
      "Training Score: 0.579410131424693\n",
      "Validation Score: 0.5631786771964462\n",
      "Training Loss Score: 1.0999195095512802\n",
      "Validation Loss Score: 1.1510516154572878\n",
      "=============================================\n"
     ]
    },
    {
     "name": "stderr",
     "output_type": "stream",
     "text": [
      "/Users/brandenkim/miniconda3/envs/ml_env/lib/python3.9/site-packages/sklearn/neural_network/_multilayer_perceptron.py:691: ConvergenceWarning: Stochastic Optimizer: Maximum iterations (1) reached and the optimization hasn't converged yet.\n",
      "  warnings.warn(\n"
     ]
    },
    {
     "name": "stdout",
     "output_type": "stream",
     "text": [
      "=============================================\n",
      "Run for 35 epoch\n",
      "Training Score: 0.5796260874930586\n",
      "Validation Score: 0.5646594274432379\n",
      "Training Loss Score: 1.0986628586429272\n",
      "Validation Loss Score: 1.1500059865150272\n",
      "=============================================\n"
     ]
    },
    {
     "name": "stderr",
     "output_type": "stream",
     "text": [
      "/Users/brandenkim/miniconda3/envs/ml_env/lib/python3.9/site-packages/sklearn/neural_network/_multilayer_perceptron.py:691: ConvergenceWarning: Stochastic Optimizer: Maximum iterations (1) reached and the optimization hasn't converged yet.\n",
      "  warnings.warn(\n"
     ]
    },
    {
     "name": "stdout",
     "output_type": "stream",
     "text": [
      "=============================================\n",
      "Run for 36 epoch\n",
      "Training Score: 0.5798111926945148\n",
      "Validation Score: 0.5645360315893386\n",
      "Training Loss Score: 1.0973751521965123\n",
      "Validation Loss Score: 1.1488426124493685\n",
      "=============================================\n"
     ]
    },
    {
     "name": "stderr",
     "output_type": "stream",
     "text": [
      "/Users/brandenkim/miniconda3/envs/ml_env/lib/python3.9/site-packages/sklearn/neural_network/_multilayer_perceptron.py:691: ConvergenceWarning: Stochastic Optimizer: Maximum iterations (1) reached and the optimization hasn't converged yet.\n",
      "  warnings.warn(\n"
     ]
    },
    {
     "name": "stdout",
     "output_type": "stream",
     "text": [
      "=============================================\n",
      "Run for 37 epoch\n",
      "Training Score: 0.5799345961621521\n",
      "Validation Score: 0.5636722606120435\n",
      "Training Loss Score: 1.0961709855934603\n",
      "Validation Loss Score: 1.1478714748959462\n",
      "=============================================\n"
     ]
    },
    {
     "name": "stderr",
     "output_type": "stream",
     "text": [
      "/Users/brandenkim/miniconda3/envs/ml_env/lib/python3.9/site-packages/sklearn/neural_network/_multilayer_perceptron.py:691: ConvergenceWarning: Stochastic Optimizer: Maximum iterations (1) reached and the optimization hasn't converged yet.\n",
      "  warnings.warn(\n"
     ]
    },
    {
     "name": "stdout",
     "output_type": "stream",
     "text": [
      "=============================================\n",
      "Run for 38 epoch\n",
      "Training Score: 0.5806441661010674\n",
      "Validation Score: 0.56428923988154\n",
      "Training Loss Score: 1.0949021206050242\n",
      "Validation Loss Score: 1.1468542931796835\n",
      "=============================================\n"
     ]
    },
    {
     "name": "stderr",
     "output_type": "stream",
     "text": [
      "/Users/brandenkim/miniconda3/envs/ml_env/lib/python3.9/site-packages/sklearn/neural_network/_multilayer_perceptron.py:691: ConvergenceWarning: Stochastic Optimizer: Maximum iterations (1) reached and the optimization hasn't converged yet.\n",
      "  warnings.warn(\n"
     ]
    },
    {
     "name": "stdout",
     "output_type": "stream",
     "text": [
      "=============================================\n",
      "Run for 39 epoch\n",
      "Training Score: 0.581292034306164\n",
      "Validation Score: 0.5645360315893386\n",
      "Training Loss Score: 1.0937123255469807\n",
      "Validation Loss Score: 1.146089822116259\n",
      "=============================================\n"
     ]
    },
    {
     "name": "stderr",
     "output_type": "stream",
     "text": [
      "/Users/brandenkim/miniconda3/envs/ml_env/lib/python3.9/site-packages/sklearn/neural_network/_multilayer_perceptron.py:691: ConvergenceWarning: Stochastic Optimizer: Maximum iterations (1) reached and the optimization hasn't converged yet.\n",
      "  warnings.warn(\n"
     ]
    },
    {
     "name": "stdout",
     "output_type": "stream",
     "text": [
      "=============================================\n",
      "Run for 40 epoch\n",
      "Training Score: 0.5815388412414388\n",
      "Validation Score: 0.5652764067127345\n",
      "Training Loss Score: 1.0925489329014892\n",
      "Validation Loss Score: 1.145248639727237\n",
      "=============================================\n"
     ]
    },
    {
     "name": "stderr",
     "output_type": "stream",
     "text": [
      "/Users/brandenkim/miniconda3/envs/ml_env/lib/python3.9/site-packages/sklearn/neural_network/_multilayer_perceptron.py:691: ConvergenceWarning: Stochastic Optimizer: Maximum iterations (1) reached and the optimization hasn't converged yet.\n",
      "  warnings.warn(\n"
     ]
    },
    {
     "name": "stdout",
     "output_type": "stream",
     "text": [
      "=============================================\n",
      "Run for 41 epoch\n",
      "Training Score: 0.5822175603134448\n",
      "Validation Score: 0.5646594274432379\n",
      "Training Loss Score: 1.0914155867573567\n",
      "Validation Loss Score: 1.144317688893748\n",
      "=============================================\n"
     ]
    },
    {
     "name": "stderr",
     "output_type": "stream",
     "text": [
      "/Users/brandenkim/miniconda3/envs/ml_env/lib/python3.9/site-packages/sklearn/neural_network/_multilayer_perceptron.py:691: ConvergenceWarning: Stochastic Optimizer: Maximum iterations (1) reached and the optimization hasn't converged yet.\n",
      "  warnings.warn(\n"
     ]
    },
    {
     "name": "stdout",
     "output_type": "stream",
     "text": [
      "=============================================\n",
      "Run for 42 epoch\n",
      "Training Score: 0.5827111741839945\n",
      "Validation Score: 0.5644126357354393\n",
      "Training Loss Score: 1.0902415522088151\n",
      "Validation Loss Score: 1.1433346399317308\n",
      "=============================================\n"
     ]
    },
    {
     "name": "stderr",
     "output_type": "stream",
     "text": [
      "/Users/brandenkim/miniconda3/envs/ml_env/lib/python3.9/site-packages/sklearn/neural_network/_multilayer_perceptron.py:691: ConvergenceWarning: Stochastic Optimizer: Maximum iterations (1) reached and the optimization hasn't converged yet.\n",
      "  warnings.warn(\n"
     ]
    },
    {
     "name": "stdout",
     "output_type": "stream",
     "text": [
      "=============================================\n",
      "Run for 43 epoch\n",
      "Training Score: 0.5829271302523601\n",
      "Validation Score: 0.5647828232971372\n",
      "Training Loss Score: 1.0891643604158625\n",
      "Validation Loss Score: 1.1425724889478635\n",
      "=============================================\n"
     ]
    },
    {
     "name": "stderr",
     "output_type": "stream",
     "text": [
      "/Users/brandenkim/miniconda3/envs/ml_env/lib/python3.9/site-packages/sklearn/neural_network/_multilayer_perceptron.py:691: ConvergenceWarning: Stochastic Optimizer: Maximum iterations (1) reached and the optimization hasn't converged yet.\n",
      "  warnings.warn(\n"
     ]
    },
    {
     "name": "stdout",
     "output_type": "stream",
     "text": [
      "=============================================\n",
      "Run for 44 epoch\n",
      "Training Score: 0.5834515949898192\n",
      "Validation Score: 0.5639190523198421\n",
      "Training Loss Score: 1.088107435069603\n",
      "Validation Loss Score: 1.1416166766231761\n",
      "=============================================\n"
     ]
    },
    {
     "name": "stderr",
     "output_type": "stream",
     "text": [
      "/Users/brandenkim/miniconda3/envs/ml_env/lib/python3.9/site-packages/sklearn/neural_network/_multilayer_perceptron.py:691: ConvergenceWarning: Stochastic Optimizer: Maximum iterations (1) reached and the optimization hasn't converged yet.\n",
      "  warnings.warn(\n"
     ]
    },
    {
     "name": "stdout",
     "output_type": "stream",
     "text": [
      "=============================================\n",
      "Run for 45 epoch\n",
      "Training Score: 0.5842537175294625\n",
      "Validation Score: 0.5631786771964462\n",
      "Training Loss Score: 1.0869844028420037\n",
      "Validation Loss Score: 1.1407200689389172\n",
      "=============================================\n"
     ]
    },
    {
     "name": "stderr",
     "output_type": "stream",
     "text": [
      "/Users/brandenkim/miniconda3/envs/ml_env/lib/python3.9/site-packages/sklearn/neural_network/_multilayer_perceptron.py:691: ConvergenceWarning: Stochastic Optimizer: Maximum iterations (1) reached and the optimization hasn't converged yet.\n",
      "  warnings.warn(\n"
     ]
    },
    {
     "name": "stdout",
     "output_type": "stream",
     "text": [
      "=============================================\n",
      "Run for 46 epoch\n",
      "Training Score: 0.5838218053927315\n",
      "Validation Score: 0.5640424481737414\n",
      "Training Loss Score: 1.086036963353689\n",
      "Validation Loss Score: 1.140050049323782\n",
      "=============================================\n"
     ]
    },
    {
     "name": "stderr",
     "output_type": "stream",
     "text": [
      "/Users/brandenkim/miniconda3/envs/ml_env/lib/python3.9/site-packages/sklearn/neural_network/_multilayer_perceptron.py:691: ConvergenceWarning: Stochastic Optimizer: Maximum iterations (1) reached and the optimization hasn't converged yet.\n",
      "  warnings.warn(\n"
     ]
    },
    {
     "name": "stdout",
     "output_type": "stream",
     "text": [
      "=============================================\n",
      "Run for 47 epoch\n",
      "Training Score: 0.5839143579934596\n",
      "Validation Score: 0.56428923988154\n",
      "Training Loss Score: 1.084993376102901\n",
      "Validation Loss Score: 1.139312160094097\n",
      "=============================================\n"
     ]
    },
    {
     "name": "stderr",
     "output_type": "stream",
     "text": [
      "/Users/brandenkim/miniconda3/envs/ml_env/lib/python3.9/site-packages/sklearn/neural_network/_multilayer_perceptron.py:691: ConvergenceWarning: Stochastic Optimizer: Maximum iterations (1) reached and the optimization hasn't converged yet.\n",
      "  warnings.warn(\n"
     ]
    },
    {
     "name": "stdout",
     "output_type": "stream",
     "text": [
      "=============================================\n",
      "Run for 48 epoch\n",
      "Training Score: 0.5840377614610971\n",
      "Validation Score: 0.5639190523198421\n",
      "Training Loss Score: 1.0840377377073247\n",
      "Validation Loss Score: 1.1386577781006058\n",
      "=============================================\n"
     ]
    },
    {
     "name": "stderr",
     "output_type": "stream",
     "text": [
      "/Users/brandenkim/miniconda3/envs/ml_env/lib/python3.9/site-packages/sklearn/neural_network/_multilayer_perceptron.py:691: ConvergenceWarning: Stochastic Optimizer: Maximum iterations (1) reached and the optimization hasn't converged yet.\n",
      "  warnings.warn(\n"
     ]
    },
    {
     "name": "stdout",
     "output_type": "stream",
     "text": [
      "=============================================\n",
      "Run for 49 epoch\n",
      "Training Score: 0.5840686123280064\n",
      "Validation Score: 0.5646594274432379\n",
      "Training Loss Score: 1.0831511264193272\n",
      "Validation Loss Score: 1.1380151314163467\n",
      "=============================================\n"
     ]
    },
    {
     "name": "stderr",
     "output_type": "stream",
     "text": [
      "/Users/brandenkim/miniconda3/envs/ml_env/lib/python3.9/site-packages/sklearn/neural_network/_multilayer_perceptron.py:691: ConvergenceWarning: Stochastic Optimizer: Maximum iterations (1) reached and the optimization hasn't converged yet.\n",
      "  warnings.warn(\n"
     ]
    },
    {
     "name": "stdout",
     "output_type": "stream",
     "text": [
      "=============================================\n",
      "Run for 50 epoch\n",
      "Training Score: 0.5840994631949158\n",
      "Validation Score: 0.5646594274432379\n",
      "Training Loss Score: 1.0822681171119442\n",
      "Validation Loss Score: 1.1374238371450307\n",
      "=============================================\n"
     ]
    },
    {
     "name": "stderr",
     "output_type": "stream",
     "text": [
      "/Users/brandenkim/miniconda3/envs/ml_env/lib/python3.9/site-packages/sklearn/neural_network/_multilayer_perceptron.py:691: ConvergenceWarning: Stochastic Optimizer: Maximum iterations (1) reached and the optimization hasn't converged yet.\n",
      "  warnings.warn(\n"
     ]
    },
    {
     "name": "stdout",
     "output_type": "stream",
     "text": [
      "=============================================\n",
      "Run for 51 epoch\n",
      "Training Score: 0.5840069105941877\n",
      "Validation Score: 0.5645360315893386\n",
      "Training Loss Score: 1.0814296982236828\n",
      "Validation Loss Score: 1.1368031905846134\n",
      "=============================================\n"
     ]
    },
    {
     "name": "stderr",
     "output_type": "stream",
     "text": [
      "/Users/brandenkim/miniconda3/envs/ml_env/lib/python3.9/site-packages/sklearn/neural_network/_multilayer_perceptron.py:691: ConvergenceWarning: Stochastic Optimizer: Maximum iterations (1) reached and the optimization hasn't converged yet.\n",
      "  warnings.warn(\n"
     ]
    },
    {
     "name": "stdout",
     "output_type": "stream",
     "text": [
      "=============================================\n",
      "Run for 52 epoch\n",
      "Training Score: 0.5843771209971\n",
      "Validation Score: 0.5644126357354393\n",
      "Training Loss Score: 1.0806820145769112\n",
      "Validation Loss Score: 1.1363163942382757\n",
      "=============================================\n"
     ]
    },
    {
     "name": "stderr",
     "output_type": "stream",
     "text": [
      "/Users/brandenkim/miniconda3/envs/ml_env/lib/python3.9/site-packages/sklearn/neural_network/_multilayer_perceptron.py:691: ConvergenceWarning: Stochastic Optimizer: Maximum iterations (1) reached and the optimization hasn't converged yet.\n",
      "  warnings.warn(\n"
     ]
    },
    {
     "name": "stdout",
     "output_type": "stream",
     "text": [
      "=============================================\n",
      "Run for 53 epoch\n",
      "Training Score: 0.5850249892021966\n",
      "Validation Score: 0.5641658440276407\n",
      "Training Loss Score: 1.079901656918828\n",
      "Validation Loss Score: 1.1356437631749623\n",
      "=============================================\n"
     ]
    },
    {
     "name": "stderr",
     "output_type": "stream",
     "text": [
      "/Users/brandenkim/miniconda3/envs/ml_env/lib/python3.9/site-packages/sklearn/neural_network/_multilayer_perceptron.py:691: ConvergenceWarning: Stochastic Optimizer: Maximum iterations (1) reached and the optimization hasn't converged yet.\n",
      "  warnings.warn(\n"
     ]
    },
    {
     "name": "stdout",
     "output_type": "stream",
     "text": [
      "=============================================\n",
      "Run for 54 epoch\n",
      "Training Score: 0.5850558400691059\n",
      "Validation Score: 0.5639190523198421\n",
      "Training Loss Score: 1.0791231708010949\n",
      "Validation Loss Score: 1.1349912078568531\n",
      "=============================================\n"
     ]
    },
    {
     "name": "stderr",
     "output_type": "stream",
     "text": [
      "/Users/brandenkim/miniconda3/envs/ml_env/lib/python3.9/site-packages/sklearn/neural_network/_multilayer_perceptron.py:691: ConvergenceWarning: Stochastic Optimizer: Maximum iterations (1) reached and the optimization hasn't converged yet.\n",
      "  warnings.warn(\n"
     ]
    },
    {
     "name": "stdout",
     "output_type": "stream",
     "text": [
      "=============================================\n",
      "Run for 55 epoch\n",
      "Training Score: 0.58582711174184\n",
      "Validation Score: 0.5647828232971372\n",
      "Training Loss Score: 1.0783921831538723\n",
      "Validation Loss Score: 1.1344417984872042\n",
      "=============================================\n"
     ]
    },
    {
     "name": "stderr",
     "output_type": "stream",
     "text": [
      "/Users/brandenkim/miniconda3/envs/ml_env/lib/python3.9/site-packages/sklearn/neural_network/_multilayer_perceptron.py:691: ConvergenceWarning: Stochastic Optimizer: Maximum iterations (1) reached and the optimization hasn't converged yet.\n",
      "  warnings.warn(\n"
     ]
    },
    {
     "name": "stdout",
     "output_type": "stream",
     "text": [
      "=============================================\n",
      "Run for 56 epoch\n",
      "Training Score: 0.5863207256123897\n",
      "Validation Score: 0.5640424481737414\n",
      "Training Loss Score: 1.0776735605949708\n",
      "Validation Loss Score: 1.1339530375199505\n",
      "=============================================\n"
     ]
    },
    {
     "name": "stderr",
     "output_type": "stream",
     "text": [
      "/Users/brandenkim/miniconda3/envs/ml_env/lib/python3.9/site-packages/sklearn/neural_network/_multilayer_perceptron.py:691: ConvergenceWarning: Stochastic Optimizer: Maximum iterations (1) reached and the optimization hasn't converged yet.\n",
      "  warnings.warn(\n"
     ]
    },
    {
     "name": "stdout",
     "output_type": "stream",
     "text": [
      "=============================================\n",
      "Run for 57 epoch\n",
      "Training Score: 0.585919664342568\n",
      "Validation Score: 0.5644126357354393\n",
      "Training Loss Score: 1.0769819763089818\n",
      "Validation Loss Score: 1.133412135801981\n",
      "=============================================\n"
     ]
    },
    {
     "name": "stderr",
     "output_type": "stream",
     "text": [
      "/Users/brandenkim/miniconda3/envs/ml_env/lib/python3.9/site-packages/sklearn/neural_network/_multilayer_perceptron.py:691: ConvergenceWarning: Stochastic Optimizer: Maximum iterations (1) reached and the optimization hasn't converged yet.\n",
      "  warnings.warn(\n"
     ]
    },
    {
     "name": "stdout",
     "output_type": "stream",
     "text": [
      "=============================================\n",
      "Run for 58 epoch\n",
      "Training Score: 0.5864441290800272\n",
      "Validation Score: 0.5639190523198421\n",
      "Training Loss Score: 1.076384335253753\n",
      "Validation Loss Score: 1.1329461968527121\n",
      "=============================================\n"
     ]
    },
    {
     "name": "stderr",
     "output_type": "stream",
     "text": [
      "/Users/brandenkim/miniconda3/envs/ml_env/lib/python3.9/site-packages/sklearn/neural_network/_multilayer_perceptron.py:691: ConvergenceWarning: Stochastic Optimizer: Maximum iterations (1) reached and the optimization hasn't converged yet.\n",
      "  warnings.warn(\n"
     ]
    },
    {
     "name": "stdout",
     "output_type": "stream",
     "text": [
      "=============================================\n",
      "Run for 59 epoch\n",
      "Training Score: 0.5867834886160301\n",
      "Validation Score: 0.5649062191510366\n",
      "Training Loss Score: 1.0757793756087852\n",
      "Validation Loss Score: 1.132428487637312\n",
      "=============================================\n"
     ]
    },
    {
     "name": "stderr",
     "output_type": "stream",
     "text": [
      "/Users/brandenkim/miniconda3/envs/ml_env/lib/python3.9/site-packages/sklearn/neural_network/_multilayer_perceptron.py:691: ConvergenceWarning: Stochastic Optimizer: Maximum iterations (1) reached and the optimization hasn't converged yet.\n",
      "  warnings.warn(\n"
     ]
    },
    {
     "name": "stdout",
     "output_type": "stream",
     "text": [
      "=============================================\n",
      "Run for 60 epoch\n",
      "Training Score: 0.5866600851483926\n",
      "Validation Score: 0.5650296150049359\n",
      "Training Loss Score: 1.0752169913280771\n",
      "Validation Loss Score: 1.1321169286263055\n",
      "=============================================\n"
     ]
    },
    {
     "name": "stderr",
     "output_type": "stream",
     "text": [
      "/Users/brandenkim/miniconda3/envs/ml_env/lib/python3.9/site-packages/sklearn/neural_network/_multilayer_perceptron.py:691: ConvergenceWarning: Stochastic Optimizer: Maximum iterations (1) reached and the optimization hasn't converged yet.\n",
      "  warnings.warn(\n"
     ]
    },
    {
     "name": "stdout",
     "output_type": "stream",
     "text": [
      "=============================================\n",
      "Run for 61 epoch\n",
      "Training Score: 0.5868451903498488\n",
      "Validation Score: 0.5656465942744324\n",
      "Training Loss Score: 1.0746487924651071\n",
      "Validation Loss Score: 1.1316522237691256\n",
      "=============================================\n"
     ]
    },
    {
     "name": "stderr",
     "output_type": "stream",
     "text": [
      "/Users/brandenkim/miniconda3/envs/ml_env/lib/python3.9/site-packages/sklearn/neural_network/_multilayer_perceptron.py:691: ConvergenceWarning: Stochastic Optimizer: Maximum iterations (1) reached and the optimization hasn't converged yet.\n",
      "  warnings.warn(\n"
     ]
    },
    {
     "name": "stdout",
     "output_type": "stream",
     "text": [
      "=============================================\n",
      "Run for 62 epoch\n",
      "Training Score: 0.5866600851483926\n",
      "Validation Score: 0.5657699901283317\n",
      "Training Loss Score: 1.0741064256949258\n",
      "Validation Loss Score: 1.131192330613458\n",
      "=============================================\n"
     ]
    },
    {
     "name": "stderr",
     "output_type": "stream",
     "text": [
      "/Users/brandenkim/miniconda3/envs/ml_env/lib/python3.9/site-packages/sklearn/neural_network/_multilayer_perceptron.py:691: ConvergenceWarning: Stochastic Optimizer: Maximum iterations (1) reached and the optimization hasn't converged yet.\n",
      "  warnings.warn(\n"
     ]
    },
    {
     "name": "stdout",
     "output_type": "stream",
     "text": [
      "=============================================\n",
      "Run for 63 epoch\n",
      "Training Score: 0.5864749799469365\n",
      "Validation Score: 0.5657699901283317\n",
      "Training Loss Score: 1.0735449618926565\n",
      "Validation Loss Score: 1.1306945954899328\n",
      "=============================================\n"
     ]
    },
    {
     "name": "stderr",
     "output_type": "stream",
     "text": [
      "/Users/brandenkim/miniconda3/envs/ml_env/lib/python3.9/site-packages/sklearn/neural_network/_multilayer_perceptron.py:691: ConvergenceWarning: Stochastic Optimizer: Maximum iterations (1) reached and the optimization hasn't converged yet.\n",
      "  warnings.warn(\n"
     ]
    },
    {
     "name": "stdout",
     "output_type": "stream",
     "text": [
      "=============================================\n",
      "Run for 64 epoch\n",
      "Training Score: 0.5863207256123897\n",
      "Validation Score: 0.5663869693978283\n",
      "Training Loss Score: 1.0730410944984654\n",
      "Validation Loss Score: 1.130279697985274\n",
      "=============================================\n"
     ]
    },
    {
     "name": "stderr",
     "output_type": "stream",
     "text": [
      "/Users/brandenkim/miniconda3/envs/ml_env/lib/python3.9/site-packages/sklearn/neural_network/_multilayer_perceptron.py:691: ConvergenceWarning: Stochastic Optimizer: Maximum iterations (1) reached and the optimization hasn't converged yet.\n",
      "  warnings.warn(\n"
     ]
    },
    {
     "name": "stdout",
     "output_type": "stream",
     "text": [
      "=============================================\n",
      "Run for 65 epoch\n",
      "Training Score: 0.5865058308138459\n",
      "Validation Score: 0.5660167818361304\n",
      "Training Loss Score: 1.0724800047009289\n",
      "Validation Loss Score: 1.1298172918286744\n",
      "=============================================\n"
     ]
    },
    {
     "name": "stderr",
     "output_type": "stream",
     "text": [
      "/Users/brandenkim/miniconda3/envs/ml_env/lib/python3.9/site-packages/sklearn/neural_network/_multilayer_perceptron.py:691: ConvergenceWarning: Stochastic Optimizer: Maximum iterations (1) reached and the optimization hasn't converged yet.\n",
      "  warnings.warn(\n"
     ]
    },
    {
     "name": "stdout",
     "output_type": "stream",
     "text": [
      "=============================================\n",
      "Run for 66 epoch\n",
      "Training Score: 0.5868143394829395\n",
      "Validation Score: 0.5666337611056268\n",
      "Training Loss Score: 1.0719064596459174\n",
      "Validation Loss Score: 1.1293676973686742\n",
      "=============================================\n"
     ]
    },
    {
     "name": "stderr",
     "output_type": "stream",
     "text": [
      "/Users/brandenkim/miniconda3/envs/ml_env/lib/python3.9/site-packages/sklearn/neural_network/_multilayer_perceptron.py:691: ConvergenceWarning: Stochastic Optimizer: Maximum iterations (1) reached and the optimization hasn't converged yet.\n",
      "  warnings.warn(\n"
     ]
    },
    {
     "name": "stdout",
     "output_type": "stream",
     "text": [
      "=============================================\n",
      "Run for 67 epoch\n",
      "Training Score: 0.5867834886160301\n",
      "Validation Score: 0.5672507403751234\n",
      "Training Loss Score: 1.071398865735205\n",
      "Validation Loss Score: 1.1289366443546491\n",
      "=============================================\n"
     ]
    },
    {
     "name": "stderr",
     "output_type": "stream",
     "text": [
      "/Users/brandenkim/miniconda3/envs/ml_env/lib/python3.9/site-packages/sklearn/neural_network/_multilayer_perceptron.py:691: ConvergenceWarning: Stochastic Optimizer: Maximum iterations (1) reached and the optimization hasn't converged yet.\n",
      "  warnings.warn(\n"
     ]
    },
    {
     "name": "stdout",
     "output_type": "stream",
     "text": [
      "=============================================\n",
      "Run for 68 epoch\n",
      "Training Score: 0.5873388042203986\n",
      "Validation Score: 0.5668805528134254\n",
      "Training Loss Score: 1.0709101448986253\n",
      "Validation Loss Score: 1.1285232257757936\n",
      "=============================================\n"
     ]
    },
    {
     "name": "stderr",
     "output_type": "stream",
     "text": [
      "/Users/brandenkim/miniconda3/envs/ml_env/lib/python3.9/site-packages/sklearn/neural_network/_multilayer_perceptron.py:691: ConvergenceWarning: Stochastic Optimizer: Maximum iterations (1) reached and the optimization hasn't converged yet.\n",
      "  warnings.warn(\n"
     ]
    },
    {
     "name": "stdout",
     "output_type": "stream",
     "text": [
      "=============================================\n",
      "Run for 69 epoch\n",
      "Training Score: 0.5872462516196705\n",
      "Validation Score: 0.5667571569595261\n",
      "Training Loss Score: 1.0703716856317402\n",
      "Validation Loss Score: 1.128029031107153\n",
      "=============================================\n"
     ]
    },
    {
     "name": "stderr",
     "output_type": "stream",
     "text": [
      "/Users/brandenkim/miniconda3/envs/ml_env/lib/python3.9/site-packages/sklearn/neural_network/_multilayer_perceptron.py:691: ConvergenceWarning: Stochastic Optimizer: Maximum iterations (1) reached and the optimization hasn't converged yet.\n",
      "  warnings.warn(\n"
     ]
    },
    {
     "name": "stdout",
     "output_type": "stream",
     "text": [
      "=============================================\n",
      "Run for 70 epoch\n",
      "Training Score: 0.5872771024865798\n",
      "Validation Score: 0.5668805528134254\n",
      "Training Loss Score: 1.0699059230634038\n",
      "Validation Loss Score: 1.127652107582259\n",
      "=============================================\n"
     ]
    },
    {
     "name": "stderr",
     "output_type": "stream",
     "text": [
      "/Users/brandenkim/miniconda3/envs/ml_env/lib/python3.9/site-packages/sklearn/neural_network/_multilayer_perceptron.py:691: ConvergenceWarning: Stochastic Optimizer: Maximum iterations (1) reached and the optimization hasn't converged yet.\n",
      "  warnings.warn(\n"
     ]
    },
    {
     "name": "stdout",
     "output_type": "stream",
     "text": [
      "=============================================\n",
      "Run for 71 epoch\n",
      "Training Score: 0.5875239094218547\n",
      "Validation Score: 0.567127344521224\n",
      "Training Loss Score: 1.0694193180830411\n",
      "Validation Loss Score: 1.127256235824468\n",
      "=============================================\n"
     ]
    },
    {
     "name": "stderr",
     "output_type": "stream",
     "text": [
      "/Users/brandenkim/miniconda3/envs/ml_env/lib/python3.9/site-packages/sklearn/neural_network/_multilayer_perceptron.py:691: ConvergenceWarning: Stochastic Optimizer: Maximum iterations (1) reached and the optimization hasn't converged yet.\n",
      "  warnings.warn(\n"
     ]
    },
    {
     "name": "stdout",
     "output_type": "stream",
     "text": [
      "=============================================\n",
      "Run for 72 epoch\n",
      "Training Score: 0.5876781637564016\n",
      "Validation Score: 0.5665103652517275\n",
      "Training Loss Score: 1.068975324194498\n",
      "Validation Loss Score: 1.126903207978476\n",
      "=============================================\n"
     ]
    },
    {
     "name": "stderr",
     "output_type": "stream",
     "text": [
      "/Users/brandenkim/miniconda3/envs/ml_env/lib/python3.9/site-packages/sklearn/neural_network/_multilayer_perceptron.py:691: ConvergenceWarning: Stochastic Optimizer: Maximum iterations (1) reached and the optimization hasn't converged yet.\n",
      "  warnings.warn(\n"
     ]
    },
    {
     "name": "stdout",
     "output_type": "stream",
     "text": [
      "=============================================\n",
      "Run for 73 epoch\n",
      "Training Score: 0.5877090146233109\n",
      "Validation Score: 0.5661401776900297\n",
      "Training Loss Score: 1.0685171289140667\n",
      "Validation Loss Score: 1.1264827923607996\n",
      "=============================================\n"
     ]
    },
    {
     "name": "stderr",
     "output_type": "stream",
     "text": [
      "/Users/brandenkim/miniconda3/envs/ml_env/lib/python3.9/site-packages/sklearn/neural_network/_multilayer_perceptron.py:691: ConvergenceWarning: Stochastic Optimizer: Maximum iterations (1) reached and the optimization hasn't converged yet.\n",
      "  warnings.warn(\n"
     ]
    },
    {
     "name": "stdout",
     "output_type": "stream",
     "text": [
      "=============================================\n",
      "Run for 74 epoch\n",
      "Training Score: 0.5879558215585858\n",
      "Validation Score: 0.5661401776900297\n",
      "Training Loss Score: 1.0681073112733706\n",
      "Validation Loss Score: 1.1260886032240196\n",
      "=============================================\n"
     ]
    },
    {
     "name": "stderr",
     "output_type": "stream",
     "text": [
      "/Users/brandenkim/miniconda3/envs/ml_env/lib/python3.9/site-packages/sklearn/neural_network/_multilayer_perceptron.py:691: ConvergenceWarning: Stochastic Optimizer: Maximum iterations (1) reached and the optimization hasn't converged yet.\n",
      "  warnings.warn(\n"
     ]
    },
    {
     "name": "stdout",
     "output_type": "stream",
     "text": [
      "=============================================\n",
      "Run for 75 epoch\n",
      "Training Score: 0.5880175232924045\n",
      "Validation Score: 0.5655231984205331\n",
      "Training Loss Score: 1.067666801732775\n",
      "Validation Loss Score: 1.125665052537303\n",
      "=============================================\n"
     ]
    },
    {
     "name": "stderr",
     "output_type": "stream",
     "text": [
      "/Users/brandenkim/miniconda3/envs/ml_env/lib/python3.9/site-packages/sklearn/neural_network/_multilayer_perceptron.py:691: ConvergenceWarning: Stochastic Optimizer: Maximum iterations (1) reached and the optimization hasn't converged yet.\n",
      "  warnings.warn(\n"
     ]
    },
    {
     "name": "stdout",
     "output_type": "stream",
     "text": [
      "=============================================\n",
      "Run for 76 epoch\n",
      "Training Score: 0.5883568828284075\n",
      "Validation Score: 0.5649062191510366\n",
      "Training Loss Score: 1.067086728912247\n",
      "Validation Loss Score: 1.1250848435588001\n",
      "=============================================\n"
     ]
    },
    {
     "name": "stderr",
     "output_type": "stream",
     "text": [
      "/Users/brandenkim/miniconda3/envs/ml_env/lib/python3.9/site-packages/sklearn/neural_network/_multilayer_perceptron.py:691: ConvergenceWarning: Stochastic Optimizer: Maximum iterations (1) reached and the optimization hasn't converged yet.\n",
      "  warnings.warn(\n"
     ]
    },
    {
     "name": "stdout",
     "output_type": "stream",
     "text": [
      "=============================================\n",
      "Run for 77 epoch\n",
      "Training Score: 0.5883568828284075\n",
      "Validation Score: 0.5652764067127345\n",
      "Training Loss Score: 1.0666518175430997\n",
      "Validation Loss Score: 1.1246787719555877\n",
      "=============================================\n"
     ]
    },
    {
     "name": "stderr",
     "output_type": "stream",
     "text": [
      "/Users/brandenkim/miniconda3/envs/ml_env/lib/python3.9/site-packages/sklearn/neural_network/_multilayer_perceptron.py:691: ConvergenceWarning: Stochastic Optimizer: Maximum iterations (1) reached and the optimization hasn't converged yet.\n",
      "  warnings.warn(\n"
     ]
    },
    {
     "name": "stdout",
     "output_type": "stream",
     "text": [
      "=============================================\n",
      "Run for 78 epoch\n",
      "Training Score: 0.5886036897636824\n",
      "Validation Score: 0.5653998025666338\n",
      "Training Loss Score: 1.0661265621695746\n",
      "Validation Loss Score: 1.1242852373322205\n",
      "=============================================\n"
     ]
    },
    {
     "name": "stderr",
     "output_type": "stream",
     "text": [
      "/Users/brandenkim/miniconda3/envs/ml_env/lib/python3.9/site-packages/sklearn/neural_network/_multilayer_perceptron.py:691: ConvergenceWarning: Stochastic Optimizer: Maximum iterations (1) reached and the optimization hasn't converged yet.\n",
      "  warnings.warn(\n"
     ]
    },
    {
     "name": "stdout",
     "output_type": "stream",
     "text": [
      "=============================================\n",
      "Run for 79 epoch\n",
      "Training Score: 0.5883568828284075\n",
      "Validation Score: 0.5665103652517275\n",
      "Training Loss Score: 1.0657154533257116\n",
      "Validation Loss Score: 1.1240722128245457\n",
      "=============================================\n"
     ]
    },
    {
     "name": "stderr",
     "output_type": "stream",
     "text": [
      "/Users/brandenkim/miniconda3/envs/ml_env/lib/python3.9/site-packages/sklearn/neural_network/_multilayer_perceptron.py:691: ConvergenceWarning: Stochastic Optimizer: Maximum iterations (1) reached and the optimization hasn't converged yet.\n",
      "  warnings.warn(\n"
     ]
    },
    {
     "name": "stdout",
     "output_type": "stream",
     "text": [
      "=============================================\n",
      "Run for 80 epoch\n",
      "Training Score: 0.5886962423644104\n",
      "Validation Score: 0.5666337611056268\n",
      "Training Loss Score: 1.0652612771371854\n",
      "Validation Loss Score: 1.123769845494444\n",
      "=============================================\n"
     ]
    },
    {
     "name": "stderr",
     "output_type": "stream",
     "text": [
      "/Users/brandenkim/miniconda3/envs/ml_env/lib/python3.9/site-packages/sklearn/neural_network/_multilayer_perceptron.py:691: ConvergenceWarning: Stochastic Optimizer: Maximum iterations (1) reached and the optimization hasn't converged yet.\n",
      "  warnings.warn(\n"
     ]
    },
    {
     "name": "stdout",
     "output_type": "stream",
     "text": [
      "=============================================\n",
      "Run for 81 epoch\n",
      "Training Score: 0.5894366631702351\n",
      "Validation Score: 0.566263573543929\n",
      "Training Loss Score: 1.0647690949036055\n",
      "Validation Loss Score: 1.1234103514207132\n",
      "=============================================\n"
     ]
    },
    {
     "name": "stderr",
     "output_type": "stream",
     "text": [
      "/Users/brandenkim/miniconda3/envs/ml_env/lib/python3.9/site-packages/sklearn/neural_network/_multilayer_perceptron.py:691: ConvergenceWarning: Stochastic Optimizer: Maximum iterations (1) reached and the optimization hasn't converged yet.\n",
      "  warnings.warn(\n"
     ]
    },
    {
     "name": "stdout",
     "output_type": "stream",
     "text": [
      "=============================================\n",
      "Run for 82 epoch\n",
      "Training Score: 0.5898994261738755\n",
      "Validation Score: 0.566263573543929\n",
      "Training Loss Score: 1.064322171815551\n",
      "Validation Loss Score: 1.1230809331053886\n",
      "=============================================\n"
     ]
    },
    {
     "name": "stderr",
     "output_type": "stream",
     "text": [
      "/Users/brandenkim/miniconda3/envs/ml_env/lib/python3.9/site-packages/sklearn/neural_network/_multilayer_perceptron.py:691: ConvergenceWarning: Stochastic Optimizer: Maximum iterations (1) reached and the optimization hasn't converged yet.\n",
      "  warnings.warn(\n"
     ]
    },
    {
     "name": "stdout",
     "output_type": "stream",
     "text": [
      "=============================================\n",
      "Run for 83 epoch\n",
      "Training Score: 0.5898685753069661\n",
      "Validation Score: 0.567127344521224\n",
      "Training Loss Score: 1.0639368018035127\n",
      "Validation Loss Score: 1.1227083616012303\n",
      "=============================================\n"
     ]
    },
    {
     "name": "stderr",
     "output_type": "stream",
     "text": [
      "/Users/brandenkim/miniconda3/envs/ml_env/lib/python3.9/site-packages/sklearn/neural_network/_multilayer_perceptron.py:691: ConvergenceWarning: Stochastic Optimizer: Maximum iterations (1) reached and the optimization hasn't converged yet.\n",
      "  warnings.warn(\n"
     ]
    },
    {
     "name": "stdout",
     "output_type": "stream",
     "text": [
      "=============================================\n",
      "Run for 84 epoch\n",
      "Training Score: 0.5904238909113346\n",
      "Validation Score: 0.5668805528134254\n",
      "Training Loss Score: 1.0635045522594855\n",
      "Validation Loss Score: 1.1223131414940286\n",
      "=============================================\n"
     ]
    },
    {
     "name": "stderr",
     "output_type": "stream",
     "text": [
      "/Users/brandenkim/miniconda3/envs/ml_env/lib/python3.9/site-packages/sklearn/neural_network/_multilayer_perceptron.py:691: ConvergenceWarning: Stochastic Optimizer: Maximum iterations (1) reached and the optimization hasn't converged yet.\n",
      "  warnings.warn(\n"
     ]
    },
    {
     "name": "stdout",
     "output_type": "stream",
     "text": [
      "=============================================\n",
      "Run for 85 epoch\n",
      "Training Score: 0.5905164435120627\n",
      "Validation Score: 0.5665103652517275\n",
      "Training Loss Score: 1.0630497977440192\n",
      "Validation Loss Score: 1.1219636158561972\n",
      "=============================================\n"
     ]
    },
    {
     "name": "stderr",
     "output_type": "stream",
     "text": [
      "/Users/brandenkim/miniconda3/envs/ml_env/lib/python3.9/site-packages/sklearn/neural_network/_multilayer_perceptron.py:691: ConvergenceWarning: Stochastic Optimizer: Maximum iterations (1) reached and the optimization hasn't converged yet.\n",
      "  warnings.warn(\n"
     ]
    },
    {
     "name": "stdout",
     "output_type": "stream",
     "text": [
      "=============================================\n",
      "Run for 86 epoch\n",
      "Training Score: 0.5907015487135189\n",
      "Validation Score: 0.5668805528134254\n",
      "Training Loss Score: 1.062628644016417\n",
      "Validation Loss Score: 1.1216298230333464\n",
      "=============================================\n"
     ]
    },
    {
     "name": "stderr",
     "output_type": "stream",
     "text": [
      "/Users/brandenkim/miniconda3/envs/ml_env/lib/python3.9/site-packages/sklearn/neural_network/_multilayer_perceptron.py:691: ConvergenceWarning: Stochastic Optimizer: Maximum iterations (1) reached and the optimization hasn't converged yet.\n",
      "  warnings.warn(\n"
     ]
    },
    {
     "name": "stdout",
     "output_type": "stream",
     "text": [
      "=============================================\n",
      "Run for 87 epoch\n",
      "Training Score: 0.5903004874436971\n",
      "Validation Score: 0.567497532082922\n",
      "Training Loss Score: 1.0622767183252348\n",
      "Validation Loss Score: 1.1211710420968066\n",
      "=============================================\n"
     ]
    },
    {
     "name": "stderr",
     "output_type": "stream",
     "text": [
      "/Users/brandenkim/miniconda3/envs/ml_env/lib/python3.9/site-packages/sklearn/neural_network/_multilayer_perceptron.py:691: ConvergenceWarning: Stochastic Optimizer: Maximum iterations (1) reached and the optimization hasn't converged yet.\n",
      "  warnings.warn(\n"
     ]
    },
    {
     "name": "stdout",
     "output_type": "stream",
     "text": [
      "=============================================\n",
      "Run for 88 epoch\n",
      "Training Score: 0.5903313383106066\n",
      "Validation Score: 0.5677443237907206\n",
      "Training Loss Score: 1.0619259977133517\n",
      "Validation Loss Score: 1.1208853372798595\n",
      "=============================================\n"
     ]
    },
    {
     "name": "stderr",
     "output_type": "stream",
     "text": [
      "/Users/brandenkim/miniconda3/envs/ml_env/lib/python3.9/site-packages/sklearn/neural_network/_multilayer_perceptron.py:691: ConvergenceWarning: Stochastic Optimizer: Maximum iterations (1) reached and the optimization hasn't converged yet.\n",
      "  warnings.warn(\n"
     ]
    },
    {
     "name": "stdout",
     "output_type": "stream",
     "text": [
      "=============================================\n",
      "Run for 89 epoch\n",
      "Training Score: 0.5905164435120627\n",
      "Validation Score: 0.5687314906219151\n",
      "Training Loss Score: 1.0614734620455415\n",
      "Validation Loss Score: 1.1203558578357167\n",
      "=============================================\n"
     ]
    },
    {
     "name": "stderr",
     "output_type": "stream",
     "text": [
      "/Users/brandenkim/miniconda3/envs/ml_env/lib/python3.9/site-packages/sklearn/neural_network/_multilayer_perceptron.py:691: ConvergenceWarning: Stochastic Optimizer: Maximum iterations (1) reached and the optimization hasn't converged yet.\n",
      "  warnings.warn(\n"
     ]
    },
    {
     "name": "stdout",
     "output_type": "stream",
     "text": [
      "=============================================\n",
      "Run for 90 epoch\n",
      "Training Score: 0.5909792065157031\n",
      "Validation Score: 0.5692250740375123\n",
      "Training Loss Score: 1.0610920903122285\n",
      "Validation Loss Score: 1.120010273105414\n",
      "=============================================\n"
     ]
    },
    {
     "name": "stderr",
     "output_type": "stream",
     "text": [
      "/Users/brandenkim/miniconda3/envs/ml_env/lib/python3.9/site-packages/sklearn/neural_network/_multilayer_perceptron.py:691: ConvergenceWarning: Stochastic Optimizer: Maximum iterations (1) reached and the optimization hasn't converged yet.\n",
      "  warnings.warn(\n"
     ]
    },
    {
     "name": "stdout",
     "output_type": "stream",
     "text": [
      "=============================================\n",
      "Run for 91 epoch\n",
      "Training Score: 0.5912568643178874\n",
      "Validation Score: 0.5692250740375123\n",
      "Training Loss Score: 1.0606943537060567\n",
      "Validation Loss Score: 1.1197950904487195\n",
      "=============================================\n"
     ]
    },
    {
     "name": "stderr",
     "output_type": "stream",
     "text": [
      "/Users/brandenkim/miniconda3/envs/ml_env/lib/python3.9/site-packages/sklearn/neural_network/_multilayer_perceptron.py:691: ConvergenceWarning: Stochastic Optimizer: Maximum iterations (1) reached and the optimization hasn't converged yet.\n",
      "  warnings.warn(\n"
     ]
    },
    {
     "name": "stdout",
     "output_type": "stream",
     "text": [
      "=============================================\n",
      "Run for 92 epoch\n",
      "Training Score: 0.5914419695193435\n",
      "Validation Score: 0.5693484698914116\n",
      "Training Loss Score: 1.0603408356418063\n",
      "Validation Loss Score: 1.1193983335112692\n",
      "=============================================\n"
     ]
    },
    {
     "name": "stderr",
     "output_type": "stream",
     "text": [
      "/Users/brandenkim/miniconda3/envs/ml_env/lib/python3.9/site-packages/sklearn/neural_network/_multilayer_perceptron.py:691: ConvergenceWarning: Stochastic Optimizer: Maximum iterations (1) reached and the optimization hasn't converged yet.\n",
      "  warnings.warn(\n"
     ]
    },
    {
     "name": "stdout",
     "output_type": "stream",
     "text": [
      "=============================================\n",
      "Run for 93 epoch\n",
      "Training Score: 0.5913494169186154\n",
      "Validation Score: 0.5695952615992103\n",
      "Training Loss Score: 1.0599080248987829\n",
      "Validation Loss Score: 1.1190088438304242\n",
      "=============================================\n"
     ]
    },
    {
     "name": "stderr",
     "output_type": "stream",
     "text": [
      "/Users/brandenkim/miniconda3/envs/ml_env/lib/python3.9/site-packages/sklearn/neural_network/_multilayer_perceptron.py:691: ConvergenceWarning: Stochastic Optimizer: Maximum iterations (1) reached and the optimization hasn't converged yet.\n",
      "  warnings.warn(\n"
     ]
    },
    {
     "name": "stdout",
     "output_type": "stream",
     "text": [
      "=============================================\n",
      "Run for 94 epoch\n",
      "Training Score: 0.5914111186524341\n",
      "Validation Score: 0.5693484698914116\n",
      "Training Loss Score: 1.059574102230329\n",
      "Validation Loss Score: 1.1187819168527464\n",
      "=============================================\n"
     ]
    },
    {
     "name": "stderr",
     "output_type": "stream",
     "text": [
      "/Users/brandenkim/miniconda3/envs/ml_env/lib/python3.9/site-packages/sklearn/neural_network/_multilayer_perceptron.py:691: ConvergenceWarning: Stochastic Optimizer: Maximum iterations (1) reached and the optimization hasn't converged yet.\n",
      "  warnings.warn(\n"
     ]
    },
    {
     "name": "stdout",
     "output_type": "stream",
     "text": [
      "=============================================\n",
      "Run for 95 epoch\n",
      "Training Score: 0.5915345221200716\n",
      "Validation Score: 0.5695952615992103\n",
      "Training Loss Score: 1.0591822624914318\n",
      "Validation Loss Score: 1.1184892541277538\n",
      "=============================================\n"
     ]
    },
    {
     "name": "stderr",
     "output_type": "stream",
     "text": [
      "/Users/brandenkim/miniconda3/envs/ml_env/lib/python3.9/site-packages/sklearn/neural_network/_multilayer_perceptron.py:691: ConvergenceWarning: Stochastic Optimizer: Maximum iterations (1) reached and the optimization hasn't converged yet.\n",
      "  warnings.warn(\n"
     ]
    },
    {
     "name": "stdout",
     "output_type": "stream",
     "text": [
      "=============================================\n",
      "Run for 96 epoch\n",
      "Training Score: 0.5915962238538903\n",
      "Validation Score: 0.5695952615992103\n",
      "Training Loss Score: 1.058816473117506\n",
      "Validation Loss Score: 1.1182992528813536\n",
      "=============================================\n"
     ]
    },
    {
     "name": "stderr",
     "output_type": "stream",
     "text": [
      "/Users/brandenkim/miniconda3/envs/ml_env/lib/python3.9/site-packages/sklearn/neural_network/_multilayer_perceptron.py:691: ConvergenceWarning: Stochastic Optimizer: Maximum iterations (1) reached and the optimization hasn't converged yet.\n",
      "  warnings.warn(\n"
     ]
    },
    {
     "name": "stdout",
     "output_type": "stream",
     "text": [
      "=============================================\n",
      "Run for 97 epoch\n",
      "Training Score: 0.5914111186524341\n",
      "Validation Score: 0.569471865745311\n",
      "Training Loss Score: 1.0583911427362278\n",
      "Validation Loss Score: 1.1179796364567887\n",
      "=============================================\n"
     ]
    },
    {
     "name": "stderr",
     "output_type": "stream",
     "text": [
      "/Users/brandenkim/miniconda3/envs/ml_env/lib/python3.9/site-packages/sklearn/neural_network/_multilayer_perceptron.py:691: ConvergenceWarning: Stochastic Optimizer: Maximum iterations (1) reached and the optimization hasn't converged yet.\n",
      "  warnings.warn(\n"
     ]
    },
    {
     "name": "stdout",
     "output_type": "stream",
     "text": [
      "=============================================\n",
      "Run for 98 epoch\n",
      "Training Score: 0.5919664342568026\n",
      "Validation Score: 0.5697186574531096\n",
      "Training Loss Score: 1.0580146956645944\n",
      "Validation Loss Score: 1.1176236418677044\n",
      "=============================================\n"
     ]
    },
    {
     "name": "stderr",
     "output_type": "stream",
     "text": [
      "/Users/brandenkim/miniconda3/envs/ml_env/lib/python3.9/site-packages/sklearn/neural_network/_multilayer_perceptron.py:691: ConvergenceWarning: Stochastic Optimizer: Maximum iterations (1) reached and the optimization hasn't converged yet.\n",
      "  warnings.warn(\n"
     ]
    },
    {
     "name": "stdout",
     "output_type": "stream",
     "text": [
      "=============================================\n",
      "Run for 99 epoch\n",
      "Training Score: 0.5920281359906213\n",
      "Validation Score: 0.5698420533070089\n",
      "Training Loss Score: 1.0576807599597486\n",
      "Validation Loss Score: 1.1173573890119388\n",
      "=============================================\n"
     ]
    },
    {
     "name": "stderr",
     "output_type": "stream",
     "text": [
      "/Users/brandenkim/miniconda3/envs/ml_env/lib/python3.9/site-packages/sklearn/neural_network/_multilayer_perceptron.py:691: ConvergenceWarning: Stochastic Optimizer: Maximum iterations (1) reached and the optimization hasn't converged yet.\n",
      "  warnings.warn(\n"
     ]
    },
    {
     "name": "stdout",
     "output_type": "stream",
     "text": [
      "=============================================\n",
      "Run for 100 epoch\n",
      "Training Score: 0.591997285123712\n",
      "Validation Score: 0.5692250740375123\n",
      "Training Loss Score: 1.0574216093687834\n",
      "Validation Loss Score: 1.117281348387828\n",
      "=============================================\n"
     ]
    },
    {
     "name": "stderr",
     "output_type": "stream",
     "text": [
      "/Users/brandenkim/miniconda3/envs/ml_env/lib/python3.9/site-packages/sklearn/neural_network/_multilayer_perceptron.py:691: ConvergenceWarning: Stochastic Optimizer: Maximum iterations (1) reached and the optimization hasn't converged yet.\n",
      "  warnings.warn(\n"
     ]
    },
    {
     "name": "stdout",
     "output_type": "stream",
     "text": [
      "=============================================\n",
      "Run for 101 epoch\n",
      "Training Score: 0.5926143024618992\n",
      "Validation Score: 0.5695952615992103\n",
      "Training Loss Score: 1.0570707816851332\n",
      "Validation Loss Score: 1.1169208757404203\n",
      "=============================================\n"
     ]
    },
    {
     "name": "stderr",
     "output_type": "stream",
     "text": [
      "/Users/brandenkim/miniconda3/envs/ml_env/lib/python3.9/site-packages/sklearn/neural_network/_multilayer_perceptron.py:691: ConvergenceWarning: Stochastic Optimizer: Maximum iterations (1) reached and the optimization hasn't converged yet.\n",
      "  warnings.warn(\n"
     ]
    },
    {
     "name": "stdout",
     "output_type": "stream",
     "text": [
      "=============================================\n",
      "Run for 102 epoch\n",
      "Training Score: 0.5926760041957179\n",
      "Validation Score: 0.5692250740375123\n",
      "Training Loss Score: 1.0566794662888117\n",
      "Validation Loss Score: 1.116585432433742\n",
      "=============================================\n"
     ]
    },
    {
     "name": "stderr",
     "output_type": "stream",
     "text": [
      "/Users/brandenkim/miniconda3/envs/ml_env/lib/python3.9/site-packages/sklearn/neural_network/_multilayer_perceptron.py:691: ConvergenceWarning: Stochastic Optimizer: Maximum iterations (1) reached and the optimization hasn't converged yet.\n",
      "  warnings.warn(\n"
     ]
    },
    {
     "name": "stdout",
     "output_type": "stream",
     "text": [
      "=============================================\n",
      "Run for 103 epoch\n",
      "Training Score: 0.5927068550626272\n",
      "Validation Score: 0.5700888450148075\n",
      "Training Loss Score: 1.056377029307941\n",
      "Validation Loss Score: 1.1163540895384634\n",
      "=============================================\n"
     ]
    },
    {
     "name": "stderr",
     "output_type": "stream",
     "text": [
      "/Users/brandenkim/miniconda3/envs/ml_env/lib/python3.9/site-packages/sklearn/neural_network/_multilayer_perceptron.py:691: ConvergenceWarning: Stochastic Optimizer: Maximum iterations (1) reached and the optimization hasn't converged yet.\n",
      "  warnings.warn(\n"
     ]
    },
    {
     "name": "stdout",
     "output_type": "stream",
     "text": [
      "=============================================\n",
      "Run for 104 epoch\n",
      "Training Score: 0.5927377059295367\n",
      "Validation Score: 0.5695952615992103\n",
      "Training Loss Score: 1.056032761087969\n",
      "Validation Loss Score: 1.1159867257226534\n",
      "=============================================\n"
     ]
    },
    {
     "name": "stderr",
     "output_type": "stream",
     "text": [
      "/Users/brandenkim/miniconda3/envs/ml_env/lib/python3.9/site-packages/sklearn/neural_network/_multilayer_perceptron.py:691: ConvergenceWarning: Stochastic Optimizer: Maximum iterations (1) reached and the optimization hasn't converged yet.\n",
      "  warnings.warn(\n"
     ]
    },
    {
     "name": "stdout",
     "output_type": "stream",
     "text": [
      "=============================================\n",
      "Run for 105 epoch\n",
      "Training Score: 0.5926143024618992\n",
      "Validation Score: 0.5705824284304047\n",
      "Training Loss Score: 1.0557440593605598\n",
      "Validation Loss Score: 1.1157815251910823\n",
      "=============================================\n"
     ]
    },
    {
     "name": "stderr",
     "output_type": "stream",
     "text": [
      "/Users/brandenkim/miniconda3/envs/ml_env/lib/python3.9/site-packages/sklearn/neural_network/_multilayer_perceptron.py:691: ConvergenceWarning: Stochastic Optimizer: Maximum iterations (1) reached and the optimization hasn't converged yet.\n",
      "  warnings.warn(\n"
     ]
    },
    {
     "name": "stdout",
     "output_type": "stream",
     "text": [
      "=============================================\n",
      "Run for 106 epoch\n",
      "Training Score: 0.5927068550626272\n",
      "Validation Score: 0.5703356367226061\n",
      "Training Loss Score: 1.0554932394516874\n",
      "Validation Loss Score: 1.1154871082094173\n",
      "=============================================\n"
     ]
    },
    {
     "name": "stderr",
     "output_type": "stream",
     "text": [
      "/Users/brandenkim/miniconda3/envs/ml_env/lib/python3.9/site-packages/sklearn/neural_network/_multilayer_perceptron.py:691: ConvergenceWarning: Stochastic Optimizer: Maximum iterations (1) reached and the optimization hasn't converged yet.\n",
      "  warnings.warn(\n"
     ]
    },
    {
     "name": "stdout",
     "output_type": "stream",
     "text": [
      "=============================================\n",
      "Run for 107 epoch\n",
      "Training Score: 0.5931387671993583\n",
      "Validation Score: 0.5697186574531096\n",
      "Training Loss Score: 1.0551716337157804\n",
      "Validation Loss Score: 1.1152387324097732\n",
      "=============================================\n"
     ]
    },
    {
     "name": "stderr",
     "output_type": "stream",
     "text": [
      "/Users/brandenkim/miniconda3/envs/ml_env/lib/python3.9/site-packages/sklearn/neural_network/_multilayer_perceptron.py:691: ConvergenceWarning: Stochastic Optimizer: Maximum iterations (1) reached and the optimization hasn't converged yet.\n",
      "  warnings.warn(\n"
     ]
    },
    {
     "name": "stdout",
     "output_type": "stream",
     "text": [
      "=============================================\n",
      "Run for 108 epoch\n",
      "Training Score: 0.5923366446597149\n",
      "Validation Score: 0.5698420533070089\n",
      "Training Loss Score: 1.0548736399737397\n",
      "Validation Loss Score: 1.1149675380196777\n",
      "=============================================\n"
     ]
    },
    {
     "name": "stderr",
     "output_type": "stream",
     "text": [
      "/Users/brandenkim/miniconda3/envs/ml_env/lib/python3.9/site-packages/sklearn/neural_network/_multilayer_perceptron.py:691: ConvergenceWarning: Stochastic Optimizer: Maximum iterations (1) reached and the optimization hasn't converged yet.\n",
      "  warnings.warn(\n"
     ]
    },
    {
     "name": "stdout",
     "output_type": "stream",
     "text": [
      "=============================================\n",
      "Run for 109 epoch\n",
      "Training Score: 0.5928611093971741\n",
      "Validation Score: 0.5698420533070089\n",
      "Training Loss Score: 1.0545705150096667\n",
      "Validation Loss Score: 1.1146983761540126\n",
      "=============================================\n"
     ]
    },
    {
     "name": "stderr",
     "output_type": "stream",
     "text": [
      "/Users/brandenkim/miniconda3/envs/ml_env/lib/python3.9/site-packages/sklearn/neural_network/_multilayer_perceptron.py:691: ConvergenceWarning: Stochastic Optimizer: Maximum iterations (1) reached and the optimization hasn't converged yet.\n",
      "  warnings.warn(\n"
     ]
    },
    {
     "name": "stdout",
     "output_type": "stream",
     "text": [
      "=============================================\n",
      "Run for 110 epoch\n",
      "Training Score: 0.5933238724008144\n",
      "Validation Score: 0.5699654491609082\n",
      "Training Loss Score: 1.0542909879933635\n",
      "Validation Loss Score: 1.114466839988887\n",
      "=============================================\n"
     ]
    },
    {
     "name": "stderr",
     "output_type": "stream",
     "text": [
      "/Users/brandenkim/miniconda3/envs/ml_env/lib/python3.9/site-packages/sklearn/neural_network/_multilayer_perceptron.py:691: ConvergenceWarning: Stochastic Optimizer: Maximum iterations (1) reached and the optimization hasn't converged yet.\n",
      "  warnings.warn(\n"
     ]
    },
    {
     "name": "stdout",
     "output_type": "stream",
     "text": [
      "=============================================\n",
      "Run for 111 epoch\n",
      "Training Score: 0.593107916332449\n",
      "Validation Score: 0.5697186574531096\n",
      "Training Loss Score: 1.0540379041710644\n",
      "Validation Loss Score: 1.114248363199299\n",
      "=============================================\n"
     ]
    },
    {
     "name": "stderr",
     "output_type": "stream",
     "text": [
      "/Users/brandenkim/miniconda3/envs/ml_env/lib/python3.9/site-packages/sklearn/neural_network/_multilayer_perceptron.py:691: ConvergenceWarning: Stochastic Optimizer: Maximum iterations (1) reached and the optimization hasn't converged yet.\n",
      "  warnings.warn(\n"
     ]
    },
    {
     "name": "stdout",
     "output_type": "stream",
     "text": [
      "=============================================\n",
      "Run for 112 epoch\n",
      "Training Score: 0.5926760041957179\n",
      "Validation Score: 0.5693484698914116\n",
      "Training Loss Score: 1.0536526073095185\n",
      "Validation Loss Score: 1.113845926981154\n",
      "=============================================\n"
     ]
    },
    {
     "name": "stderr",
     "output_type": "stream",
     "text": [
      "/Users/brandenkim/miniconda3/envs/ml_env/lib/python3.9/site-packages/sklearn/neural_network/_multilayer_perceptron.py:691: ConvergenceWarning: Stochastic Optimizer: Maximum iterations (1) reached and the optimization hasn't converged yet.\n",
      "  warnings.warn(\n"
     ]
    },
    {
     "name": "stdout",
     "output_type": "stream",
     "text": [
      "=============================================\n",
      "Run for 113 epoch\n",
      "Training Score: 0.593200468933177\n",
      "Validation Score: 0.5695952615992103\n",
      "Training Loss Score: 1.0534381490282039\n",
      "Validation Loss Score: 1.1137084568352957\n",
      "=============================================\n"
     ]
    },
    {
     "name": "stderr",
     "output_type": "stream",
     "text": [
      "/Users/brandenkim/miniconda3/envs/ml_env/lib/python3.9/site-packages/sklearn/neural_network/_multilayer_perceptron.py:691: ConvergenceWarning: Stochastic Optimizer: Maximum iterations (1) reached and the optimization hasn't converged yet.\n",
      "  warnings.warn(\n"
     ]
    },
    {
     "name": "stdout",
     "output_type": "stream",
     "text": [
      "=============================================\n",
      "Run for 114 epoch\n",
      "Training Score: 0.5933547232677239\n",
      "Validation Score: 0.569471865745311\n",
      "Training Loss Score: 1.0531854432306378\n",
      "Validation Loss Score: 1.1134883626826035\n",
      "=============================================\n"
     ]
    },
    {
     "name": "stderr",
     "output_type": "stream",
     "text": [
      "/Users/brandenkim/miniconda3/envs/ml_env/lib/python3.9/site-packages/sklearn/neural_network/_multilayer_perceptron.py:691: ConvergenceWarning: Stochastic Optimizer: Maximum iterations (1) reached and the optimization hasn't converged yet.\n",
      "  warnings.warn(\n"
     ]
    },
    {
     "name": "stdout",
     "output_type": "stream",
     "text": [
      "=============================================\n",
      "Run for 115 epoch\n",
      "Training Score: 0.5935089776022706\n",
      "Validation Score: 0.5693484698914116\n",
      "Training Loss Score: 1.0528537145055068\n",
      "Validation Loss Score: 1.113254087606301\n",
      "=============================================\n"
     ]
    },
    {
     "name": "stderr",
     "output_type": "stream",
     "text": [
      "/Users/brandenkim/miniconda3/envs/ml_env/lib/python3.9/site-packages/sklearn/neural_network/_multilayer_perceptron.py:691: ConvergenceWarning: Stochastic Optimizer: Maximum iterations (1) reached and the optimization hasn't converged yet.\n",
      "  warnings.warn(\n"
     ]
    },
    {
     "name": "stdout",
     "output_type": "stream",
     "text": [
      "=============================================\n",
      "Run for 116 epoch\n",
      "Training Score: 0.5939717406059111\n",
      "Validation Score: 0.5688548864758144\n",
      "Training Loss Score: 1.0525788367155582\n",
      "Validation Loss Score: 1.1129082249119073\n",
      "=============================================\n"
     ]
    },
    {
     "name": "stderr",
     "output_type": "stream",
     "text": [
      "/Users/brandenkim/miniconda3/envs/ml_env/lib/python3.9/site-packages/sklearn/neural_network/_multilayer_perceptron.py:691: ConvergenceWarning: Stochastic Optimizer: Maximum iterations (1) reached and the optimization hasn't converged yet.\n",
      "  warnings.warn(\n"
     ]
    },
    {
     "name": "stdout",
     "output_type": "stream",
     "text": [
      "=============================================\n",
      "Run for 117 epoch\n",
      "Training Score: 0.5937557845375455\n",
      "Validation Score: 0.569101678183613\n",
      "Training Loss Score: 1.052372633211793\n",
      "Validation Loss Score: 1.1128278532315654\n",
      "=============================================\n"
     ]
    },
    {
     "name": "stderr",
     "output_type": "stream",
     "text": [
      "/Users/brandenkim/miniconda3/envs/ml_env/lib/python3.9/site-packages/sklearn/neural_network/_multilayer_perceptron.py:691: ConvergenceWarning: Stochastic Optimizer: Maximum iterations (1) reached and the optimization hasn't converged yet.\n",
      "  warnings.warn(\n"
     ]
    },
    {
     "name": "stdout",
     "output_type": "stream",
     "text": [
      "=============================================\n",
      "Run for 118 epoch\n",
      "Training Score: 0.5939408897390017\n",
      "Validation Score: 0.5688548864758144\n",
      "Training Loss Score: 1.0520365512694583\n",
      "Validation Loss Score: 1.1124402967149394\n",
      "=============================================\n"
     ]
    },
    {
     "name": "stderr",
     "output_type": "stream",
     "text": [
      "/Users/brandenkim/miniconda3/envs/ml_env/lib/python3.9/site-packages/sklearn/neural_network/_multilayer_perceptron.py:691: ConvergenceWarning: Stochastic Optimizer: Maximum iterations (1) reached and the optimization hasn't converged yet.\n",
      "  warnings.warn(\n"
     ]
    },
    {
     "name": "stdout",
     "output_type": "stream",
     "text": [
      "=============================================\n",
      "Run for 119 epoch\n",
      "Training Score: 0.5940025914728204\n",
      "Validation Score: 0.5689782823297137\n",
      "Training Loss Score: 1.051797206370279\n",
      "Validation Loss Score: 1.1122623259820086\n",
      "=============================================\n"
     ]
    },
    {
     "name": "stderr",
     "output_type": "stream",
     "text": [
      "/Users/brandenkim/miniconda3/envs/ml_env/lib/python3.9/site-packages/sklearn/neural_network/_multilayer_perceptron.py:691: ConvergenceWarning: Stochastic Optimizer: Maximum iterations (1) reached and the optimization hasn't converged yet.\n",
      "  warnings.warn(\n"
     ]
    },
    {
     "name": "stdout",
     "output_type": "stream",
     "text": [
      "=============================================\n",
      "Run for 120 epoch\n",
      "Training Score: 0.5940334423397298\n",
      "Validation Score: 0.5684846989141165\n",
      "Training Loss Score: 1.0515133210897574\n",
      "Validation Loss Score: 1.111921041101407\n",
      "=============================================\n"
     ]
    },
    {
     "name": "stderr",
     "output_type": "stream",
     "text": [
      "/Users/brandenkim/miniconda3/envs/ml_env/lib/python3.9/site-packages/sklearn/neural_network/_multilayer_perceptron.py:691: ConvergenceWarning: Stochastic Optimizer: Maximum iterations (1) reached and the optimization hasn't converged yet.\n",
      "  warnings.warn(\n"
     ]
    },
    {
     "name": "stdout",
     "output_type": "stream",
     "text": [
      "=============================================\n",
      "Run for 121 epoch\n",
      "Training Score: 0.5941259949404578\n",
      "Validation Score: 0.5687314906219151\n",
      "Training Loss Score: 1.0512708705162306\n",
      "Validation Loss Score: 1.1117512374433511\n",
      "=============================================\n"
     ]
    },
    {
     "name": "stderr",
     "output_type": "stream",
     "text": [
      "/Users/brandenkim/miniconda3/envs/ml_env/lib/python3.9/site-packages/sklearn/neural_network/_multilayer_perceptron.py:691: ConvergenceWarning: Stochastic Optimizer: Maximum iterations (1) reached and the optimization hasn't converged yet.\n",
      "  warnings.warn(\n"
     ]
    },
    {
     "name": "stdout",
     "output_type": "stream",
     "text": [
      "=============================================\n",
      "Run for 122 epoch\n",
      "Training Score: 0.5938791880051829\n",
      "Validation Score: 0.569101678183613\n",
      "Training Loss Score: 1.0510028456614557\n",
      "Validation Loss Score: 1.1115061854395307\n",
      "=============================================\n"
     ]
    },
    {
     "name": "stderr",
     "output_type": "stream",
     "text": [
      "/Users/brandenkim/miniconda3/envs/ml_env/lib/python3.9/site-packages/sklearn/neural_network/_multilayer_perceptron.py:691: ConvergenceWarning: Stochastic Optimizer: Maximum iterations (1) reached and the optimization hasn't converged yet.\n",
      "  warnings.warn(\n"
     ]
    },
    {
     "name": "stdout",
     "output_type": "stream",
     "text": [
      "=============================================\n",
      "Run for 123 epoch\n",
      "Training Score: 0.5940025914728204\n",
      "Validation Score: 0.5693484698914116\n",
      "Training Loss Score: 1.0507183082497424\n",
      "Validation Loss Score: 1.1111372460855393\n",
      "=============================================\n"
     ]
    },
    {
     "name": "stderr",
     "output_type": "stream",
     "text": [
      "/Users/brandenkim/miniconda3/envs/ml_env/lib/python3.9/site-packages/sklearn/neural_network/_multilayer_perceptron.py:691: ConvergenceWarning: Stochastic Optimizer: Maximum iterations (1) reached and the optimization hasn't converged yet.\n",
      "  warnings.warn(\n"
     ]
    },
    {
     "name": "stdout",
     "output_type": "stream",
     "text": [
      "=============================================\n",
      "Run for 124 epoch\n",
      "Training Score: 0.59353982846918\n",
      "Validation Score: 0.5693484698914116\n",
      "Training Loss Score: 1.0505073889014134\n",
      "Validation Loss Score: 1.1109087083753761\n",
      "=============================================\n"
     ]
    },
    {
     "name": "stderr",
     "output_type": "stream",
     "text": [
      "/Users/brandenkim/miniconda3/envs/ml_env/lib/python3.9/site-packages/sklearn/neural_network/_multilayer_perceptron.py:691: ConvergenceWarning: Stochastic Optimizer: Maximum iterations (1) reached and the optimization hasn't converged yet.\n",
      "  warnings.warn(\n"
     ]
    },
    {
     "name": "stdout",
     "output_type": "stream",
     "text": [
      "=============================================\n",
      "Run for 125 epoch\n",
      "Training Score: 0.5936940828037268\n",
      "Validation Score: 0.5695952615992103\n",
      "Training Loss Score: 1.0502414569892944\n",
      "Validation Loss Score: 1.110582038027382\n",
      "=============================================\n"
     ]
    },
    {
     "name": "stderr",
     "output_type": "stream",
     "text": [
      "/Users/brandenkim/miniconda3/envs/ml_env/lib/python3.9/site-packages/sklearn/neural_network/_multilayer_perceptron.py:691: ConvergenceWarning: Stochastic Optimizer: Maximum iterations (1) reached and the optimization hasn't converged yet.\n",
      "  warnings.warn(\n"
     ]
    },
    {
     "name": "stdout",
     "output_type": "stream",
     "text": [
      "=============================================\n",
      "Run for 126 epoch\n",
      "Training Score: 0.5938483371382736\n",
      "Validation Score: 0.569471865745311\n",
      "Training Loss Score: 1.0500365510672243\n",
      "Validation Loss Score: 1.110331295721286\n",
      "=============================================\n"
     ]
    },
    {
     "name": "stderr",
     "output_type": "stream",
     "text": [
      "/Users/brandenkim/miniconda3/envs/ml_env/lib/python3.9/site-packages/sklearn/neural_network/_multilayer_perceptron.py:691: ConvergenceWarning: Stochastic Optimizer: Maximum iterations (1) reached and the optimization hasn't converged yet.\n",
      "  warnings.warn(\n"
     ]
    },
    {
     "name": "stdout",
     "output_type": "stream",
     "text": [
      "=============================================\n",
      "Run for 127 epoch\n",
      "Training Score: 0.5939100388720923\n",
      "Validation Score: 0.569101678183613\n",
      "Training Loss Score: 1.04981315747998\n",
      "Validation Loss Score: 1.1101144886085246\n",
      "=============================================\n"
     ]
    },
    {
     "name": "stderr",
     "output_type": "stream",
     "text": [
      "/Users/brandenkim/miniconda3/envs/ml_env/lib/python3.9/site-packages/sklearn/neural_network/_multilayer_perceptron.py:691: ConvergenceWarning: Stochastic Optimizer: Maximum iterations (1) reached and the optimization hasn't converged yet.\n",
      "  warnings.warn(\n"
     ]
    },
    {
     "name": "stdout",
     "output_type": "stream",
     "text": [
      "=============================================\n",
      "Run for 128 epoch\n",
      "Training Score: 0.5941259949404578\n",
      "Validation Score: 0.5695952615992103\n",
      "Training Loss Score: 1.0496584331651995\n",
      "Validation Loss Score: 1.1099104154758703\n",
      "=============================================\n"
     ]
    },
    {
     "name": "stderr",
     "output_type": "stream",
     "text": [
      "/Users/brandenkim/miniconda3/envs/ml_env/lib/python3.9/site-packages/sklearn/neural_network/_multilayer_perceptron.py:691: ConvergenceWarning: Stochastic Optimizer: Maximum iterations (1) reached and the optimization hasn't converged yet.\n",
      "  warnings.warn(\n"
     ]
    },
    {
     "name": "stdout",
     "output_type": "stream",
     "text": [
      "=============================================\n",
      "Run for 129 epoch\n",
      "Training Score: 0.5942493984080953\n",
      "Validation Score: 0.5702122408687068\n",
      "Training Loss Score: 1.0494118738394393\n",
      "Validation Loss Score: 1.1096263912039446\n",
      "=============================================\n"
     ]
    },
    {
     "name": "stderr",
     "output_type": "stream",
     "text": [
      "/Users/brandenkim/miniconda3/envs/ml_env/lib/python3.9/site-packages/sklearn/neural_network/_multilayer_perceptron.py:691: ConvergenceWarning: Stochastic Optimizer: Maximum iterations (1) reached and the optimization hasn't converged yet.\n",
      "  warnings.warn(\n"
     ]
    },
    {
     "name": "stdout",
     "output_type": "stream",
     "text": [
      "=============================================\n",
      "Run for 130 epoch\n",
      "Training Score: 0.5945579070771889\n",
      "Validation Score: 0.5702122408687068\n",
      "Training Loss Score: 1.0491542516371475\n",
      "Validation Loss Score: 1.1092989799546917\n",
      "=============================================\n"
     ]
    },
    {
     "name": "stderr",
     "output_type": "stream",
     "text": [
      "/Users/brandenkim/miniconda3/envs/ml_env/lib/python3.9/site-packages/sklearn/neural_network/_multilayer_perceptron.py:691: ConvergenceWarning: Stochastic Optimizer: Maximum iterations (1) reached and the optimization hasn't converged yet.\n",
      "  warnings.warn(\n"
     ]
    },
    {
     "name": "stdout",
     "output_type": "stream",
     "text": [
      "=============================================\n",
      "Run for 131 epoch\n",
      "Training Score: 0.5945270562102795\n",
      "Validation Score: 0.5702122408687068\n",
      "Training Loss Score: 1.0489410148162284\n",
      "Validation Loss Score: 1.109085627862556\n",
      "=============================================\n"
     ]
    },
    {
     "name": "stderr",
     "output_type": "stream",
     "text": [
      "/Users/brandenkim/miniconda3/envs/ml_env/lib/python3.9/site-packages/sklearn/neural_network/_multilayer_perceptron.py:691: ConvergenceWarning: Stochastic Optimizer: Maximum iterations (1) reached and the optimization hasn't converged yet.\n",
      "  warnings.warn(\n"
     ]
    },
    {
     "name": "stdout",
     "output_type": "stream",
     "text": [
      "=============================================\n",
      "Run for 132 epoch\n",
      "Training Score: 0.5945270562102795\n",
      "Validation Score: 0.5704590325765054\n",
      "Training Loss Score: 1.048689108971854\n",
      "Validation Loss Score: 1.108768834333247\n",
      "=============================================\n"
     ]
    },
    {
     "name": "stderr",
     "output_type": "stream",
     "text": [
      "/Users/brandenkim/miniconda3/envs/ml_env/lib/python3.9/site-packages/sklearn/neural_network/_multilayer_perceptron.py:691: ConvergenceWarning: Stochastic Optimizer: Maximum iterations (1) reached and the optimization hasn't converged yet.\n",
      "  warnings.warn(\n"
     ]
    },
    {
     "name": "stdout",
     "output_type": "stream",
     "text": [
      "=============================================\n",
      "Run for 133 epoch\n",
      "Training Score: 0.5946196088110076\n",
      "Validation Score: 0.570705824284304\n",
      "Training Loss Score: 1.0484550613647248\n",
      "Validation Loss Score: 1.1085216713929924\n",
      "=============================================\n"
     ]
    },
    {
     "name": "stderr",
     "output_type": "stream",
     "text": [
      "/Users/brandenkim/miniconda3/envs/ml_env/lib/python3.9/site-packages/sklearn/neural_network/_multilayer_perceptron.py:691: ConvergenceWarning: Stochastic Optimizer: Maximum iterations (1) reached and the optimization hasn't converged yet.\n",
      "  warnings.warn(\n"
     ]
    },
    {
     "name": "stdout",
     "output_type": "stream",
     "text": [
      "=============================================\n",
      "Run for 134 epoch\n",
      "Training Score: 0.5944036527426421\n",
      "Validation Score: 0.5709526159921027\n",
      "Training Loss Score: 1.0482181227731207\n",
      "Validation Loss Score: 1.1082674070998448\n",
      "=============================================\n"
     ]
    },
    {
     "name": "stderr",
     "output_type": "stream",
     "text": [
      "/Users/brandenkim/miniconda3/envs/ml_env/lib/python3.9/site-packages/sklearn/neural_network/_multilayer_perceptron.py:691: ConvergenceWarning: Stochastic Optimizer: Maximum iterations (1) reached and the optimization hasn't converged yet.\n",
      "  warnings.warn(\n"
     ]
    },
    {
     "name": "stdout",
     "output_type": "stream",
     "text": [
      "=============================================\n",
      "Run for 135 epoch\n",
      "Training Score: 0.5944653544764608\n",
      "Validation Score: 0.5709526159921027\n",
      "Training Loss Score: 1.0480060707114633\n",
      "Validation Loss Score: 1.1080213688878107\n",
      "=============================================\n"
     ]
    },
    {
     "name": "stderr",
     "output_type": "stream",
     "text": [
      "/Users/brandenkim/miniconda3/envs/ml_env/lib/python3.9/site-packages/sklearn/neural_network/_multilayer_perceptron.py:691: ConvergenceWarning: Stochastic Optimizer: Maximum iterations (1) reached and the optimization hasn't converged yet.\n",
      "  warnings.warn(\n"
     ]
    },
    {
     "name": "stdout",
     "output_type": "stream",
     "text": [
      "=============================================\n",
      "Run for 136 epoch\n",
      "Training Score: 0.5942185475411859\n",
      "Validation Score: 0.5709526159921027\n",
      "Training Loss Score: 1.0477603448644253\n",
      "Validation Loss Score: 1.1078179049997503\n",
      "=============================================\n"
     ]
    },
    {
     "name": "stderr",
     "output_type": "stream",
     "text": [
      "/Users/brandenkim/miniconda3/envs/ml_env/lib/python3.9/site-packages/sklearn/neural_network/_multilayer_perceptron.py:691: ConvergenceWarning: Stochastic Optimizer: Maximum iterations (1) reached and the optimization hasn't converged yet.\n",
      "  warnings.warn(\n"
     ]
    },
    {
     "name": "stdout",
     "output_type": "stream",
     "text": [
      "=============================================\n",
      "Run for 137 epoch\n",
      "Training Score: 0.5943419510088234\n",
      "Validation Score: 0.5705824284304047\n",
      "Training Loss Score: 1.0475479512626789\n",
      "Validation Loss Score: 1.1076467157824206\n",
      "=============================================\n"
     ]
    },
    {
     "name": "stderr",
     "output_type": "stream",
     "text": [
      "/Users/brandenkim/miniconda3/envs/ml_env/lib/python3.9/site-packages/sklearn/neural_network/_multilayer_perceptron.py:691: ConvergenceWarning: Stochastic Optimizer: Maximum iterations (1) reached and the optimization hasn't converged yet.\n",
      "  warnings.warn(\n"
     ]
    },
    {
     "name": "stdout",
     "output_type": "stream",
     "text": [
      "=============================================\n",
      "Run for 138 epoch\n",
      "Training Score: 0.594311100141914\n",
      "Validation Score: 0.5705824284304047\n",
      "Training Loss Score: 1.0473322609978672\n",
      "Validation Loss Score: 1.1074275019299298\n",
      "=============================================\n"
     ]
    },
    {
     "name": "stderr",
     "output_type": "stream",
     "text": [
      "/Users/brandenkim/miniconda3/envs/ml_env/lib/python3.9/site-packages/sklearn/neural_network/_multilayer_perceptron.py:691: ConvergenceWarning: Stochastic Optimizer: Maximum iterations (1) reached and the optimization hasn't converged yet.\n",
      "  warnings.warn(\n"
     ]
    },
    {
     "name": "stdout",
     "output_type": "stream",
     "text": [
      "=============================================\n",
      "Run for 139 epoch\n",
      "Training Score: 0.5941259949404578\n",
      "Validation Score: 0.570705824284304\n",
      "Training Loss Score: 1.0471987427954668\n",
      "Validation Loss Score: 1.1073281251931493\n",
      "=============================================\n"
     ]
    },
    {
     "name": "stderr",
     "output_type": "stream",
     "text": [
      "/Users/brandenkim/miniconda3/envs/ml_env/lib/python3.9/site-packages/sklearn/neural_network/_multilayer_perceptron.py:691: ConvergenceWarning: Stochastic Optimizer: Maximum iterations (1) reached and the optimization hasn't converged yet.\n",
      "  warnings.warn(\n"
     ]
    },
    {
     "name": "stdout",
     "output_type": "stream",
     "text": [
      "=============================================\n",
      "Run for 140 epoch\n",
      "Training Score: 0.5945270562102795\n",
      "Validation Score: 0.5711994076999013\n",
      "Training Loss Score: 1.0469545744820008\n",
      "Validation Loss Score: 1.1070636946448091\n",
      "=============================================\n"
     ]
    },
    {
     "name": "stderr",
     "output_type": "stream",
     "text": [
      "/Users/brandenkim/miniconda3/envs/ml_env/lib/python3.9/site-packages/sklearn/neural_network/_multilayer_perceptron.py:691: ConvergenceWarning: Stochastic Optimizer: Maximum iterations (1) reached and the optimization hasn't converged yet.\n",
      "  warnings.warn(\n"
     ]
    },
    {
     "name": "stdout",
     "output_type": "stream",
     "text": [
      "=============================================\n",
      "Run for 141 epoch\n",
      "Training Score: 0.5942185475411859\n",
      "Validation Score: 0.570705824284304\n",
      "Training Loss Score: 1.0467607163622028\n",
      "Validation Loss Score: 1.1068699935993074\n",
      "=============================================\n"
     ]
    },
    {
     "name": "stderr",
     "output_type": "stream",
     "text": [
      "/Users/brandenkim/miniconda3/envs/ml_env/lib/python3.9/site-packages/sklearn/neural_network/_multilayer_perceptron.py:691: ConvergenceWarning: Stochastic Optimizer: Maximum iterations (1) reached and the optimization hasn't converged yet.\n",
      "  warnings.warn(\n"
     ]
    },
    {
     "name": "stdout",
     "output_type": "stream",
     "text": [
      "=============================================\n",
      "Run for 142 epoch\n",
      "Training Score: 0.5941876966742765\n",
      "Validation Score: 0.5709526159921027\n",
      "Training Loss Score: 1.0464757927052617\n",
      "Validation Loss Score: 1.1066224849447341\n",
      "=============================================\n"
     ]
    },
    {
     "name": "stderr",
     "output_type": "stream",
     "text": [
      "/Users/brandenkim/miniconda3/envs/ml_env/lib/python3.9/site-packages/sklearn/neural_network/_multilayer_perceptron.py:691: ConvergenceWarning: Stochastic Optimizer: Maximum iterations (1) reached and the optimization hasn't converged yet.\n",
      "  warnings.warn(\n"
     ]
    },
    {
     "name": "stdout",
     "output_type": "stream",
     "text": [
      "=============================================\n",
      "Run for 143 epoch\n",
      "Training Score: 0.5943419510088234\n",
      "Validation Score: 0.5709526159921027\n",
      "Training Loss Score: 1.0462703322559097\n",
      "Validation Loss Score: 1.10634790905791\n",
      "=============================================\n"
     ]
    },
    {
     "name": "stderr",
     "output_type": "stream",
     "text": [
      "/Users/brandenkim/miniconda3/envs/ml_env/lib/python3.9/site-packages/sklearn/neural_network/_multilayer_perceptron.py:691: ConvergenceWarning: Stochastic Optimizer: Maximum iterations (1) reached and the optimization hasn't converged yet.\n",
      "  warnings.warn(\n"
     ]
    },
    {
     "name": "stdout",
     "output_type": "stream",
     "text": [
      "=============================================\n",
      "Run for 144 epoch\n",
      "Training Score: 0.5946813105448263\n",
      "Validation Score: 0.571076011846002\n",
      "Training Loss Score: 1.0461347435695458\n",
      "Validation Loss Score: 1.1062724574459246\n",
      "=============================================\n"
     ]
    },
    {
     "name": "stderr",
     "output_type": "stream",
     "text": [
      "/Users/brandenkim/miniconda3/envs/ml_env/lib/python3.9/site-packages/sklearn/neural_network/_multilayer_perceptron.py:691: ConvergenceWarning: Stochastic Optimizer: Maximum iterations (1) reached and the optimization hasn't converged yet.\n",
      "  warnings.warn(\n"
     ]
    },
    {
     "name": "stdout",
     "output_type": "stream",
     "text": [
      "=============================================\n",
      "Run for 145 epoch\n",
      "Training Score: 0.5949281174801012\n",
      "Validation Score: 0.5709526159921027\n",
      "Training Loss Score: 1.0459398986936483\n",
      "Validation Loss Score: 1.10608969585775\n",
      "=============================================\n"
     ]
    },
    {
     "name": "stderr",
     "output_type": "stream",
     "text": [
      "/Users/brandenkim/miniconda3/envs/ml_env/lib/python3.9/site-packages/sklearn/neural_network/_multilayer_perceptron.py:691: ConvergenceWarning: Stochastic Optimizer: Maximum iterations (1) reached and the optimization hasn't converged yet.\n",
      "  warnings.warn(\n"
     ]
    },
    {
     "name": "stdout",
     "output_type": "stream",
     "text": [
      "=============================================\n",
      "Run for 146 epoch\n",
      "Training Score: 0.5945579070771889\n",
      "Validation Score: 0.5703356367226061\n",
      "Training Loss Score: 1.0457777287234813\n",
      "Validation Loss Score: 1.1059436544617898\n",
      "=============================================\n"
     ]
    },
    {
     "name": "stderr",
     "output_type": "stream",
     "text": [
      "/Users/brandenkim/miniconda3/envs/ml_env/lib/python3.9/site-packages/sklearn/neural_network/_multilayer_perceptron.py:691: ConvergenceWarning: Stochastic Optimizer: Maximum iterations (1) reached and the optimization hasn't converged yet.\n",
      "  warnings.warn(\n"
     ]
    },
    {
     "name": "stdout",
     "output_type": "stream",
     "text": [
      "=============================================\n",
      "Run for 147 epoch\n",
      "Training Score: 0.5945887579440983\n",
      "Validation Score: 0.5703356367226061\n",
      "Training Loss Score: 1.045541417316421\n",
      "Validation Loss Score: 1.1057165055726588\n",
      "=============================================\n"
     ]
    },
    {
     "name": "stderr",
     "output_type": "stream",
     "text": [
      "/Users/brandenkim/miniconda3/envs/ml_env/lib/python3.9/site-packages/sklearn/neural_network/_multilayer_perceptron.py:691: ConvergenceWarning: Stochastic Optimizer: Maximum iterations (1) reached and the optimization hasn't converged yet.\n",
      "  warnings.warn(\n"
     ]
    },
    {
     "name": "stdout",
     "output_type": "stream",
     "text": [
      "=============================================\n",
      "Run for 148 epoch\n",
      "Training Score: 0.5949281174801012\n",
      "Validation Score: 0.5698420533070089\n",
      "Training Loss Score: 1.045260748863011\n",
      "Validation Loss Score: 1.1055597395261043\n",
      "=============================================\n"
     ]
    },
    {
     "name": "stderr",
     "output_type": "stream",
     "text": [
      "/Users/brandenkim/miniconda3/envs/ml_env/lib/python3.9/site-packages/sklearn/neural_network/_multilayer_perceptron.py:691: ConvergenceWarning: Stochastic Optimizer: Maximum iterations (1) reached and the optimization hasn't converged yet.\n",
      "  warnings.warn(\n"
     ]
    },
    {
     "name": "stdout",
     "output_type": "stream",
     "text": [
      "=============================================\n",
      "Run for 149 epoch\n",
      "Training Score: 0.5951749244153761\n",
      "Validation Score: 0.5698420533070089\n",
      "Training Loss Score: 1.0450828236973122\n",
      "Validation Loss Score: 1.1053924627084712\n",
      "=============================================\n",
      "=============================================\n",
      "Run for 150 epoch\n",
      "Training Score: 0.5951440735484667\n",
      "Validation Score: 0.5711994076999013\n",
      "Training Loss Score: 1.044975144352853\n",
      "Validation Loss Score: 1.1053024520461707\n",
      "=============================================\n"
     ]
    },
    {
     "name": "stderr",
     "output_type": "stream",
     "text": [
      "/Users/brandenkim/miniconda3/envs/ml_env/lib/python3.9/site-packages/sklearn/neural_network/_multilayer_perceptron.py:691: ConvergenceWarning: Stochastic Optimizer: Maximum iterations (1) reached and the optimization hasn't converged yet.\n",
      "  warnings.warn(\n"
     ]
    }
   ],
   "source": [
    "\"\"\"\n",
    "Run the Neural Network algorithm with the clustering data.\n",
    "\"\"\"\n",
    "\n",
    "\"\"\"\n",
    "Actually training the MLP Classifier to generate the graph for the learning graph visualizer.\n",
    "This should utilize the percentage of samples lists that use randomly selected samples of the\n",
    "overall training data. This is so that we can test the accuracy (using cross-validation) across different\n",
    "training data size samples to see at what point the accuracy score stops being affected by the size of the training\n",
    "samples. This is also to see at what point the data might start getting overfit.\n",
    "\n",
    "This is to generate the Accuracy Learning Curve.\n",
    "\"\"\"\n",
    "# Defining hyperparameters here\n",
    "hidden_layer_sizes = [50, 10]\n",
    "activation = 'relu'\n",
    "learning_rate = 'constant'\n",
    "max_iter = 1 # Setting this to 1 since we want to control the epochs ourselves\n",
    "warm_start = True # This is to stack the training across different epochs\n",
    "\n",
    "# lists to hold the results of training / validation scores\n",
    "x_axis_list = []\n",
    "avg_train_scores_list_reg = []\n",
    "avg_validation_scores_list_reg = []\n",
    "avg_train_loss_values_reg = []\n",
    "avg_validation_loss_values_reg = []\n",
    "\n",
    "# First declaring the Decision Tree Classifer from scikit-learn\n",
    "clf = MLPClassifier(\n",
    "    hidden_layer_sizes=hidden_layer_sizes,\n",
    "    activation=activation,\n",
    "    learning_rate=learning_rate,\n",
    "    max_iter=max_iter,\n",
    "    warm_start=warm_start,\n",
    "    random_state=seed\n",
    ")\n",
    "\n",
    "for epoch_iteration in range(1, number_of_epochs + 1):\n",
    "    \n",
    "    # cross_val_score doesn't increase across epoch runs for some reason so I need to split it myself\n",
    "    train_data, val_data, train_label, val_label = train_test_split(train_features, train_labels, test_size=0.2, random_state=seed)\n",
    "    \n",
    "    clf.fit(train_data, train_label)\n",
    "    \n",
    "    accuracy_score = clf.score(train_data, train_label)\n",
    "    validation_score = clf.score(val_data, val_label)\n",
    "#     loss_score = clf.loss_\n",
    "    train_loss_score = log_loss(train_label, clf.predict_proba(train_data))\n",
    "    val_loss_score = log_loss(val_label, clf.predict_proba(val_data))\n",
    "    \n",
    "    x_axis_list.append(epoch_iteration)\n",
    "    avg_train_scores_list_reg.append(accuracy_score)\n",
    "    avg_validation_scores_list_reg.append(validation_score)\n",
    "    avg_train_loss_values_reg.append(train_loss_score)\n",
    "    avg_validation_loss_values_reg.append(val_loss_score)\n",
    "    \n",
    "    print(\"=============================================\")\n",
    "    print(\"Run for \" + str(epoch_iteration) + \" epoch\")\n",
    "    print(\"Training Score: \" + str(accuracy_score))\n",
    "    print(\"Validation Score: \" + str(validation_score))\n",
    "#     print(\"Loss Score: \" + str(loss_score))\n",
    "    print(\"Training Loss Score: \" + str(train_loss_score))\n",
    "    print(\"Validation Loss Score: \" + str(val_loss_score))\n",
    "    print(\"=============================================\")\n",
    "\n",
    "    "
   ]
  },
  {
   "cell_type": "code",
   "execution_count": 44,
   "id": "ee4b4f44",
   "metadata": {},
   "outputs": [
    {
     "name": "stdout",
     "output_type": "stream",
     "text": [
      "0.5721901377165705\n",
      "0.004416942596435547\n"
     ]
    },
    {
     "name": "stderr",
     "output_type": "stream",
     "text": [
      "/Users/brandenkim/miniconda3/envs/ml_env/lib/python3.9/site-packages/sklearn/neural_network/_multilayer_perceptron.py:691: ConvergenceWarning: Stochastic Optimizer: Maximum iterations (150) reached and the optimization hasn't converged yet.\n",
      "  warnings.warn(\n"
     ]
    }
   ],
   "source": [
    "\"\"\"\n",
    "Computing Accuracy Score on the Test data\n",
    "\"\"\"\n",
    "\n",
    "clf = MLPClassifier(\n",
    "    hidden_layer_sizes=hidden_layer_sizes,\n",
    "    activation=activation,\n",
    "    learning_rate=learning_rate,\n",
    "    max_iter=number_of_epochs,\n",
    "    warm_start=warm_start,\n",
    "    random_state=seed\n",
    ")\n",
    "\n",
    "clf.fit(train_features, train_labels)\n",
    "start_time = time.time()\n",
    "score = clf.score(test_features, test_labels)\n",
    "training_time = time.time() - start_time\n",
    "print(score)\n",
    "print(training_time)"
   ]
  },
  {
   "cell_type": "code",
   "execution_count": 45,
   "id": "870fdd7c",
   "metadata": {},
   "outputs": [
    {
     "name": "stderr",
     "output_type": "stream",
     "text": [
      "/Users/brandenkim/miniconda3/envs/ml_env/lib/python3.9/site-packages/sklearn/neural_network/_multilayer_perceptron.py:691: ConvergenceWarning: Stochastic Optimizer: Maximum iterations (1) reached and the optimization hasn't converged yet.\n",
      "  warnings.warn(\n"
     ]
    },
    {
     "name": "stdout",
     "output_type": "stream",
     "text": [
      "=============================================\n",
      "Run for 1 epoch\n",
      "Training Score: 0.4106867402974024\n",
      "Validation Score: 0.40720631786771966\n",
      "Training Loss Score: 1.6334661732216735\n",
      "Validation Loss Score: 1.6522113825769462\n",
      "=============================================\n"
     ]
    },
    {
     "name": "stderr",
     "output_type": "stream",
     "text": [
      "/Users/brandenkim/miniconda3/envs/ml_env/lib/python3.9/site-packages/sklearn/neural_network/_multilayer_perceptron.py:691: ConvergenceWarning: Stochastic Optimizer: Maximum iterations (1) reached and the optimization hasn't converged yet.\n",
      "  warnings.warn(\n"
     ]
    },
    {
     "name": "stdout",
     "output_type": "stream",
     "text": [
      "=============================================\n",
      "Run for 2 epoch\n",
      "Training Score: 0.5019744554821991\n",
      "Validation Score: 0.4875370187561698\n",
      "Training Loss Score: 1.3353130031694178\n",
      "Validation Loss Score: 1.3683494141324004\n",
      "=============================================\n"
     ]
    },
    {
     "name": "stderr",
     "output_type": "stream",
     "text": [
      "/Users/brandenkim/miniconda3/envs/ml_env/lib/python3.9/site-packages/sklearn/neural_network/_multilayer_perceptron.py:691: ConvergenceWarning: Stochastic Optimizer: Maximum iterations (1) reached and the optimization hasn't converged yet.\n",
      "  warnings.warn(\n"
     ]
    },
    {
     "name": "stdout",
     "output_type": "stream",
     "text": [
      "=============================================\n",
      "Run for 3 epoch\n",
      "Training Score: 0.5277966310853335\n",
      "Validation Score: 0.5138203356367226\n",
      "Training Loss Score: 1.2561620178927855\n",
      "Validation Loss Score: 1.2931820064068695\n",
      "=============================================\n"
     ]
    },
    {
     "name": "stderr",
     "output_type": "stream",
     "text": [
      "/Users/brandenkim/miniconda3/envs/ml_env/lib/python3.9/site-packages/sklearn/neural_network/_multilayer_perceptron.py:691: ConvergenceWarning: Stochastic Optimizer: Maximum iterations (1) reached and the optimization hasn't converged yet.\n",
      "  warnings.warn(\n"
     ]
    },
    {
     "name": "stdout",
     "output_type": "stream",
     "text": [
      "=============================================\n",
      "Run for 4 epoch\n",
      "Training Score: 0.5387795397050658\n",
      "Validation Score: 0.5194965449160909\n",
      "Training Loss Score: 1.226151520973366\n",
      "Validation Loss Score: 1.264166248025558\n",
      "=============================================\n"
     ]
    },
    {
     "name": "stderr",
     "output_type": "stream",
     "text": [
      "/Users/brandenkim/miniconda3/envs/ml_env/lib/python3.9/site-packages/sklearn/neural_network/_multilayer_perceptron.py:691: ConvergenceWarning: Stochastic Optimizer: Maximum iterations (1) reached and the optimization hasn't converged yet.\n",
      "  warnings.warn(\n"
     ]
    },
    {
     "name": "stdout",
     "output_type": "stream",
     "text": [
      "=============================================\n",
      "Run for 5 epoch\n",
      "Training Score: 0.5439316344789289\n",
      "Validation Score: 0.5264067127344522\n",
      "Training Loss Score: 1.2079902382822092\n",
      "Validation Loss Score: 1.24578403541386\n",
      "=============================================\n"
     ]
    },
    {
     "name": "stderr",
     "output_type": "stream",
     "text": [
      "/Users/brandenkim/miniconda3/envs/ml_env/lib/python3.9/site-packages/sklearn/neural_network/_multilayer_perceptron.py:691: ConvergenceWarning: Stochastic Optimizer: Maximum iterations (1) reached and the optimization hasn't converged yet.\n",
      "  warnings.warn(\n"
     ]
    },
    {
     "name": "stdout",
     "output_type": "stream",
     "text": [
      "=============================================\n",
      "Run for 6 epoch\n",
      "Training Score: 0.5474177824396865\n",
      "Validation Score: 0.5328232971372162\n",
      "Training Loss Score: 1.195109318748899\n",
      "Validation Loss Score: 1.2331259976320834\n",
      "=============================================\n"
     ]
    },
    {
     "name": "stderr",
     "output_type": "stream",
     "text": [
      "/Users/brandenkim/miniconda3/envs/ml_env/lib/python3.9/site-packages/sklearn/neural_network/_multilayer_perceptron.py:691: ConvergenceWarning: Stochastic Optimizer: Maximum iterations (1) reached and the optimization hasn't converged yet.\n",
      "  warnings.warn(\n"
     ]
    },
    {
     "name": "stdout",
     "output_type": "stream",
     "text": [
      "=============================================\n",
      "Run for 7 epoch\n",
      "Training Score: 0.5519220090084531\n",
      "Validation Score: 0.5362783810463968\n",
      "Training Loss Score: 1.1847767463147545\n",
      "Validation Loss Score: 1.222758219278813\n",
      "=============================================\n"
     ]
    },
    {
     "name": "stderr",
     "output_type": "stream",
     "text": [
      "/Users/brandenkim/miniconda3/envs/ml_env/lib/python3.9/site-packages/sklearn/neural_network/_multilayer_perceptron.py:691: ConvergenceWarning: Stochastic Optimizer: Maximum iterations (1) reached and the optimization hasn't converged yet.\n",
      "  warnings.warn(\n"
     ]
    },
    {
     "name": "stdout",
     "output_type": "stream",
     "text": [
      "=============================================\n",
      "Run for 8 epoch\n",
      "Training Score: 0.554050718825199\n",
      "Validation Score: 0.5376357354392892\n",
      "Training Loss Score: 1.1763438276963245\n",
      "Validation Loss Score: 1.2144276594448984\n",
      "=============================================\n"
     ]
    },
    {
     "name": "stderr",
     "output_type": "stream",
     "text": [
      "/Users/brandenkim/miniconda3/envs/ml_env/lib/python3.9/site-packages/sklearn/neural_network/_multilayer_perceptron.py:691: ConvergenceWarning: Stochastic Optimizer: Maximum iterations (1) reached and the optimization hasn't converged yet.\n",
      "  warnings.warn(\n"
     ]
    },
    {
     "name": "stdout",
     "output_type": "stream",
     "text": [
      "=============================================\n",
      "Run for 9 epoch\n",
      "Training Score: 0.5564262355772197\n",
      "Validation Score: 0.5397334649555775\n",
      "Training Loss Score: 1.1690324027438423\n",
      "Validation Loss Score: 1.2077951567958563\n",
      "=============================================\n"
     ]
    },
    {
     "name": "stderr",
     "output_type": "stream",
     "text": [
      "/Users/brandenkim/miniconda3/envs/ml_env/lib/python3.9/site-packages/sklearn/neural_network/_multilayer_perceptron.py:691: ConvergenceWarning: Stochastic Optimizer: Maximum iterations (1) reached and the optimization hasn't converged yet.\n",
      "  warnings.warn(\n"
     ]
    },
    {
     "name": "stdout",
     "output_type": "stream",
     "text": [
      "=============================================\n",
      "Run for 10 epoch\n",
      "Training Score: 0.5581847349910533\n",
      "Validation Score: 0.5429417571569596\n",
      "Training Loss Score: 1.162720292804309\n",
      "Validation Loss Score: 1.2022675430110559\n",
      "=============================================\n"
     ]
    },
    {
     "name": "stderr",
     "output_type": "stream",
     "text": [
      "/Users/brandenkim/miniconda3/envs/ml_env/lib/python3.9/site-packages/sklearn/neural_network/_multilayer_perceptron.py:691: ConvergenceWarning: Stochastic Optimizer: Maximum iterations (1) reached and the optimization hasn't converged yet.\n",
      "  warnings.warn(\n"
     ]
    },
    {
     "name": "stdout",
     "output_type": "stream",
     "text": [
      "=============================================\n",
      "Run for 11 epoch\n",
      "Training Score: 0.5600666378725242\n",
      "Validation Score: 0.5446692991115498\n",
      "Training Loss Score: 1.157048594171392\n",
      "Validation Loss Score: 1.1973995467118308\n",
      "=============================================\n"
     ]
    },
    {
     "name": "stderr",
     "output_type": "stream",
     "text": [
      "/Users/brandenkim/miniconda3/envs/ml_env/lib/python3.9/site-packages/sklearn/neural_network/_multilayer_perceptron.py:691: ConvergenceWarning: Stochastic Optimizer: Maximum iterations (1) reached and the optimization hasn't converged yet.\n",
      "  warnings.warn(\n"
     ]
    },
    {
     "name": "stdout",
     "output_type": "stream",
     "text": [
      "=============================================\n",
      "Run for 12 epoch\n",
      "Training Score: 0.5612698216819892\n",
      "Validation Score: 0.5467670286278381\n",
      "Training Loss Score: 1.1520792560325996\n",
      "Validation Loss Score: 1.1932836608903854\n",
      "=============================================\n"
     ]
    },
    {
     "name": "stderr",
     "output_type": "stream",
     "text": [
      "/Users/brandenkim/miniconda3/envs/ml_env/lib/python3.9/site-packages/sklearn/neural_network/_multilayer_perceptron.py:691: ConvergenceWarning: Stochastic Optimizer: Maximum iterations (1) reached and the optimization hasn't converged yet.\n",
      "  warnings.warn(\n"
     ]
    },
    {
     "name": "stdout",
     "output_type": "stream",
     "text": [
      "=============================================\n",
      "Run for 13 epoch\n",
      "Training Score: 0.5625038563583636\n",
      "Validation Score: 0.5487413622902271\n",
      "Training Loss Score: 1.1474402452506187\n",
      "Validation Loss Score: 1.1892029607437749\n",
      "=============================================\n"
     ]
    },
    {
     "name": "stderr",
     "output_type": "stream",
     "text": [
      "/Users/brandenkim/miniconda3/envs/ml_env/lib/python3.9/site-packages/sklearn/neural_network/_multilayer_perceptron.py:691: ConvergenceWarning: Stochastic Optimizer: Maximum iterations (1) reached and the optimization hasn't converged yet.\n",
      "  warnings.warn(\n"
     ]
    },
    {
     "name": "stdout",
     "output_type": "stream",
     "text": [
      "=============================================\n",
      "Run for 14 epoch\n",
      "Training Score: 0.5643240575060159\n",
      "Validation Score: 0.5484945705824285\n",
      "Training Loss Score: 1.1432066205833211\n",
      "Validation Loss Score: 1.1855779698614075\n",
      "=============================================\n"
     ]
    },
    {
     "name": "stderr",
     "output_type": "stream",
     "text": [
      "/Users/brandenkim/miniconda3/envs/ml_env/lib/python3.9/site-packages/sklearn/neural_network/_multilayer_perceptron.py:691: ConvergenceWarning: Stochastic Optimizer: Maximum iterations (1) reached and the optimization hasn't converged yet.\n",
      "  warnings.warn(\n"
     ]
    },
    {
     "name": "stdout",
     "output_type": "stream",
     "text": [
      "=============================================\n",
      "Run for 15 epoch\n",
      "Training Score: 0.5662676621213056\n",
      "Validation Score: 0.5494817374136229\n",
      "Training Loss Score: 1.1392638229770198\n",
      "Validation Loss Score: 1.182051791519691\n",
      "=============================================\n"
     ]
    },
    {
     "name": "stderr",
     "output_type": "stream",
     "text": [
      "/Users/brandenkim/miniconda3/envs/ml_env/lib/python3.9/site-packages/sklearn/neural_network/_multilayer_perceptron.py:691: ConvergenceWarning: Stochastic Optimizer: Maximum iterations (1) reached and the optimization hasn't converged yet.\n",
      "  warnings.warn(\n"
     ]
    },
    {
     "name": "stdout",
     "output_type": "stream",
     "text": [
      "=============================================\n",
      "Run for 16 epoch\n",
      "Training Score: 0.5671623372616771\n",
      "Validation Score: 0.5497285291214216\n",
      "Training Loss Score: 1.1353733293394859\n",
      "Validation Loss Score: 1.1785111157212538\n",
      "=============================================\n"
     ]
    },
    {
     "name": "stderr",
     "output_type": "stream",
     "text": [
      "/Users/brandenkim/miniconda3/envs/ml_env/lib/python3.9/site-packages/sklearn/neural_network/_multilayer_perceptron.py:691: ConvergenceWarning: Stochastic Optimizer: Maximum iterations (1) reached and the optimization hasn't converged yet.\n",
      "  warnings.warn(\n"
     ]
    },
    {
     "name": "stdout",
     "output_type": "stream",
     "text": [
      "=============================================\n",
      "Run for 17 epoch\n",
      "Training Score: 0.567841056333683\n",
      "Validation Score: 0.5525666337611056\n",
      "Training Loss Score: 1.1319061530377597\n",
      "Validation Loss Score: 1.1754573983118373\n",
      "=============================================\n"
     ]
    },
    {
     "name": "stderr",
     "output_type": "stream",
     "text": [
      "/Users/brandenkim/miniconda3/envs/ml_env/lib/python3.9/site-packages/sklearn/neural_network/_multilayer_perceptron.py:691: ConvergenceWarning: Stochastic Optimizer: Maximum iterations (1) reached and the optimization hasn't converged yet.\n",
      "  warnings.warn(\n"
     ]
    },
    {
     "name": "stdout",
     "output_type": "stream",
     "text": [
      "=============================================\n",
      "Run for 18 epoch\n",
      "Training Score: 0.5688282840747825\n",
      "Validation Score: 0.5538005923000987\n",
      "Training Loss Score: 1.1284247236068787\n",
      "Validation Loss Score: 1.1725912977015078\n",
      "=============================================\n"
     ]
    },
    {
     "name": "stderr",
     "output_type": "stream",
     "text": [
      "/Users/brandenkim/miniconda3/envs/ml_env/lib/python3.9/site-packages/sklearn/neural_network/_multilayer_perceptron.py:691: ConvergenceWarning: Stochastic Optimizer: Maximum iterations (1) reached and the optimization hasn't converged yet.\n",
      "  warnings.warn(\n"
     ]
    },
    {
     "name": "stdout",
     "output_type": "stream",
     "text": [
      "=============================================\n",
      "Run for 19 epoch\n",
      "Training Score: 0.5697846609489726\n",
      "Validation Score: 0.5547877591312932\n",
      "Training Loss Score: 1.1252700704058891\n",
      "Validation Loss Score: 1.1699962753119082\n",
      "=============================================\n"
     ]
    },
    {
     "name": "stderr",
     "output_type": "stream",
     "text": [
      "/Users/brandenkim/miniconda3/envs/ml_env/lib/python3.9/site-packages/sklearn/neural_network/_multilayer_perceptron.py:691: ConvergenceWarning: Stochastic Optimizer: Maximum iterations (1) reached and the optimization hasn't converged yet.\n",
      "  warnings.warn(\n"
     ]
    },
    {
     "name": "stdout",
     "output_type": "stream",
     "text": [
      "=============================================\n",
      "Run for 20 epoch\n",
      "Training Score: 0.570586783488616\n",
      "Validation Score: 0.555898321816387\n",
      "Training Loss Score: 1.1223360473745452\n",
      "Validation Loss Score: 1.167743873395636\n",
      "=============================================\n"
     ]
    },
    {
     "name": "stderr",
     "output_type": "stream",
     "text": [
      "/Users/brandenkim/miniconda3/envs/ml_env/lib/python3.9/site-packages/sklearn/neural_network/_multilayer_perceptron.py:691: ConvergenceWarning: Stochastic Optimizer: Maximum iterations (1) reached and the optimization hasn't converged yet.\n",
      "  warnings.warn(\n"
     ]
    },
    {
     "name": "stdout",
     "output_type": "stream",
     "text": [
      "=============================================\n",
      "Run for 21 epoch\n",
      "Training Score: 0.5709878447584377\n",
      "Validation Score: 0.5573790720631787\n",
      "Training Loss Score: 1.119437409037394\n",
      "Validation Loss Score: 1.1653253662147038\n",
      "=============================================\n"
     ]
    },
    {
     "name": "stderr",
     "output_type": "stream",
     "text": [
      "/Users/brandenkim/miniconda3/envs/ml_env/lib/python3.9/site-packages/sklearn/neural_network/_multilayer_perceptron.py:691: ConvergenceWarning: Stochastic Optimizer: Maximum iterations (1) reached and the optimization hasn't converged yet.\n",
      "  warnings.warn(\n"
     ]
    },
    {
     "name": "stdout",
     "output_type": "stream",
     "text": [
      "=============================================\n",
      "Run for 22 epoch\n",
      "Training Score: 0.5713889060282594\n",
      "Validation Score: 0.5589832181638696\n",
      "Training Loss Score: 1.1168164000240057\n",
      "Validation Loss Score: 1.1631371083847375\n",
      "=============================================\n"
     ]
    },
    {
     "name": "stderr",
     "output_type": "stream",
     "text": [
      "/Users/brandenkim/miniconda3/envs/ml_env/lib/python3.9/site-packages/sklearn/neural_network/_multilayer_perceptron.py:691: ConvergenceWarning: Stochastic Optimizer: Maximum iterations (1) reached and the optimization hasn't converged yet.\n",
      "  warnings.warn(\n"
     ]
    },
    {
     "name": "stdout",
     "output_type": "stream",
     "text": [
      "=============================================\n",
      "Run for 23 epoch\n",
      "Training Score: 0.5721601777009934\n",
      "Validation Score: 0.5592300098716683\n",
      "Training Loss Score: 1.1141863071433264\n",
      "Validation Loss Score: 1.1610702181304164\n",
      "=============================================\n"
     ]
    },
    {
     "name": "stderr",
     "output_type": "stream",
     "text": [
      "/Users/brandenkim/miniconda3/envs/ml_env/lib/python3.9/site-packages/sklearn/neural_network/_multilayer_perceptron.py:691: ConvergenceWarning: Stochastic Optimizer: Maximum iterations (1) reached and the optimization hasn't converged yet.\n",
      "  warnings.warn(\n"
     ]
    },
    {
     "name": "stdout",
     "output_type": "stream",
     "text": [
      "=============================================\n",
      "Run for 24 epoch\n",
      "Training Score: 0.5727154933053619\n",
      "Validation Score: 0.5593534057255676\n",
      "Training Loss Score: 1.1117580144037518\n",
      "Validation Loss Score: 1.159300453249215\n",
      "=============================================\n"
     ]
    },
    {
     "name": "stderr",
     "output_type": "stream",
     "text": [
      "/Users/brandenkim/miniconda3/envs/ml_env/lib/python3.9/site-packages/sklearn/neural_network/_multilayer_perceptron.py:691: ConvergenceWarning: Stochastic Optimizer: Maximum iterations (1) reached and the optimization hasn't converged yet.\n",
      "  warnings.warn(\n"
     ]
    },
    {
     "name": "stdout",
     "output_type": "stream",
     "text": [
      "=============================================\n",
      "Run for 25 epoch\n",
      "Training Score: 0.5735176158450053\n",
      "Validation Score: 0.5594768015794669\n",
      "Training Loss Score: 1.1094792983962942\n",
      "Validation Loss Score: 1.1573598244704586\n",
      "=============================================\n"
     ]
    },
    {
     "name": "stderr",
     "output_type": "stream",
     "text": [
      "/Users/brandenkim/miniconda3/envs/ml_env/lib/python3.9/site-packages/sklearn/neural_network/_multilayer_perceptron.py:691: ConvergenceWarning: Stochastic Optimizer: Maximum iterations (1) reached and the optimization hasn't converged yet.\n",
      "  warnings.warn(\n"
     ]
    },
    {
     "name": "stdout",
     "output_type": "stream",
     "text": [
      "=============================================\n",
      "Run for 26 epoch\n",
      "Training Score: 0.5742580366508299\n",
      "Validation Score: 0.5605873642645607\n",
      "Training Loss Score: 1.1072982407686285\n",
      "Validation Loss Score: 1.155791342676497\n",
      "=============================================\n"
     ]
    },
    {
     "name": "stderr",
     "output_type": "stream",
     "text": [
      "/Users/brandenkim/miniconda3/envs/ml_env/lib/python3.9/site-packages/sklearn/neural_network/_multilayer_perceptron.py:691: ConvergenceWarning: Stochastic Optimizer: Maximum iterations (1) reached and the optimization hasn't converged yet.\n",
      "  warnings.warn(\n"
     ]
    },
    {
     "name": "stdout",
     "output_type": "stream",
     "text": [
      "=============================================\n",
      "Run for 27 epoch\n",
      "Training Score: 0.5747207996544703\n",
      "Validation Score: 0.5602171767028628\n",
      "Training Loss Score: 1.1052839838319641\n",
      "Validation Loss Score: 1.1542269018118654\n",
      "=============================================\n"
     ]
    },
    {
     "name": "stderr",
     "output_type": "stream",
     "text": [
      "/Users/brandenkim/miniconda3/envs/ml_env/lib/python3.9/site-packages/sklearn/neural_network/_multilayer_perceptron.py:691: ConvergenceWarning: Stochastic Optimizer: Maximum iterations (1) reached and the optimization hasn't converged yet.\n",
      "  warnings.warn(\n"
     ]
    },
    {
     "name": "stdout",
     "output_type": "stream",
     "text": [
      "=============================================\n",
      "Run for 28 epoch\n",
      "Training Score: 0.5753069661257482\n",
      "Validation Score: 0.5619447186574531\n",
      "Training Loss Score: 1.1034615277906274\n",
      "Validation Loss Score: 1.1528868747252645\n",
      "=============================================\n"
     ]
    },
    {
     "name": "stderr",
     "output_type": "stream",
     "text": [
      "/Users/brandenkim/miniconda3/envs/ml_env/lib/python3.9/site-packages/sklearn/neural_network/_multilayer_perceptron.py:691: ConvergenceWarning: Stochastic Optimizer: Maximum iterations (1) reached and the optimization hasn't converged yet.\n",
      "  warnings.warn(\n"
     ]
    },
    {
     "name": "stdout",
     "output_type": "stream",
     "text": [
      "=============================================\n",
      "Run for 29 epoch\n",
      "Training Score: 0.5762016412661196\n",
      "Validation Score: 0.5630552813425469\n",
      "Training Loss Score: 1.1017296311111724\n",
      "Validation Loss Score: 1.151487716270698\n",
      "=============================================\n"
     ]
    },
    {
     "name": "stderr",
     "output_type": "stream",
     "text": [
      "/Users/brandenkim/miniconda3/envs/ml_env/lib/python3.9/site-packages/sklearn/neural_network/_multilayer_perceptron.py:691: ConvergenceWarning: Stochastic Optimizer: Maximum iterations (1) reached and the optimization hasn't converged yet.\n",
      "  warnings.warn(\n"
     ]
    },
    {
     "name": "stdout",
     "output_type": "stream",
     "text": [
      "=============================================\n",
      "Run for 30 epoch\n",
      "Training Score: 0.5768186586043068\n",
      "Validation Score: 0.5641658440276407\n",
      "Training Loss Score: 1.1001808773641963\n",
      "Validation Loss Score: 1.1503137399422352\n",
      "=============================================\n"
     ]
    },
    {
     "name": "stderr",
     "output_type": "stream",
     "text": [
      "/Users/brandenkim/miniconda3/envs/ml_env/lib/python3.9/site-packages/sklearn/neural_network/_multilayer_perceptron.py:691: ConvergenceWarning: Stochastic Optimizer: Maximum iterations (1) reached and the optimization hasn't converged yet.\n",
      "  warnings.warn(\n"
     ]
    },
    {
     "name": "stdout",
     "output_type": "stream",
     "text": [
      "=============================================\n",
      "Run for 31 epoch\n",
      "Training Score: 0.5773739742086753\n",
      "Validation Score: 0.5646594274432379\n",
      "Training Loss Score: 1.0987032059427302\n",
      "Validation Loss Score: 1.1492133703943728\n",
      "=============================================\n"
     ]
    },
    {
     "name": "stderr",
     "output_type": "stream",
     "text": [
      "/Users/brandenkim/miniconda3/envs/ml_env/lib/python3.9/site-packages/sklearn/neural_network/_multilayer_perceptron.py:691: ConvergenceWarning: Stochastic Optimizer: Maximum iterations (1) reached and the optimization hasn't converged yet.\n",
      "  warnings.warn(\n"
     ]
    },
    {
     "name": "stdout",
     "output_type": "stream",
     "text": [
      "=============================================\n",
      "Run for 32 epoch\n",
      "Training Score: 0.5783303510828655\n",
      "Validation Score: 0.5656465942744324\n",
      "Training Loss Score: 1.0972707691311392\n",
      "Validation Loss Score: 1.1481013028713665\n",
      "=============================================\n"
     ]
    },
    {
     "name": "stderr",
     "output_type": "stream",
     "text": [
      "/Users/brandenkim/miniconda3/envs/ml_env/lib/python3.9/site-packages/sklearn/neural_network/_multilayer_perceptron.py:691: ConvergenceWarning: Stochastic Optimizer: Maximum iterations (1) reached and the optimization hasn't converged yet.\n",
      "  warnings.warn(\n"
     ]
    },
    {
     "name": "stdout",
     "output_type": "stream",
     "text": [
      "=============================================\n",
      "Run for 33 epoch\n",
      "Training Score: 0.5788548158203245\n",
      "Validation Score: 0.5657699901283317\n",
      "Training Loss Score: 1.0958150359532184\n",
      "Validation Loss Score: 1.1471319763283763\n",
      "=============================================\n"
     ]
    },
    {
     "name": "stderr",
     "output_type": "stream",
     "text": [
      "/Users/brandenkim/miniconda3/envs/ml_env/lib/python3.9/site-packages/sklearn/neural_network/_multilayer_perceptron.py:691: ConvergenceWarning: Stochastic Optimizer: Maximum iterations (1) reached and the optimization hasn't converged yet.\n",
      "  warnings.warn(\n"
     ]
    },
    {
     "name": "stdout",
     "output_type": "stream",
     "text": [
      "=============================================\n",
      "Run for 34 epoch\n",
      "Training Score: 0.5787005614857778\n",
      "Validation Score: 0.5653998025666338\n",
      "Training Loss Score: 1.094394607932041\n",
      "Validation Loss Score: 1.1460085616142615\n",
      "=============================================\n"
     ]
    },
    {
     "name": "stderr",
     "output_type": "stream",
     "text": [
      "/Users/brandenkim/miniconda3/envs/ml_env/lib/python3.9/site-packages/sklearn/neural_network/_multilayer_perceptron.py:691: ConvergenceWarning: Stochastic Optimizer: Maximum iterations (1) reached and the optimization hasn't converged yet.\n",
      "  warnings.warn(\n"
     ]
    },
    {
     "name": "stdout",
     "output_type": "stream",
     "text": [
      "=============================================\n",
      "Run for 35 epoch\n",
      "Training Score: 0.5787622632195965\n",
      "Validation Score: 0.5657699901283317\n",
      "Training Loss Score: 1.0930759946191366\n",
      "Validation Loss Score: 1.1451148939709044\n",
      "=============================================\n"
     ]
    },
    {
     "name": "stderr",
     "output_type": "stream",
     "text": [
      "/Users/brandenkim/miniconda3/envs/ml_env/lib/python3.9/site-packages/sklearn/neural_network/_multilayer_perceptron.py:691: ConvergenceWarning: Stochastic Optimizer: Maximum iterations (1) reached and the optimization hasn't converged yet.\n",
      "  warnings.warn(\n"
     ]
    },
    {
     "name": "stdout",
     "output_type": "stream",
     "text": [
      "=============================================\n",
      "Run for 36 epoch\n",
      "Training Score: 0.5795952366261492\n",
      "Validation Score: 0.5652764067127345\n",
      "Training Loss Score: 1.091762798874329\n",
      "Validation Loss Score: 1.1442662456115784\n",
      "=============================================\n"
     ]
    },
    {
     "name": "stderr",
     "output_type": "stream",
     "text": [
      "/Users/brandenkim/miniconda3/envs/ml_env/lib/python3.9/site-packages/sklearn/neural_network/_multilayer_perceptron.py:691: ConvergenceWarning: Stochastic Optimizer: Maximum iterations (1) reached and the optimization hasn't converged yet.\n",
      "  warnings.warn(\n"
     ]
    },
    {
     "name": "stdout",
     "output_type": "stream",
     "text": [
      "=============================================\n",
      "Run for 37 epoch\n",
      "Training Score: 0.579749490960696\n",
      "Validation Score: 0.5650296150049359\n",
      "Training Loss Score: 1.0905434327775032\n",
      "Validation Loss Score: 1.143335058983351\n",
      "=============================================\n"
     ]
    },
    {
     "name": "stderr",
     "output_type": "stream",
     "text": [
      "/Users/brandenkim/miniconda3/envs/ml_env/lib/python3.9/site-packages/sklearn/neural_network/_multilayer_perceptron.py:691: ConvergenceWarning: Stochastic Optimizer: Maximum iterations (1) reached and the optimization hasn't converged yet.\n",
      "  warnings.warn(\n"
     ]
    },
    {
     "name": "stdout",
     "output_type": "stream",
     "text": [
      "=============================================\n",
      "Run for 38 epoch\n",
      "Training Score: 0.5805824643672487\n",
      "Validation Score: 0.5663869693978283\n",
      "Training Loss Score: 1.0893122182135628\n",
      "Validation Loss Score: 1.1424842294421855\n",
      "=============================================\n"
     ]
    },
    {
     "name": "stderr",
     "output_type": "stream",
     "text": [
      "/Users/brandenkim/miniconda3/envs/ml_env/lib/python3.9/site-packages/sklearn/neural_network/_multilayer_perceptron.py:691: ConvergenceWarning: Stochastic Optimizer: Maximum iterations (1) reached and the optimization hasn't converged yet.\n",
      "  warnings.warn(\n"
     ]
    },
    {
     "name": "stdout",
     "output_type": "stream",
     "text": [
      "=============================================\n",
      "Run for 39 epoch\n",
      "Training Score: 0.580860122169433\n",
      "Validation Score: 0.5661401776900297\n",
      "Training Loss Score: 1.0881398849219173\n",
      "Validation Loss Score: 1.1416170655961524\n",
      "=============================================\n"
     ]
    },
    {
     "name": "stderr",
     "output_type": "stream",
     "text": [
      "/Users/brandenkim/miniconda3/envs/ml_env/lib/python3.9/site-packages/sklearn/neural_network/_multilayer_perceptron.py:691: ConvergenceWarning: Stochastic Optimizer: Maximum iterations (1) reached and the optimization hasn't converged yet.\n",
      "  warnings.warn(\n"
     ]
    },
    {
     "name": "stdout",
     "output_type": "stream",
     "text": [
      "=============================================\n",
      "Run for 40 epoch\n",
      "Training Score: 0.5811069291047078\n",
      "Validation Score: 0.5666337611056268\n",
      "Training Loss Score: 1.087001199940436\n",
      "Validation Loss Score: 1.140865113343112\n",
      "=============================================\n"
     ]
    },
    {
     "name": "stderr",
     "output_type": "stream",
     "text": [
      "/Users/brandenkim/miniconda3/envs/ml_env/lib/python3.9/site-packages/sklearn/neural_network/_multilayer_perceptron.py:691: ConvergenceWarning: Stochastic Optimizer: Maximum iterations (1) reached and the optimization hasn't converged yet.\n",
      "  warnings.warn(\n"
     ]
    },
    {
     "name": "stdout",
     "output_type": "stream",
     "text": [
      "=============================================\n",
      "Run for 41 epoch\n",
      "Training Score: 0.5818473499105324\n",
      "Validation Score: 0.5663869693978283\n",
      "Training Loss Score: 1.0858680372857998\n",
      "Validation Loss Score: 1.1399901967525183\n",
      "=============================================\n"
     ]
    },
    {
     "name": "stderr",
     "output_type": "stream",
     "text": [
      "/Users/brandenkim/miniconda3/envs/ml_env/lib/python3.9/site-packages/sklearn/neural_network/_multilayer_perceptron.py:691: ConvergenceWarning: Stochastic Optimizer: Maximum iterations (1) reached and the optimization hasn't converged yet.\n",
      "  warnings.warn(\n"
     ]
    },
    {
     "name": "stdout",
     "output_type": "stream",
     "text": [
      "=============================================\n",
      "Run for 42 epoch\n",
      "Training Score: 0.5818164990436231\n",
      "Validation Score: 0.565893385982231\n",
      "Training Loss Score: 1.0848663973115267\n",
      "Validation Loss Score: 1.1393041904981023\n",
      "=============================================\n"
     ]
    },
    {
     "name": "stderr",
     "output_type": "stream",
     "text": [
      "/Users/brandenkim/miniconda3/envs/ml_env/lib/python3.9/site-packages/sklearn/neural_network/_multilayer_perceptron.py:691: ConvergenceWarning: Stochastic Optimizer: Maximum iterations (1) reached and the optimization hasn't converged yet.\n",
      "  warnings.warn(\n"
     ]
    },
    {
     "name": "stdout",
     "output_type": "stream",
     "text": [
      "=============================================\n",
      "Run for 43 epoch\n",
      "Training Score: 0.5815696921083482\n",
      "Validation Score: 0.5656465942744324\n",
      "Training Loss Score: 1.0838652501449748\n",
      "Validation Loss Score: 1.1385964975637208\n",
      "=============================================\n"
     ]
    },
    {
     "name": "stderr",
     "output_type": "stream",
     "text": [
      "/Users/brandenkim/miniconda3/envs/ml_env/lib/python3.9/site-packages/sklearn/neural_network/_multilayer_perceptron.py:691: ConvergenceWarning: Stochastic Optimizer: Maximum iterations (1) reached and the optimization hasn't converged yet.\n",
      "  warnings.warn(\n"
     ]
    },
    {
     "name": "stdout",
     "output_type": "stream",
     "text": [
      "=============================================\n",
      "Run for 44 epoch\n",
      "Training Score: 0.5824026655149009\n",
      "Validation Score: 0.5653998025666338\n",
      "Training Loss Score: 1.0828657090600542\n",
      "Validation Loss Score: 1.138034381222011\n",
      "=============================================\n"
     ]
    },
    {
     "name": "stderr",
     "output_type": "stream",
     "text": [
      "/Users/brandenkim/miniconda3/envs/ml_env/lib/python3.9/site-packages/sklearn/neural_network/_multilayer_perceptron.py:691: ConvergenceWarning: Stochastic Optimizer: Maximum iterations (1) reached and the optimization hasn't converged yet.\n",
      "  warnings.warn(\n"
     ]
    },
    {
     "name": "stdout",
     "output_type": "stream",
     "text": [
      "=============================================\n",
      "Run for 45 epoch\n",
      "Training Score: 0.5829271302523601\n",
      "Validation Score: 0.565893385982231\n",
      "Training Loss Score: 1.0819241501461376\n",
      "Validation Loss Score: 1.1375346374982769\n",
      "=============================================\n"
     ]
    },
    {
     "name": "stderr",
     "output_type": "stream",
     "text": [
      "/Users/brandenkim/miniconda3/envs/ml_env/lib/python3.9/site-packages/sklearn/neural_network/_multilayer_perceptron.py:691: ConvergenceWarning: Stochastic Optimizer: Maximum iterations (1) reached and the optimization hasn't converged yet.\n",
      "  warnings.warn(\n"
     ]
    },
    {
     "name": "stdout",
     "output_type": "stream",
     "text": [
      "=============================================\n",
      "Run for 46 epoch\n",
      "Training Score: 0.5835441475905473\n",
      "Validation Score: 0.5652764067127345\n",
      "Training Loss Score: 1.0810062941767853\n",
      "Validation Loss Score: 1.1370032305598745\n",
      "=============================================\n"
     ]
    },
    {
     "name": "stderr",
     "output_type": "stream",
     "text": [
      "/Users/brandenkim/miniconda3/envs/ml_env/lib/python3.9/site-packages/sklearn/neural_network/_multilayer_perceptron.py:691: ConvergenceWarning: Stochastic Optimizer: Maximum iterations (1) reached and the optimization hasn't converged yet.\n",
      "  warnings.warn(\n"
     ]
    },
    {
     "name": "stdout",
     "output_type": "stream",
     "text": [
      "=============================================\n",
      "Run for 47 epoch\n",
      "Training Score: 0.5838835071265502\n",
      "Validation Score: 0.5651530108588352\n",
      "Training Loss Score: 1.0799899907271528\n",
      "Validation Loss Score: 1.1364754143467999\n",
      "=============================================\n"
     ]
    },
    {
     "name": "stderr",
     "output_type": "stream",
     "text": [
      "/Users/brandenkim/miniconda3/envs/ml_env/lib/python3.9/site-packages/sklearn/neural_network/_multilayer_perceptron.py:691: ConvergenceWarning: Stochastic Optimizer: Maximum iterations (1) reached and the optimization hasn't converged yet.\n",
      "  warnings.warn(\n"
     ]
    },
    {
     "name": "stdout",
     "output_type": "stream",
     "text": [
      "=============================================\n",
      "Run for 48 epoch\n",
      "Training Score: 0.5844696735978281\n",
      "Validation Score: 0.5649062191510366\n",
      "Training Loss Score: 1.079143155288516\n",
      "Validation Loss Score: 1.1359033745610643\n",
      "=============================================\n"
     ]
    },
    {
     "name": "stderr",
     "output_type": "stream",
     "text": [
      "/Users/brandenkim/miniconda3/envs/ml_env/lib/python3.9/site-packages/sklearn/neural_network/_multilayer_perceptron.py:691: ConvergenceWarning: Stochastic Optimizer: Maximum iterations (1) reached and the optimization hasn't converged yet.\n",
      "  warnings.warn(\n"
     ]
    },
    {
     "name": "stdout",
     "output_type": "stream",
     "text": [
      "=============================================\n",
      "Run for 49 epoch\n",
      "Training Score: 0.584809033133831\n",
      "Validation Score: 0.5644126357354393\n",
      "Training Loss Score: 1.0782635758455215\n",
      "Validation Loss Score: 1.1353360961644816\n",
      "=============================================\n"
     ]
    },
    {
     "name": "stderr",
     "output_type": "stream",
     "text": [
      "/Users/brandenkim/miniconda3/envs/ml_env/lib/python3.9/site-packages/sklearn/neural_network/_multilayer_perceptron.py:691: ConvergenceWarning: Stochastic Optimizer: Maximum iterations (1) reached and the optimization hasn't converged yet.\n",
      "  warnings.warn(\n"
     ]
    },
    {
     "name": "stdout",
     "output_type": "stream",
     "text": [
      "=============================================\n",
      "Run for 50 epoch\n",
      "Training Score: 0.5850558400691059\n",
      "Validation Score: 0.5653998025666338\n",
      "Training Loss Score: 1.0774548294692152\n",
      "Validation Loss Score: 1.1347672720950301\n",
      "=============================================\n"
     ]
    },
    {
     "name": "stderr",
     "output_type": "stream",
     "text": [
      "/Users/brandenkim/miniconda3/envs/ml_env/lib/python3.9/site-packages/sklearn/neural_network/_multilayer_perceptron.py:691: ConvergenceWarning: Stochastic Optimizer: Maximum iterations (1) reached and the optimization hasn't converged yet.\n",
      "  warnings.warn(\n"
     ]
    },
    {
     "name": "stdout",
     "output_type": "stream",
     "text": [
      "=============================================\n",
      "Run for 51 epoch\n",
      "Training Score: 0.5849941383352872\n",
      "Validation Score: 0.5652764067127345\n",
      "Training Loss Score: 1.0766022651634453\n",
      "Validation Loss Score: 1.1343458794477368\n",
      "=============================================\n"
     ]
    },
    {
     "name": "stderr",
     "output_type": "stream",
     "text": [
      "/Users/brandenkim/miniconda3/envs/ml_env/lib/python3.9/site-packages/sklearn/neural_network/_multilayer_perceptron.py:691: ConvergenceWarning: Stochastic Optimizer: Maximum iterations (1) reached and the optimization hasn't converged yet.\n",
      "  warnings.warn(\n"
     ]
    },
    {
     "name": "stdout",
     "output_type": "stream",
     "text": [
      "=============================================\n",
      "Run for 52 epoch\n",
      "Training Score: 0.5854877522058369\n",
      "Validation Score: 0.5657699901283317\n",
      "Training Loss Score: 1.0758092303934153\n",
      "Validation Loss Score: 1.133831824810596\n",
      "=============================================\n"
     ]
    },
    {
     "name": "stderr",
     "output_type": "stream",
     "text": [
      "/Users/brandenkim/miniconda3/envs/ml_env/lib/python3.9/site-packages/sklearn/neural_network/_multilayer_perceptron.py:691: ConvergenceWarning: Stochastic Optimizer: Maximum iterations (1) reached and the optimization hasn't converged yet.\n",
      "  warnings.warn(\n"
     ]
    },
    {
     "name": "stdout",
     "output_type": "stream",
     "text": [
      "=============================================\n",
      "Run for 53 epoch\n",
      "Training Score: 0.5856420065403838\n",
      "Validation Score: 0.5653998025666338\n",
      "Training Loss Score: 1.0750065574238068\n",
      "Validation Loss Score: 1.1333685527524315\n",
      "=============================================\n"
     ]
    },
    {
     "name": "stderr",
     "output_type": "stream",
     "text": [
      "/Users/brandenkim/miniconda3/envs/ml_env/lib/python3.9/site-packages/sklearn/neural_network/_multilayer_perceptron.py:691: ConvergenceWarning: Stochastic Optimizer: Maximum iterations (1) reached and the optimization hasn't converged yet.\n",
      "  warnings.warn(\n"
     ]
    },
    {
     "name": "stdout",
     "output_type": "stream",
     "text": [
      "=============================================\n",
      "Run for 54 epoch\n",
      "Training Score: 0.5856728574072931\n",
      "Validation Score: 0.5647828232971372\n",
      "Training Loss Score: 1.0742108429555837\n",
      "Validation Loss Score: 1.1329043850141953\n",
      "=============================================\n"
     ]
    },
    {
     "name": "stderr",
     "output_type": "stream",
     "text": [
      "/Users/brandenkim/miniconda3/envs/ml_env/lib/python3.9/site-packages/sklearn/neural_network/_multilayer_perceptron.py:691: ConvergenceWarning: Stochastic Optimizer: Maximum iterations (1) reached and the optimization hasn't converged yet.\n",
      "  warnings.warn(\n"
     ]
    },
    {
     "name": "stdout",
     "output_type": "stream",
     "text": [
      "=============================================\n",
      "Run for 55 epoch\n",
      "Training Score: 0.5853643487381995\n",
      "Validation Score: 0.56428923988154\n",
      "Training Loss Score: 1.0733586567518187\n",
      "Validation Loss Score: 1.1323675222187226\n",
      "=============================================\n"
     ]
    },
    {
     "name": "stderr",
     "output_type": "stream",
     "text": [
      "/Users/brandenkim/miniconda3/envs/ml_env/lib/python3.9/site-packages/sklearn/neural_network/_multilayer_perceptron.py:691: ConvergenceWarning: Stochastic Optimizer: Maximum iterations (1) reached and the optimization hasn't converged yet.\n",
      "  warnings.warn(\n"
     ]
    },
    {
     "name": "stdout",
     "output_type": "stream",
     "text": [
      "=============================================\n",
      "Run for 56 epoch\n",
      "Training Score: 0.5850866909360153\n",
      "Validation Score: 0.5635488647581441\n",
      "Training Loss Score: 1.0726491072341378\n",
      "Validation Loss Score: 1.1319281639233174\n",
      "=============================================\n"
     ]
    },
    {
     "name": "stderr",
     "output_type": "stream",
     "text": [
      "/Users/brandenkim/miniconda3/envs/ml_env/lib/python3.9/site-packages/sklearn/neural_network/_multilayer_perceptron.py:691: ConvergenceWarning: Stochastic Optimizer: Maximum iterations (1) reached and the optimization hasn't converged yet.\n",
      "  warnings.warn(\n"
     ]
    },
    {
     "name": "stdout",
     "output_type": "stream",
     "text": [
      "=============================================\n",
      "Run for 57 epoch\n",
      "Training Score: 0.5842228666625532\n",
      "Validation Score: 0.5635488647581441\n",
      "Training Loss Score: 1.0719346957952236\n",
      "Validation Loss Score: 1.1315723268583209\n",
      "=============================================\n"
     ]
    },
    {
     "name": "stderr",
     "output_type": "stream",
     "text": [
      "/Users/brandenkim/miniconda3/envs/ml_env/lib/python3.9/site-packages/sklearn/neural_network/_multilayer_perceptron.py:691: ConvergenceWarning: Stochastic Optimizer: Maximum iterations (1) reached and the optimization hasn't converged yet.\n",
      "  warnings.warn(\n"
     ]
    },
    {
     "name": "stdout",
     "output_type": "stream",
     "text": [
      "=============================================\n",
      "Run for 58 epoch\n",
      "Training Score: 0.5839760597272783\n",
      "Validation Score: 0.5634254689042448\n",
      "Training Loss Score: 1.0711977513516353\n",
      "Validation Loss Score: 1.1309448173086172\n",
      "=============================================\n"
     ]
    },
    {
     "name": "stderr",
     "output_type": "stream",
     "text": [
      "/Users/brandenkim/miniconda3/envs/ml_env/lib/python3.9/site-packages/sklearn/neural_network/_multilayer_perceptron.py:691: ConvergenceWarning: Stochastic Optimizer: Maximum iterations (1) reached and the optimization hasn't converged yet.\n",
      "  warnings.warn(\n"
     ]
    },
    {
     "name": "stdout",
     "output_type": "stream",
     "text": [
      "=============================================\n",
      "Run for 59 epoch\n",
      "Training Score: 0.5841920157956438\n",
      "Validation Score: 0.5639190523198421\n",
      "Training Loss Score: 1.070484822981507\n",
      "Validation Loss Score: 1.1304654009587871\n",
      "=============================================\n"
     ]
    },
    {
     "name": "stderr",
     "output_type": "stream",
     "text": [
      "/Users/brandenkim/miniconda3/envs/ml_env/lib/python3.9/site-packages/sklearn/neural_network/_multilayer_perceptron.py:691: ConvergenceWarning: Stochastic Optimizer: Maximum iterations (1) reached and the optimization hasn't converged yet.\n",
      "  warnings.warn(\n"
     ]
    },
    {
     "name": "stdout",
     "output_type": "stream",
     "text": [
      "=============================================\n",
      "Run for 60 epoch\n",
      "Training Score: 0.5846547787992843\n",
      "Validation Score: 0.5630552813425469\n",
      "Training Loss Score: 1.069824270116294\n",
      "Validation Loss Score: 1.1299890080265125\n",
      "=============================================\n"
     ]
    },
    {
     "name": "stderr",
     "output_type": "stream",
     "text": [
      "/Users/brandenkim/miniconda3/envs/ml_env/lib/python3.9/site-packages/sklearn/neural_network/_multilayer_perceptron.py:691: ConvergenceWarning: Stochastic Optimizer: Maximum iterations (1) reached and the optimization hasn't converged yet.\n",
      "  warnings.warn(\n"
     ]
    },
    {
     "name": "stdout",
     "output_type": "stream",
     "text": [
      "=============================================\n",
      "Run for 61 epoch\n",
      "Training Score: 0.585148392669834\n",
      "Validation Score: 0.5629318854886476\n",
      "Training Loss Score: 1.0692007309318632\n",
      "Validation Loss Score: 1.129621904456208\n",
      "=============================================\n"
     ]
    },
    {
     "name": "stderr",
     "output_type": "stream",
     "text": [
      "/Users/brandenkim/miniconda3/envs/ml_env/lib/python3.9/site-packages/sklearn/neural_network/_multilayer_perceptron.py:691: ConvergenceWarning: Stochastic Optimizer: Maximum iterations (1) reached and the optimization hasn't converged yet.\n",
      "  warnings.warn(\n"
     ]
    },
    {
     "name": "stdout",
     "output_type": "stream",
     "text": [
      "=============================================\n",
      "Run for 62 epoch\n",
      "Training Score: 0.5852717961374715\n",
      "Validation Score: 0.5633020730503455\n",
      "Training Loss Score: 1.0685474443886236\n",
      "Validation Loss Score: 1.1290637775181995\n",
      "=============================================\n"
     ]
    },
    {
     "name": "stderr",
     "output_type": "stream",
     "text": [
      "/Users/brandenkim/miniconda3/envs/ml_env/lib/python3.9/site-packages/sklearn/neural_network/_multilayer_perceptron.py:691: ConvergenceWarning: Stochastic Optimizer: Maximum iterations (1) reached and the optimization hasn't converged yet.\n",
      "  warnings.warn(\n"
     ]
    },
    {
     "name": "stdout",
     "output_type": "stream",
     "text": [
      "=============================================\n",
      "Run for 63 epoch\n",
      "Training Score: 0.5855186030727464\n",
      "Validation Score: 0.5634254689042448\n",
      "Training Loss Score: 1.0679366016821195\n",
      "Validation Loss Score: 1.1286166128583468\n",
      "=============================================\n"
     ]
    },
    {
     "name": "stderr",
     "output_type": "stream",
     "text": [
      "/Users/brandenkim/miniconda3/envs/ml_env/lib/python3.9/site-packages/sklearn/neural_network/_multilayer_perceptron.py:691: ConvergenceWarning: Stochastic Optimizer: Maximum iterations (1) reached and the optimization hasn't converged yet.\n",
      "  warnings.warn(\n"
     ]
    },
    {
     "name": "stdout",
     "output_type": "stream",
     "text": [
      "=============================================\n",
      "Run for 64 epoch\n",
      "Training Score: 0.585919664342568\n",
      "Validation Score: 0.5625616979269497\n",
      "Training Loss Score: 1.0673399581594079\n",
      "Validation Loss Score: 1.128208986397006\n",
      "=============================================\n"
     ]
    },
    {
     "name": "stderr",
     "output_type": "stream",
     "text": [
      "/Users/brandenkim/miniconda3/envs/ml_env/lib/python3.9/site-packages/sklearn/neural_network/_multilayer_perceptron.py:691: ConvergenceWarning: Stochastic Optimizer: Maximum iterations (1) reached and the optimization hasn't converged yet.\n",
      "  warnings.warn(\n"
     ]
    },
    {
     "name": "stdout",
     "output_type": "stream",
     "text": [
      "=============================================\n",
      "Run for 65 epoch\n",
      "Training Score: 0.5860739186771148\n",
      "Validation Score: 0.5625616979269497\n",
      "Training Loss Score: 1.0668397584910152\n",
      "Validation Loss Score: 1.1279506114904696\n",
      "=============================================\n"
     ]
    },
    {
     "name": "stderr",
     "output_type": "stream",
     "text": [
      "/Users/brandenkim/miniconda3/envs/ml_env/lib/python3.9/site-packages/sklearn/neural_network/_multilayer_perceptron.py:691: ConvergenceWarning: Stochastic Optimizer: Maximum iterations (1) reached and the optimization hasn't converged yet.\n",
      "  warnings.warn(\n"
     ]
    },
    {
     "name": "stdout",
     "output_type": "stream",
     "text": [
      "=============================================\n",
      "Run for 66 epoch\n",
      "Training Score: 0.5860430678102054\n",
      "Validation Score: 0.562685093780849\n",
      "Training Loss Score: 1.066354659545019\n",
      "Validation Loss Score: 1.127751438394813\n",
      "=============================================\n"
     ]
    },
    {
     "name": "stderr",
     "output_type": "stream",
     "text": [
      "/Users/brandenkim/miniconda3/envs/ml_env/lib/python3.9/site-packages/sklearn/neural_network/_multilayer_perceptron.py:691: ConvergenceWarning: Stochastic Optimizer: Maximum iterations (1) reached and the optimization hasn't converged yet.\n",
      "  warnings.warn(\n"
     ]
    },
    {
     "name": "stdout",
     "output_type": "stream",
     "text": [
      "=============================================\n",
      "Run for 67 epoch\n",
      "Training Score: 0.5863207256123897\n",
      "Validation Score: 0.5625616979269497\n",
      "Training Loss Score: 1.06576274689219\n",
      "Validation Loss Score: 1.1273645742004386\n",
      "=============================================\n"
     ]
    },
    {
     "name": "stderr",
     "output_type": "stream",
     "text": [
      "/Users/brandenkim/miniconda3/envs/ml_env/lib/python3.9/site-packages/sklearn/neural_network/_multilayer_perceptron.py:691: ConvergenceWarning: Stochastic Optimizer: Maximum iterations (1) reached and the optimization hasn't converged yet.\n",
      "  warnings.warn(\n"
     ]
    },
    {
     "name": "stdout",
     "output_type": "stream",
     "text": [
      "=============================================\n",
      "Run for 68 epoch\n",
      "Training Score: 0.5866600851483926\n",
      "Validation Score: 0.5634254689042448\n",
      "Training Loss Score: 1.0652909362694416\n",
      "Validation Loss Score: 1.127118245426621\n",
      "=============================================\n"
     ]
    },
    {
     "name": "stderr",
     "output_type": "stream",
     "text": [
      "/Users/brandenkim/miniconda3/envs/ml_env/lib/python3.9/site-packages/sklearn/neural_network/_multilayer_perceptron.py:691: ConvergenceWarning: Stochastic Optimizer: Maximum iterations (1) reached and the optimization hasn't converged yet.\n",
      "  warnings.warn(\n"
     ]
    },
    {
     "name": "stdout",
     "output_type": "stream",
     "text": [
      "=============================================\n",
      "Run for 69 epoch\n",
      "Training Score: 0.5865983834145739\n",
      "Validation Score: 0.5635488647581441\n",
      "Training Loss Score: 1.0647503214930336\n",
      "Validation Loss Score: 1.126783346095876\n",
      "=============================================\n"
     ]
    },
    {
     "name": "stderr",
     "output_type": "stream",
     "text": [
      "/Users/brandenkim/miniconda3/envs/ml_env/lib/python3.9/site-packages/sklearn/neural_network/_multilayer_perceptron.py:691: ConvergenceWarning: Stochastic Optimizer: Maximum iterations (1) reached and the optimization hasn't converged yet.\n",
      "  warnings.warn(\n"
     ]
    },
    {
     "name": "stdout",
     "output_type": "stream",
     "text": [
      "=============================================\n",
      "Run for 70 epoch\n",
      "Training Score: 0.5868760412167582\n",
      "Validation Score: 0.5635488647581441\n",
      "Training Loss Score: 1.0642113458363924\n",
      "Validation Loss Score: 1.1265088939823813\n",
      "=============================================\n"
     ]
    },
    {
     "name": "stderr",
     "output_type": "stream",
     "text": [
      "/Users/brandenkim/miniconda3/envs/ml_env/lib/python3.9/site-packages/sklearn/neural_network/_multilayer_perceptron.py:691: ConvergenceWarning: Stochastic Optimizer: Maximum iterations (1) reached and the optimization hasn't converged yet.\n",
      "  warnings.warn(\n"
     ]
    },
    {
     "name": "stdout",
     "output_type": "stream",
     "text": [
      "=============================================\n",
      "Run for 71 epoch\n",
      "Training Score: 0.5867834886160301\n",
      "Validation Score: 0.5636722606120435\n",
      "Training Loss Score: 1.0636909186236871\n",
      "Validation Loss Score: 1.1261594884983546\n",
      "=============================================\n"
     ]
    },
    {
     "name": "stderr",
     "output_type": "stream",
     "text": [
      "/Users/brandenkim/miniconda3/envs/ml_env/lib/python3.9/site-packages/sklearn/neural_network/_multilayer_perceptron.py:691: ConvergenceWarning: Stochastic Optimizer: Maximum iterations (1) reached and the optimization hasn't converged yet.\n",
      "  warnings.warn(\n"
     ]
    },
    {
     "name": "stdout",
     "output_type": "stream",
     "text": [
      "=============================================\n",
      "Run for 72 epoch\n",
      "Training Score: 0.5871536990189424\n",
      "Validation Score: 0.5637956564659428\n",
      "Training Loss Score: 1.0631527310765283\n",
      "Validation Loss Score: 1.1258084423076615\n",
      "=============================================\n"
     ]
    },
    {
     "name": "stderr",
     "output_type": "stream",
     "text": [
      "/Users/brandenkim/miniconda3/envs/ml_env/lib/python3.9/site-packages/sklearn/neural_network/_multilayer_perceptron.py:691: ConvergenceWarning: Stochastic Optimizer: Maximum iterations (1) reached and the optimization hasn't converged yet.\n",
      "  warnings.warn(\n"
     ]
    },
    {
     "name": "stdout",
     "output_type": "stream",
     "text": [
      "=============================================\n",
      "Run for 73 epoch\n",
      "Training Score: 0.587462207688036\n",
      "Validation Score: 0.5649062191510366\n",
      "Training Loss Score: 1.0626422523788999\n",
      "Validation Loss Score: 1.1255274914576556\n",
      "=============================================\n"
     ]
    },
    {
     "name": "stderr",
     "output_type": "stream",
     "text": [
      "/Users/brandenkim/miniconda3/envs/ml_env/lib/python3.9/site-packages/sklearn/neural_network/_multilayer_perceptron.py:691: ConvergenceWarning: Stochastic Optimizer: Maximum iterations (1) reached and the optimization hasn't converged yet.\n",
      "  warnings.warn(\n"
     ]
    },
    {
     "name": "stdout",
     "output_type": "stream",
     "text": [
      "=============================================\n",
      "Run for 74 epoch\n",
      "Training Score: 0.5871536990189424\n",
      "Validation Score: 0.5645360315893386\n",
      "Training Loss Score: 1.0621740213079929\n",
      "Validation Loss Score: 1.1251835780555077\n",
      "=============================================\n"
     ]
    },
    {
     "name": "stderr",
     "output_type": "stream",
     "text": [
      "/Users/brandenkim/miniconda3/envs/ml_env/lib/python3.9/site-packages/sklearn/neural_network/_multilayer_perceptron.py:691: ConvergenceWarning: Stochastic Optimizer: Maximum iterations (1) reached and the optimization hasn't converged yet.\n",
      "  warnings.warn(\n"
     ]
    },
    {
     "name": "stdout",
     "output_type": "stream",
     "text": [
      "=============================================\n",
      "Run for 75 epoch\n",
      "Training Score: 0.5876473128894922\n",
      "Validation Score: 0.5646594274432379\n",
      "Training Loss Score: 1.0616774733088497\n",
      "Validation Loss Score: 1.12477763374299\n",
      "=============================================\n"
     ]
    },
    {
     "name": "stderr",
     "output_type": "stream",
     "text": [
      "/Users/brandenkim/miniconda3/envs/ml_env/lib/python3.9/site-packages/sklearn/neural_network/_multilayer_perceptron.py:691: ConvergenceWarning: Stochastic Optimizer: Maximum iterations (1) reached and the optimization hasn't converged yet.\n",
      "  warnings.warn(\n"
     ]
    },
    {
     "name": "stdout",
     "output_type": "stream",
     "text": [
      "=============================================\n",
      "Run for 76 epoch\n",
      "Training Score: 0.5876473128894922\n",
      "Validation Score: 0.5656465942744324\n",
      "Training Loss Score: 1.0612453675503277\n",
      "Validation Loss Score: 1.1244465245684392\n",
      "=============================================\n"
     ]
    },
    {
     "name": "stderr",
     "output_type": "stream",
     "text": [
      "/Users/brandenkim/miniconda3/envs/ml_env/lib/python3.9/site-packages/sklearn/neural_network/_multilayer_perceptron.py:691: ConvergenceWarning: Stochastic Optimizer: Maximum iterations (1) reached and the optimization hasn't converged yet.\n",
      "  warnings.warn(\n"
     ]
    },
    {
     "name": "stdout",
     "output_type": "stream",
     "text": [
      "=============================================\n",
      "Run for 77 epoch\n",
      "Training Score: 0.5881100758931326\n",
      "Validation Score: 0.565893385982231\n",
      "Training Loss Score: 1.0608269831103772\n",
      "Validation Loss Score: 1.1241647929575609\n",
      "=============================================\n"
     ]
    },
    {
     "name": "stderr",
     "output_type": "stream",
     "text": [
      "/Users/brandenkim/miniconda3/envs/ml_env/lib/python3.9/site-packages/sklearn/neural_network/_multilayer_perceptron.py:691: ConvergenceWarning: Stochastic Optimizer: Maximum iterations (1) reached and the optimization hasn't converged yet.\n",
      "  warnings.warn(\n"
     ]
    },
    {
     "name": "stdout",
     "output_type": "stream",
     "text": [
      "=============================================\n",
      "Run for 78 epoch\n",
      "Training Score: 0.5881409267600419\n",
      "Validation Score: 0.5663869693978283\n",
      "Training Loss Score: 1.0603529360314534\n",
      "Validation Loss Score: 1.123814922111822\n",
      "=============================================\n"
     ]
    },
    {
     "name": "stderr",
     "output_type": "stream",
     "text": [
      "/Users/brandenkim/miniconda3/envs/ml_env/lib/python3.9/site-packages/sklearn/neural_network/_multilayer_perceptron.py:691: ConvergenceWarning: Stochastic Optimizer: Maximum iterations (1) reached and the optimization hasn't converged yet.\n",
      "  warnings.warn(\n"
     ]
    },
    {
     "name": "stdout",
     "output_type": "stream",
     "text": [
      "=============================================\n",
      "Run for 79 epoch\n",
      "Training Score: 0.5881100758931326\n",
      "Validation Score: 0.5667571569595261\n",
      "Training Loss Score: 1.0599133538239114\n",
      "Validation Loss Score: 1.1235245084595278\n",
      "=============================================\n"
     ]
    },
    {
     "name": "stderr",
     "output_type": "stream",
     "text": [
      "/Users/brandenkim/miniconda3/envs/ml_env/lib/python3.9/site-packages/sklearn/neural_network/_multilayer_perceptron.py:691: ConvergenceWarning: Stochastic Optimizer: Maximum iterations (1) reached and the optimization hasn't converged yet.\n",
      "  warnings.warn(\n"
     ]
    },
    {
     "name": "stdout",
     "output_type": "stream",
     "text": [
      "=============================================\n",
      "Run for 80 epoch\n",
      "Training Score: 0.5881717776269513\n",
      "Validation Score: 0.566263573543929\n",
      "Training Loss Score: 1.059471585584782\n",
      "Validation Loss Score: 1.1232456910884963\n",
      "=============================================\n"
     ]
    },
    {
     "name": "stderr",
     "output_type": "stream",
     "text": [
      "/Users/brandenkim/miniconda3/envs/ml_env/lib/python3.9/site-packages/sklearn/neural_network/_multilayer_perceptron.py:691: ConvergenceWarning: Stochastic Optimizer: Maximum iterations (1) reached and the optimization hasn't converged yet.\n",
      "  warnings.warn(\n"
     ]
    },
    {
     "name": "stdout",
     "output_type": "stream",
     "text": [
      "=============================================\n",
      "Run for 81 epoch\n",
      "Training Score: 0.5883260319614981\n",
      "Validation Score: 0.5660167818361304\n",
      "Training Loss Score: 1.0590421276104591\n",
      "Validation Loss Score: 1.1229797451832992\n",
      "=============================================\n"
     ]
    },
    {
     "name": "stderr",
     "output_type": "stream",
     "text": [
      "/Users/brandenkim/miniconda3/envs/ml_env/lib/python3.9/site-packages/sklearn/neural_network/_multilayer_perceptron.py:691: ConvergenceWarning: Stochastic Optimizer: Maximum iterations (1) reached and the optimization hasn't converged yet.\n",
      "  warnings.warn(\n"
     ]
    },
    {
     "name": "stdout",
     "output_type": "stream",
     "text": [
      "=============================================\n",
      "Run for 82 epoch\n",
      "Training Score: 0.5888196458320479\n",
      "Validation Score: 0.5655231984205331\n",
      "Training Loss Score: 1.0586480099339763\n",
      "Validation Loss Score: 1.1226971816058195\n",
      "=============================================\n"
     ]
    },
    {
     "name": "stderr",
     "output_type": "stream",
     "text": [
      "/Users/brandenkim/miniconda3/envs/ml_env/lib/python3.9/site-packages/sklearn/neural_network/_multilayer_perceptron.py:691: ConvergenceWarning: Stochastic Optimizer: Maximum iterations (1) reached and the optimization hasn't converged yet.\n",
      "  warnings.warn(\n"
     ]
    },
    {
     "name": "stdout",
     "output_type": "stream",
     "text": [
      "=============================================\n",
      "Run for 83 epoch\n",
      "Training Score: 0.5892207071018696\n",
      "Validation Score: 0.5655231984205331\n",
      "Training Loss Score: 1.0582518678904247\n",
      "Validation Loss Score: 1.1224127091677105\n",
      "=============================================\n"
     ]
    },
    {
     "name": "stderr",
     "output_type": "stream",
     "text": [
      "/Users/brandenkim/miniconda3/envs/ml_env/lib/python3.9/site-packages/sklearn/neural_network/_multilayer_perceptron.py:691: ConvergenceWarning: Stochastic Optimizer: Maximum iterations (1) reached and the optimization hasn't converged yet.\n",
      "  warnings.warn(\n"
     ]
    },
    {
     "name": "stdout",
     "output_type": "stream",
     "text": [
      "=============================================\n",
      "Run for 84 epoch\n",
      "Training Score: 0.5894983649040538\n",
      "Validation Score: 0.5668805528134254\n",
      "Training Loss Score: 1.0578092051006767\n",
      "Validation Loss Score: 1.122103405808905\n",
      "=============================================\n"
     ]
    },
    {
     "name": "stderr",
     "output_type": "stream",
     "text": [
      "/Users/brandenkim/miniconda3/envs/ml_env/lib/python3.9/site-packages/sklearn/neural_network/_multilayer_perceptron.py:691: ConvergenceWarning: Stochastic Optimizer: Maximum iterations (1) reached and the optimization hasn't converged yet.\n",
      "  warnings.warn(\n"
     ]
    },
    {
     "name": "stdout",
     "output_type": "stream",
     "text": [
      "=============================================\n",
      "Run for 85 epoch\n",
      "Training Score: 0.5900845313753317\n",
      "Validation Score: 0.5665103652517275\n",
      "Training Loss Score: 1.0573343146306995\n",
      "Validation Loss Score: 1.121800654423587\n",
      "=============================================\n"
     ]
    },
    {
     "name": "stderr",
     "output_type": "stream",
     "text": [
      "/Users/brandenkim/miniconda3/envs/ml_env/lib/python3.9/site-packages/sklearn/neural_network/_multilayer_perceptron.py:691: ConvergenceWarning: Stochastic Optimizer: Maximum iterations (1) reached and the optimization hasn't converged yet.\n",
      "  warnings.warn(\n"
     ]
    },
    {
     "name": "stdout",
     "output_type": "stream",
     "text": [
      "=============================================\n",
      "Run for 86 epoch\n",
      "Training Score: 0.5899919787746035\n",
      "Validation Score: 0.5661401776900297\n",
      "Training Loss Score: 1.0568914051227154\n",
      "Validation Loss Score: 1.1216077605146888\n",
      "=============================================\n"
     ]
    },
    {
     "name": "stderr",
     "output_type": "stream",
     "text": [
      "/Users/brandenkim/miniconda3/envs/ml_env/lib/python3.9/site-packages/sklearn/neural_network/_multilayer_perceptron.py:691: ConvergenceWarning: Stochastic Optimizer: Maximum iterations (1) reached and the optimization hasn't converged yet.\n",
      "  warnings.warn(\n"
     ]
    },
    {
     "name": "stdout",
     "output_type": "stream",
     "text": [
      "=============================================\n",
      "Run for 87 epoch\n",
      "Training Score: 0.5899919787746035\n",
      "Validation Score: 0.5665103652517275\n",
      "Training Loss Score: 1.056427378082451\n",
      "Validation Loss Score: 1.121268828291489\n",
      "=============================================\n"
     ]
    },
    {
     "name": "stderr",
     "output_type": "stream",
     "text": [
      "/Users/brandenkim/miniconda3/envs/ml_env/lib/python3.9/site-packages/sklearn/neural_network/_multilayer_perceptron.py:691: ConvergenceWarning: Stochastic Optimizer: Maximum iterations (1) reached and the optimization hasn't converged yet.\n",
      "  warnings.warn(\n"
     ]
    },
    {
     "name": "stdout",
     "output_type": "stream",
     "text": [
      "=============================================\n",
      "Run for 88 epoch\n",
      "Training Score: 0.590115382242241\n",
      "Validation Score: 0.5677443237907206\n",
      "Training Loss Score: 1.0560097615589643\n",
      "Validation Loss Score: 1.1211526079820253\n",
      "=============================================\n"
     ]
    },
    {
     "name": "stderr",
     "output_type": "stream",
     "text": [
      "/Users/brandenkim/miniconda3/envs/ml_env/lib/python3.9/site-packages/sklearn/neural_network/_multilayer_perceptron.py:691: ConvergenceWarning: Stochastic Optimizer: Maximum iterations (1) reached and the optimization hasn't converged yet.\n",
      "  warnings.warn(\n"
     ]
    },
    {
     "name": "stdout",
     "output_type": "stream",
     "text": [
      "=============================================\n",
      "Run for 89 epoch\n",
      "Training Score: 0.5897143209724193\n",
      "Validation Score: 0.5677443237907206\n",
      "Training Loss Score: 1.0556130153030225\n",
      "Validation Loss Score: 1.12092493614527\n",
      "=============================================\n"
     ]
    },
    {
     "name": "stderr",
     "output_type": "stream",
     "text": [
      "/Users/brandenkim/miniconda3/envs/ml_env/lib/python3.9/site-packages/sklearn/neural_network/_multilayer_perceptron.py:691: ConvergenceWarning: Stochastic Optimizer: Maximum iterations (1) reached and the optimization hasn't converged yet.\n",
      "  warnings.warn(\n"
     ]
    },
    {
     "name": "stdout",
     "output_type": "stream",
     "text": [
      "=============================================\n",
      "Run for 90 epoch\n",
      "Training Score: 0.5898377244400568\n",
      "Validation Score: 0.5672507403751234\n",
      "Training Loss Score: 1.0551967658182173\n",
      "Validation Loss Score: 1.1206873547199234\n",
      "=============================================\n"
     ]
    },
    {
     "name": "stderr",
     "output_type": "stream",
     "text": [
      "/Users/brandenkim/miniconda3/envs/ml_env/lib/python3.9/site-packages/sklearn/neural_network/_multilayer_perceptron.py:691: ConvergenceWarning: Stochastic Optimizer: Maximum iterations (1) reached and the optimization hasn't converged yet.\n",
      "  warnings.warn(\n"
     ]
    },
    {
     "name": "stdout",
     "output_type": "stream",
     "text": [
      "=============================================\n",
      "Run for 91 epoch\n",
      "Training Score: 0.5898685753069661\n",
      "Validation Score: 0.5676209279368213\n",
      "Training Loss Score: 1.054742966218491\n",
      "Validation Loss Score: 1.1204344118200136\n",
      "=============================================\n"
     ]
    },
    {
     "name": "stderr",
     "output_type": "stream",
     "text": [
      "/Users/brandenkim/miniconda3/envs/ml_env/lib/python3.9/site-packages/sklearn/neural_network/_multilayer_perceptron.py:691: ConvergenceWarning: Stochastic Optimizer: Maximum iterations (1) reached and the optimization hasn't converged yet.\n",
      "  warnings.warn(\n"
     ]
    },
    {
     "name": "stdout",
     "output_type": "stream",
     "text": [
      "=============================================\n",
      "Run for 92 epoch\n",
      "Training Score: 0.5900536805084223\n",
      "Validation Score: 0.5678677196446199\n",
      "Training Loss Score: 1.0543695299468376\n",
      "Validation Loss Score: 1.1202723443693512\n",
      "=============================================\n"
     ]
    },
    {
     "name": "stderr",
     "output_type": "stream",
     "text": [
      "/Users/brandenkim/miniconda3/envs/ml_env/lib/python3.9/site-packages/sklearn/neural_network/_multilayer_perceptron.py:691: ConvergenceWarning: Stochastic Optimizer: Maximum iterations (1) reached and the optimization hasn't converged yet.\n",
      "  warnings.warn(\n"
     ]
    },
    {
     "name": "stdout",
     "output_type": "stream",
     "text": [
      "=============================================\n",
      "Run for 93 epoch\n",
      "Training Score: 0.5903004874436971\n",
      "Validation Score: 0.5677443237907206\n",
      "Training Loss Score: 1.0539749844986421\n",
      "Validation Loss Score: 1.1200067211627038\n",
      "=============================================\n"
     ]
    },
    {
     "name": "stderr",
     "output_type": "stream",
     "text": [
      "/Users/brandenkim/miniconda3/envs/ml_env/lib/python3.9/site-packages/sklearn/neural_network/_multilayer_perceptron.py:691: ConvergenceWarning: Stochastic Optimizer: Maximum iterations (1) reached and the optimization hasn't converged yet.\n",
      "  warnings.warn(\n"
     ]
    },
    {
     "name": "stdout",
     "output_type": "stream",
     "text": [
      "=============================================\n",
      "Run for 94 epoch\n",
      "Training Score: 0.5908249521811563\n",
      "Validation Score: 0.5681145113524185\n",
      "Training Loss Score: 1.0536059285104324\n",
      "Validation Loss Score: 1.119838459488292\n",
      "=============================================\n"
     ]
    },
    {
     "name": "stderr",
     "output_type": "stream",
     "text": [
      "/Users/brandenkim/miniconda3/envs/ml_env/lib/python3.9/site-packages/sklearn/neural_network/_multilayer_perceptron.py:691: ConvergenceWarning: Stochastic Optimizer: Maximum iterations (1) reached and the optimization hasn't converged yet.\n",
      "  warnings.warn(\n"
     ]
    },
    {
     "name": "stdout",
     "output_type": "stream",
     "text": [
      "=============================================\n",
      "Run for 95 epoch\n",
      "Training Score: 0.5911026099833405\n",
      "Validation Score: 0.5687314906219151\n",
      "Training Loss Score: 1.0532863045862424\n",
      "Validation Loss Score: 1.1197378912717175\n",
      "=============================================\n"
     ]
    },
    {
     "name": "stderr",
     "output_type": "stream",
     "text": [
      "/Users/brandenkim/miniconda3/envs/ml_env/lib/python3.9/site-packages/sklearn/neural_network/_multilayer_perceptron.py:691: ConvergenceWarning: Stochastic Optimizer: Maximum iterations (1) reached and the optimization hasn't converged yet.\n",
      "  warnings.warn(\n"
     ]
    },
    {
     "name": "stdout",
     "output_type": "stream",
     "text": [
      "=============================================\n",
      "Run for 96 epoch\n",
      "Training Score: 0.5911026099833405\n",
      "Validation Score: 0.5679911154985192\n",
      "Training Loss Score: 1.052912827138361\n",
      "Validation Loss Score: 1.119500586072747\n",
      "=============================================\n"
     ]
    },
    {
     "name": "stderr",
     "output_type": "stream",
     "text": [
      "/Users/brandenkim/miniconda3/envs/ml_env/lib/python3.9/site-packages/sklearn/neural_network/_multilayer_perceptron.py:691: ConvergenceWarning: Stochastic Optimizer: Maximum iterations (1) reached and the optimization hasn't converged yet.\n",
      "  warnings.warn(\n"
     ]
    },
    {
     "name": "stdout",
     "output_type": "stream",
     "text": [
      "=============================================\n",
      "Run for 97 epoch\n",
      "Training Score: 0.5913185660517061\n",
      "Validation Score: 0.5679911154985192\n",
      "Training Loss Score: 1.0526269679211093\n",
      "Validation Loss Score: 1.1193763157638685\n",
      "=============================================\n"
     ]
    },
    {
     "name": "stderr",
     "output_type": "stream",
     "text": [
      "/Users/brandenkim/miniconda3/envs/ml_env/lib/python3.9/site-packages/sklearn/neural_network/_multilayer_perceptron.py:691: ConvergenceWarning: Stochastic Optimizer: Maximum iterations (1) reached and the optimization hasn't converged yet.\n",
      "  warnings.warn(\n"
     ]
    },
    {
     "name": "stdout",
     "output_type": "stream",
     "text": [
      "=============================================\n",
      "Run for 98 epoch\n",
      "Training Score: 0.5915345221200716\n",
      "Validation Score: 0.5673741362290227\n",
      "Training Loss Score: 1.0522858082298874\n",
      "Validation Loss Score: 1.1192121466217437\n",
      "=============================================\n"
     ]
    },
    {
     "name": "stderr",
     "output_type": "stream",
     "text": [
      "/Users/brandenkim/miniconda3/envs/ml_env/lib/python3.9/site-packages/sklearn/neural_network/_multilayer_perceptron.py:691: ConvergenceWarning: Stochastic Optimizer: Maximum iterations (1) reached and the optimization hasn't converged yet.\n",
      "  warnings.warn(\n"
     ]
    },
    {
     "name": "stdout",
     "output_type": "stream",
     "text": [
      "=============================================\n",
      "Run for 99 epoch\n",
      "Training Score: 0.591565372986981\n",
      "Validation Score: 0.5673741362290227\n",
      "Training Loss Score: 1.0520143259766876\n",
      "Validation Loss Score: 1.1191038263698343\n",
      "=============================================\n"
     ]
    },
    {
     "name": "stderr",
     "output_type": "stream",
     "text": [
      "/Users/brandenkim/miniconda3/envs/ml_env/lib/python3.9/site-packages/sklearn/neural_network/_multilayer_perceptron.py:691: ConvergenceWarning: Stochastic Optimizer: Maximum iterations (1) reached and the optimization hasn't converged yet.\n",
      "  warnings.warn(\n"
     ]
    },
    {
     "name": "stdout",
     "output_type": "stream",
     "text": [
      "=============================================\n",
      "Run for 100 epoch\n",
      "Training Score: 0.5917196273215277\n",
      "Validation Score: 0.5677443237907206\n",
      "Training Loss Score: 1.0516859587754366\n",
      "Validation Loss Score: 1.1189022833785276\n",
      "=============================================\n"
     ]
    },
    {
     "name": "stderr",
     "output_type": "stream",
     "text": [
      "/Users/brandenkim/miniconda3/envs/ml_env/lib/python3.9/site-packages/sklearn/neural_network/_multilayer_perceptron.py:691: ConvergenceWarning: Stochastic Optimizer: Maximum iterations (1) reached and the optimization hasn't converged yet.\n",
      "  warnings.warn(\n"
     ]
    },
    {
     "name": "stdout",
     "output_type": "stream",
     "text": [
      "=============================================\n",
      "Run for 101 epoch\n",
      "Training Score: 0.5919047325229839\n",
      "Validation Score: 0.5682379072063178\n",
      "Training Loss Score: 1.0513708855626596\n",
      "Validation Loss Score: 1.1186562091446393\n",
      "=============================================\n"
     ]
    },
    {
     "name": "stderr",
     "output_type": "stream",
     "text": [
      "/Users/brandenkim/miniconda3/envs/ml_env/lib/python3.9/site-packages/sklearn/neural_network/_multilayer_perceptron.py:691: ConvergenceWarning: Stochastic Optimizer: Maximum iterations (1) reached and the optimization hasn't converged yet.\n",
      "  warnings.warn(\n"
     ]
    },
    {
     "name": "stdout",
     "output_type": "stream",
     "text": [
      "=============================================\n",
      "Run for 102 epoch\n",
      "Training Score: 0.5921515394582588\n",
      "Validation Score: 0.5684846989141165\n",
      "Training Loss Score: 1.0510835425953642\n",
      "Validation Loss Score: 1.1186084053887093\n",
      "=============================================\n"
     ]
    },
    {
     "name": "stderr",
     "output_type": "stream",
     "text": [
      "/Users/brandenkim/miniconda3/envs/ml_env/lib/python3.9/site-packages/sklearn/neural_network/_multilayer_perceptron.py:691: ConvergenceWarning: Stochastic Optimizer: Maximum iterations (1) reached and the optimization hasn't converged yet.\n",
      "  warnings.warn(\n"
     ]
    },
    {
     "name": "stdout",
     "output_type": "stream",
     "text": [
      "=============================================\n",
      "Run for 103 epoch\n",
      "Training Score: 0.5922440920589869\n",
      "Validation Score: 0.5688548864758144\n",
      "Training Loss Score: 1.0507545516652546\n",
      "Validation Loss Score: 1.1184051345567088\n",
      "=============================================\n"
     ]
    },
    {
     "name": "stderr",
     "output_type": "stream",
     "text": [
      "/Users/brandenkim/miniconda3/envs/ml_env/lib/python3.9/site-packages/sklearn/neural_network/_multilayer_perceptron.py:691: ConvergenceWarning: Stochastic Optimizer: Maximum iterations (1) reached and the optimization hasn't converged yet.\n",
      "  warnings.warn(\n"
     ]
    },
    {
     "name": "stdout",
     "output_type": "stream",
     "text": [
      "=============================================\n",
      "Run for 104 epoch\n",
      "Training Score: 0.5925217498611711\n",
      "Validation Score: 0.569101678183613\n",
      "Training Loss Score: 1.050423062346369\n",
      "Validation Loss Score: 1.1182794504904798\n",
      "=============================================\n"
     ]
    },
    {
     "name": "stderr",
     "output_type": "stream",
     "text": [
      "/Users/brandenkim/miniconda3/envs/ml_env/lib/python3.9/site-packages/sklearn/neural_network/_multilayer_perceptron.py:691: ConvergenceWarning: Stochastic Optimizer: Maximum iterations (1) reached and the optimization hasn't converged yet.\n",
      "  warnings.warn(\n"
     ]
    },
    {
     "name": "stdout",
     "output_type": "stream",
     "text": [
      "=============================================\n",
      "Run for 105 epoch\n",
      "Training Score: 0.5929845128648115\n",
      "Validation Score: 0.5699654491609082\n",
      "Training Loss Score: 1.0500385690930927\n",
      "Validation Loss Score: 1.1179515427840805\n",
      "=============================================\n"
     ]
    },
    {
     "name": "stderr",
     "output_type": "stream",
     "text": [
      "/Users/brandenkim/miniconda3/envs/ml_env/lib/python3.9/site-packages/sklearn/neural_network/_multilayer_perceptron.py:691: ConvergenceWarning: Stochastic Optimizer: Maximum iterations (1) reached and the optimization hasn't converged yet.\n",
      "  warnings.warn(\n"
     ]
    },
    {
     "name": "stdout",
     "output_type": "stream",
     "text": [
      "=============================================\n",
      "Run for 106 epoch\n",
      "Training Score: 0.5928302585302647\n",
      "Validation Score: 0.5697186574531096\n",
      "Training Loss Score: 1.0497683305560226\n",
      "Validation Loss Score: 1.1178000213428845\n",
      "=============================================\n"
     ]
    },
    {
     "name": "stderr",
     "output_type": "stream",
     "text": [
      "/Users/brandenkim/miniconda3/envs/ml_env/lib/python3.9/site-packages/sklearn/neural_network/_multilayer_perceptron.py:691: ConvergenceWarning: Stochastic Optimizer: Maximum iterations (1) reached and the optimization hasn't converged yet.\n",
      "  warnings.warn(\n"
     ]
    },
    {
     "name": "stdout",
     "output_type": "stream",
     "text": [
      "=============================================\n",
      "Run for 107 epoch\n",
      "Training Score: 0.5928611093971741\n",
      "Validation Score: 0.569471865745311\n",
      "Training Loss Score: 1.049407098512513\n",
      "Validation Loss Score: 1.1175437735181408\n",
      "=============================================\n"
     ]
    },
    {
     "name": "stderr",
     "output_type": "stream",
     "text": [
      "/Users/brandenkim/miniconda3/envs/ml_env/lib/python3.9/site-packages/sklearn/neural_network/_multilayer_perceptron.py:691: ConvergenceWarning: Stochastic Optimizer: Maximum iterations (1) reached and the optimization hasn't converged yet.\n",
      "  warnings.warn(\n"
     ]
    },
    {
     "name": "stdout",
     "output_type": "stream",
     "text": [
      "=============================================\n",
      "Run for 108 epoch\n",
      "Training Score: 0.5929536619979021\n",
      "Validation Score: 0.569471865745311\n",
      "Training Loss Score: 1.0491753631424363\n",
      "Validation Loss Score: 1.1174190569882627\n",
      "=============================================\n"
     ]
    },
    {
     "name": "stderr",
     "output_type": "stream",
     "text": [
      "/Users/brandenkim/miniconda3/envs/ml_env/lib/python3.9/site-packages/sklearn/neural_network/_multilayer_perceptron.py:691: ConvergenceWarning: Stochastic Optimizer: Maximum iterations (1) reached and the optimization hasn't converged yet.\n",
      "  warnings.warn(\n"
     ]
    },
    {
     "name": "stdout",
     "output_type": "stream",
     "text": [
      "=============================================\n",
      "Run for 109 epoch\n",
      "Training Score: 0.5930462145986303\n",
      "Validation Score: 0.569471865745311\n",
      "Training Loss Score: 1.0488373583032342\n",
      "Validation Loss Score: 1.1172976569572346\n",
      "=============================================\n"
     ]
    },
    {
     "name": "stderr",
     "output_type": "stream",
     "text": [
      "/Users/brandenkim/miniconda3/envs/ml_env/lib/python3.9/site-packages/sklearn/neural_network/_multilayer_perceptron.py:691: ConvergenceWarning: Stochastic Optimizer: Maximum iterations (1) reached and the optimization hasn't converged yet.\n",
      "  warnings.warn(\n"
     ]
    },
    {
     "name": "stdout",
     "output_type": "stream",
     "text": [
      "=============================================\n",
      "Run for 110 epoch\n",
      "Training Score: 0.593107916332449\n",
      "Validation Score: 0.5693484698914116\n",
      "Training Loss Score: 1.048507064189687\n",
      "Validation Loss Score: 1.117226591852518\n",
      "=============================================\n"
     ]
    },
    {
     "name": "stderr",
     "output_type": "stream",
     "text": [
      "/Users/brandenkim/miniconda3/envs/ml_env/lib/python3.9/site-packages/sklearn/neural_network/_multilayer_perceptron.py:691: ConvergenceWarning: Stochastic Optimizer: Maximum iterations (1) reached and the optimization hasn't converged yet.\n",
      "  warnings.warn(\n"
     ]
    },
    {
     "name": "stdout",
     "output_type": "stream",
     "text": [
      "=============================================\n",
      "Run for 111 epoch\n",
      "Training Score: 0.5933238724008144\n",
      "Validation Score: 0.5692250740375123\n",
      "Training Loss Score: 1.0481858927497958\n",
      "Validation Loss Score: 1.116999259022352\n",
      "=============================================\n"
     ]
    },
    {
     "name": "stderr",
     "output_type": "stream",
     "text": [
      "/Users/brandenkim/miniconda3/envs/ml_env/lib/python3.9/site-packages/sklearn/neural_network/_multilayer_perceptron.py:691: ConvergenceWarning: Stochastic Optimizer: Maximum iterations (1) reached and the optimization hasn't converged yet.\n",
      "  warnings.warn(\n"
     ]
    },
    {
     "name": "stdout",
     "output_type": "stream",
     "text": [
      "=============================================\n",
      "Run for 112 epoch\n",
      "Training Score: 0.5935089776022706\n",
      "Validation Score: 0.569471865745311\n",
      "Training Loss Score: 1.0479475844068855\n",
      "Validation Loss Score: 1.1169899235940957\n",
      "=============================================\n"
     ]
    },
    {
     "name": "stderr",
     "output_type": "stream",
     "text": [
      "/Users/brandenkim/miniconda3/envs/ml_env/lib/python3.9/site-packages/sklearn/neural_network/_multilayer_perceptron.py:691: ConvergenceWarning: Stochastic Optimizer: Maximum iterations (1) reached and the optimization hasn't converged yet.\n",
      "  warnings.warn(\n"
     ]
    },
    {
     "name": "stdout",
     "output_type": "stream",
     "text": [
      "=============================================\n",
      "Run for 113 epoch\n",
      "Training Score: 0.5934164250015426\n",
      "Validation Score: 0.569101678183613\n",
      "Training Loss Score: 1.0476468263174898\n",
      "Validation Loss Score: 1.116833949385337\n",
      "=============================================\n"
     ]
    },
    {
     "name": "stderr",
     "output_type": "stream",
     "text": [
      "/Users/brandenkim/miniconda3/envs/ml_env/lib/python3.9/site-packages/sklearn/neural_network/_multilayer_perceptron.py:691: ConvergenceWarning: Stochastic Optimizer: Maximum iterations (1) reached and the optimization hasn't converged yet.\n",
      "  warnings.warn(\n"
     ]
    },
    {
     "name": "stdout",
     "output_type": "stream",
     "text": [
      "=============================================\n",
      "Run for 114 epoch\n",
      "Training Score: 0.5936015302029987\n",
      "Validation Score: 0.5695952615992103\n",
      "Training Loss Score: 1.0473429407042192\n",
      "Validation Loss Score: 1.1167056182493242\n",
      "=============================================\n"
     ]
    },
    {
     "name": "stderr",
     "output_type": "stream",
     "text": [
      "/Users/brandenkim/miniconda3/envs/ml_env/lib/python3.9/site-packages/sklearn/neural_network/_multilayer_perceptron.py:691: ConvergenceWarning: Stochastic Optimizer: Maximum iterations (1) reached and the optimization hasn't converged yet.\n",
      "  warnings.warn(\n"
     ]
    },
    {
     "name": "stdout",
     "output_type": "stream",
     "text": [
      "=============================================\n",
      "Run for 115 epoch\n",
      "Training Score: 0.5938791880051829\n",
      "Validation Score: 0.5687314906219151\n",
      "Training Loss Score: 1.0471046991229946\n",
      "Validation Loss Score: 1.1166217201517885\n",
      "=============================================\n"
     ]
    },
    {
     "name": "stderr",
     "output_type": "stream",
     "text": [
      "/Users/brandenkim/miniconda3/envs/ml_env/lib/python3.9/site-packages/sklearn/neural_network/_multilayer_perceptron.py:691: ConvergenceWarning: Stochastic Optimizer: Maximum iterations (1) reached and the optimization hasn't converged yet.\n",
      "  warnings.warn(\n"
     ]
    },
    {
     "name": "stdout",
     "output_type": "stream",
     "text": [
      "=============================================\n",
      "Run for 116 epoch\n",
      "Training Score: 0.5941876966742765\n",
      "Validation Score: 0.5689782823297137\n",
      "Training Loss Score: 1.0468026584799792\n",
      "Validation Loss Score: 1.1164721836545901\n",
      "=============================================\n"
     ]
    },
    {
     "name": "stderr",
     "output_type": "stream",
     "text": [
      "/Users/brandenkim/miniconda3/envs/ml_env/lib/python3.9/site-packages/sklearn/neural_network/_multilayer_perceptron.py:691: ConvergenceWarning: Stochastic Optimizer: Maximum iterations (1) reached and the optimization hasn't converged yet.\n",
      "  warnings.warn(\n"
     ]
    },
    {
     "name": "stdout",
     "output_type": "stream",
     "text": [
      "=============================================\n",
      "Run for 117 epoch\n",
      "Training Score: 0.5942802492750047\n",
      "Validation Score: 0.5689782823297137\n",
      "Training Loss Score: 1.0465363848973004\n",
      "Validation Loss Score: 1.1163938622543057\n",
      "=============================================\n"
     ]
    },
    {
     "name": "stderr",
     "output_type": "stream",
     "text": [
      "/Users/brandenkim/miniconda3/envs/ml_env/lib/python3.9/site-packages/sklearn/neural_network/_multilayer_perceptron.py:691: ConvergenceWarning: Stochastic Optimizer: Maximum iterations (1) reached and the optimization hasn't converged yet.\n",
      "  warnings.warn(\n"
     ]
    },
    {
     "name": "stdout",
     "output_type": "stream",
     "text": [
      "=============================================\n",
      "Run for 118 epoch\n",
      "Training Score: 0.594311100141914\n",
      "Validation Score: 0.5687314906219151\n",
      "Training Loss Score: 1.0462525528529076\n",
      "Validation Loss Score: 1.1162746585240044\n",
      "=============================================\n"
     ]
    },
    {
     "name": "stderr",
     "output_type": "stream",
     "text": [
      "/Users/brandenkim/miniconda3/envs/ml_env/lib/python3.9/site-packages/sklearn/neural_network/_multilayer_perceptron.py:691: ConvergenceWarning: Stochastic Optimizer: Maximum iterations (1) reached and the optimization hasn't converged yet.\n",
      "  warnings.warn(\n"
     ]
    },
    {
     "name": "stdout",
     "output_type": "stream",
     "text": [
      "=============================================\n",
      "Run for 119 epoch\n",
      "Training Score: 0.5945579070771889\n",
      "Validation Score: 0.5695952615992103\n",
      "Training Loss Score: 1.0460056731992844\n",
      "Validation Loss Score: 1.116234589130022\n",
      "=============================================\n"
     ]
    },
    {
     "name": "stderr",
     "output_type": "stream",
     "text": [
      "/Users/brandenkim/miniconda3/envs/ml_env/lib/python3.9/site-packages/sklearn/neural_network/_multilayer_perceptron.py:691: ConvergenceWarning: Stochastic Optimizer: Maximum iterations (1) reached and the optimization hasn't converged yet.\n",
      "  warnings.warn(\n"
     ]
    },
    {
     "name": "stdout",
     "output_type": "stream",
     "text": [
      "=============================================\n",
      "Run for 120 epoch\n",
      "Training Score: 0.594650459677917\n",
      "Validation Score: 0.5700888450148075\n",
      "Training Loss Score: 1.0457810336589666\n",
      "Validation Loss Score: 1.1162086401700153\n",
      "=============================================\n"
     ]
    },
    {
     "name": "stderr",
     "output_type": "stream",
     "text": [
      "/Users/brandenkim/miniconda3/envs/ml_env/lib/python3.9/site-packages/sklearn/neural_network/_multilayer_perceptron.py:691: ConvergenceWarning: Stochastic Optimizer: Maximum iterations (1) reached and the optimization hasn't converged yet.\n",
      "  warnings.warn(\n"
     ]
    },
    {
     "name": "stdout",
     "output_type": "stream",
     "text": [
      "=============================================\n",
      "Run for 121 epoch\n",
      "Training Score: 0.5946196088110076\n",
      "Validation Score: 0.5697186574531096\n",
      "Training Loss Score: 1.0455151041966855\n",
      "Validation Loss Score: 1.1162524954109903\n",
      "=============================================\n"
     ]
    },
    {
     "name": "stderr",
     "output_type": "stream",
     "text": [
      "/Users/brandenkim/miniconda3/envs/ml_env/lib/python3.9/site-packages/sklearn/neural_network/_multilayer_perceptron.py:691: ConvergenceWarning: Stochastic Optimizer: Maximum iterations (1) reached and the optimization hasn't converged yet.\n",
      "  warnings.warn(\n"
     ]
    },
    {
     "name": "stdout",
     "output_type": "stream",
     "text": [
      "=============================================\n",
      "Run for 122 epoch\n",
      "Training Score: 0.5949898192139199\n",
      "Validation Score: 0.5703356367226061\n",
      "Training Loss Score: 1.0453158479771945\n",
      "Validation Loss Score: 1.116202593861166\n",
      "=============================================\n"
     ]
    },
    {
     "name": "stderr",
     "output_type": "stream",
     "text": [
      "/Users/brandenkim/miniconda3/envs/ml_env/lib/python3.9/site-packages/sklearn/neural_network/_multilayer_perceptron.py:691: ConvergenceWarning: Stochastic Optimizer: Maximum iterations (1) reached and the optimization hasn't converged yet.\n",
      "  warnings.warn(\n"
     ]
    },
    {
     "name": "stdout",
     "output_type": "stream",
     "text": [
      "=============================================\n",
      "Run for 123 epoch\n",
      "Training Score: 0.5953291787499229\n",
      "Validation Score: 0.5703356367226061\n",
      "Training Loss Score: 1.0450623457143775\n",
      "Validation Loss Score: 1.1162118167821558\n",
      "=============================================\n"
     ]
    },
    {
     "name": "stderr",
     "output_type": "stream",
     "text": [
      "/Users/brandenkim/miniconda3/envs/ml_env/lib/python3.9/site-packages/sklearn/neural_network/_multilayer_perceptron.py:691: ConvergenceWarning: Stochastic Optimizer: Maximum iterations (1) reached and the optimization hasn't converged yet.\n",
      "  warnings.warn(\n"
     ]
    },
    {
     "name": "stdout",
     "output_type": "stream",
     "text": [
      "=============================================\n",
      "Run for 124 epoch\n",
      "Training Score: 0.5955142839513791\n",
      "Validation Score: 0.5699654491609082\n",
      "Training Loss Score: 1.0448188484352652\n",
      "Validation Loss Score: 1.1161642218454424\n",
      "=============================================\n"
     ]
    },
    {
     "name": "stderr",
     "output_type": "stream",
     "text": [
      "/Users/brandenkim/miniconda3/envs/ml_env/lib/python3.9/site-packages/sklearn/neural_network/_multilayer_perceptron.py:691: ConvergenceWarning: Stochastic Optimizer: Maximum iterations (1) reached and the optimization hasn't converged yet.\n",
      "  warnings.warn(\n"
     ]
    },
    {
     "name": "stdout",
     "output_type": "stream",
     "text": [
      "=============================================\n",
      "Run for 125 epoch\n",
      "Training Score: 0.5957302400197445\n",
      "Validation Score: 0.5705824284304047\n",
      "Training Loss Score: 1.044547986233355\n",
      "Validation Loss Score: 1.1162586361891407\n",
      "=============================================\n"
     ]
    },
    {
     "name": "stderr",
     "output_type": "stream",
     "text": [
      "/Users/brandenkim/miniconda3/envs/ml_env/lib/python3.9/site-packages/sklearn/neural_network/_multilayer_perceptron.py:691: ConvergenceWarning: Stochastic Optimizer: Maximum iterations (1) reached and the optimization hasn't converged yet.\n",
      "  warnings.warn(\n"
     ]
    },
    {
     "name": "stdout",
     "output_type": "stream",
     "text": [
      "=============================================\n",
      "Run for 126 epoch\n",
      "Training Score: 0.5960387486888381\n",
      "Validation Score: 0.5702122408687068\n",
      "Training Loss Score: 1.0442421222437144\n",
      "Validation Loss Score: 1.116144546459987\n",
      "=============================================\n"
     ]
    },
    {
     "name": "stderr",
     "output_type": "stream",
     "text": [
      "/Users/brandenkim/miniconda3/envs/ml_env/lib/python3.9/site-packages/sklearn/neural_network/_multilayer_perceptron.py:691: ConvergenceWarning: Stochastic Optimizer: Maximum iterations (1) reached and the optimization hasn't converged yet.\n",
      "  warnings.warn(\n"
     ]
    },
    {
     "name": "stdout",
     "output_type": "stream",
     "text": [
      "=============================================\n",
      "Run for 127 epoch\n",
      "Training Score: 0.5957919417535633\n",
      "Validation Score: 0.5709526159921027\n",
      "Training Loss Score: 1.0440917340832314\n",
      "Validation Loss Score: 1.1160286366511938\n",
      "=============================================\n"
     ]
    },
    {
     "name": "stderr",
     "output_type": "stream",
     "text": [
      "/Users/brandenkim/miniconda3/envs/ml_env/lib/python3.9/site-packages/sklearn/neural_network/_multilayer_perceptron.py:691: ConvergenceWarning: Stochastic Optimizer: Maximum iterations (1) reached and the optimization hasn't converged yet.\n",
      "  warnings.warn(\n"
     ]
    },
    {
     "name": "stdout",
     "output_type": "stream",
     "text": [
      "=============================================\n",
      "Run for 128 epoch\n",
      "Training Score: 0.5957302400197445\n",
      "Validation Score: 0.570705824284304\n",
      "Training Loss Score: 1.0438457677243065\n",
      "Validation Loss Score: 1.115862915476089\n",
      "=============================================\n"
     ]
    },
    {
     "name": "stderr",
     "output_type": "stream",
     "text": [
      "/Users/brandenkim/miniconda3/envs/ml_env/lib/python3.9/site-packages/sklearn/neural_network/_multilayer_perceptron.py:691: ConvergenceWarning: Stochastic Optimizer: Maximum iterations (1) reached and the optimization hasn't converged yet.\n",
      "  warnings.warn(\n"
     ]
    },
    {
     "name": "stdout",
     "output_type": "stream",
     "text": [
      "=============================================\n",
      "Run for 129 epoch\n",
      "Training Score: 0.5955142839513791\n",
      "Validation Score: 0.5703356367226061\n",
      "Training Loss Score: 1.0435961380286551\n",
      "Validation Loss Score: 1.1156605004490312\n",
      "=============================================\n"
     ]
    },
    {
     "name": "stderr",
     "output_type": "stream",
     "text": [
      "/Users/brandenkim/miniconda3/envs/ml_env/lib/python3.9/site-packages/sklearn/neural_network/_multilayer_perceptron.py:691: ConvergenceWarning: Stochastic Optimizer: Maximum iterations (1) reached and the optimization hasn't converged yet.\n",
      "  warnings.warn(\n"
     ]
    },
    {
     "name": "stdout",
     "output_type": "stream",
     "text": [
      "=============================================\n",
      "Run for 130 epoch\n",
      "Training Score: 0.5955142839513791\n",
      "Validation Score: 0.5704590325765054\n",
      "Training Loss Score: 1.0434044389272656\n",
      "Validation Loss Score: 1.115554421763754\n",
      "=============================================\n"
     ]
    },
    {
     "name": "stderr",
     "output_type": "stream",
     "text": [
      "/Users/brandenkim/miniconda3/envs/ml_env/lib/python3.9/site-packages/sklearn/neural_network/_multilayer_perceptron.py:691: ConvergenceWarning: Stochastic Optimizer: Maximum iterations (1) reached and the optimization hasn't converged yet.\n",
      "  warnings.warn(\n"
     ]
    },
    {
     "name": "stdout",
     "output_type": "stream",
     "text": [
      "=============================================\n",
      "Run for 131 epoch\n",
      "Training Score: 0.5956068365521071\n",
      "Validation Score: 0.5703356367226061\n",
      "Training Loss Score: 1.043213660937762\n",
      "Validation Loss Score: 1.115411086971979\n",
      "=============================================\n"
     ]
    },
    {
     "name": "stderr",
     "output_type": "stream",
     "text": [
      "/Users/brandenkim/miniconda3/envs/ml_env/lib/python3.9/site-packages/sklearn/neural_network/_multilayer_perceptron.py:691: ConvergenceWarning: Stochastic Optimizer: Maximum iterations (1) reached and the optimization hasn't converged yet.\n",
      "  warnings.warn(\n"
     ]
    },
    {
     "name": "stdout",
     "output_type": "stream",
     "text": [
      "=============================================\n",
      "Run for 132 epoch\n",
      "Training Score: 0.5955759856851978\n",
      "Validation Score: 0.5702122408687068\n",
      "Training Loss Score: 1.042990157894975\n",
      "Validation Loss Score: 1.1152227317943113\n",
      "=============================================\n"
     ]
    },
    {
     "name": "stderr",
     "output_type": "stream",
     "text": [
      "/Users/brandenkim/miniconda3/envs/ml_env/lib/python3.9/site-packages/sklearn/neural_network/_multilayer_perceptron.py:691: ConvergenceWarning: Stochastic Optimizer: Maximum iterations (1) reached and the optimization hasn't converged yet.\n",
      "  warnings.warn(\n"
     ]
    },
    {
     "name": "stdout",
     "output_type": "stream",
     "text": [
      "=============================================\n",
      "Run for 133 epoch\n",
      "Training Score: 0.595853643487382\n",
      "Validation Score: 0.5703356367226061\n",
      "Training Loss Score: 1.042814399694852\n",
      "Validation Loss Score: 1.1150866097121888\n",
      "=============================================\n"
     ]
    },
    {
     "name": "stderr",
     "output_type": "stream",
     "text": [
      "/Users/brandenkim/miniconda3/envs/ml_env/lib/python3.9/site-packages/sklearn/neural_network/_multilayer_perceptron.py:691: ConvergenceWarning: Stochastic Optimizer: Maximum iterations (1) reached and the optimization hasn't converged yet.\n",
      "  warnings.warn(\n"
     ]
    },
    {
     "name": "stdout",
     "output_type": "stream",
     "text": [
      "=============================================\n",
      "Run for 134 epoch\n",
      "Training Score: 0.5954217313506509\n",
      "Validation Score: 0.570705824284304\n",
      "Training Loss Score: 1.0424452118333756\n",
      "Validation Loss Score: 1.1148100579931262\n",
      "=============================================\n"
     ]
    },
    {
     "name": "stderr",
     "output_type": "stream",
     "text": [
      "/Users/brandenkim/miniconda3/envs/ml_env/lib/python3.9/site-packages/sklearn/neural_network/_multilayer_perceptron.py:691: ConvergenceWarning: Stochastic Optimizer: Maximum iterations (1) reached and the optimization hasn't converged yet.\n",
      "  warnings.warn(\n"
     ]
    },
    {
     "name": "stdout",
     "output_type": "stream",
     "text": [
      "=============================================\n",
      "Run for 135 epoch\n",
      "Training Score: 0.5952674770161042\n",
      "Validation Score: 0.5703356367226061\n",
      "Training Loss Score: 1.0422393242676111\n",
      "Validation Loss Score: 1.114670374989632\n",
      "=============================================\n"
     ]
    },
    {
     "name": "stderr",
     "output_type": "stream",
     "text": [
      "/Users/brandenkim/miniconda3/envs/ml_env/lib/python3.9/site-packages/sklearn/neural_network/_multilayer_perceptron.py:691: ConvergenceWarning: Stochastic Optimizer: Maximum iterations (1) reached and the optimization hasn't converged yet.\n",
      "  warnings.warn(\n"
     ]
    },
    {
     "name": "stdout",
     "output_type": "stream",
     "text": [
      "=============================================\n",
      "Run for 136 epoch\n",
      "Training Score: 0.5952983278830135\n",
      "Validation Score: 0.5700888450148075\n",
      "Training Loss Score: 1.041960294122698\n",
      "Validation Loss Score: 1.1145170327727896\n",
      "=============================================\n"
     ]
    },
    {
     "name": "stderr",
     "output_type": "stream",
     "text": [
      "/Users/brandenkim/miniconda3/envs/ml_env/lib/python3.9/site-packages/sklearn/neural_network/_multilayer_perceptron.py:691: ConvergenceWarning: Stochastic Optimizer: Maximum iterations (1) reached and the optimization hasn't converged yet.\n",
      "  warnings.warn(\n"
     ]
    },
    {
     "name": "stdout",
     "output_type": "stream",
     "text": [
      "=============================================\n",
      "Run for 137 epoch\n",
      "Training Score: 0.5956376874190165\n",
      "Validation Score: 0.5700888450148075\n",
      "Training Loss Score: 1.0417260057211628\n",
      "Validation Loss Score: 1.1143960153316246\n",
      "=============================================\n"
     ]
    },
    {
     "name": "stderr",
     "output_type": "stream",
     "text": [
      "/Users/brandenkim/miniconda3/envs/ml_env/lib/python3.9/site-packages/sklearn/neural_network/_multilayer_perceptron.py:691: ConvergenceWarning: Stochastic Optimizer: Maximum iterations (1) reached and the optimization hasn't converged yet.\n",
      "  warnings.warn(\n"
     ]
    },
    {
     "name": "stdout",
     "output_type": "stream",
     "text": [
      "=============================================\n",
      "Run for 138 epoch\n",
      "Training Score: 0.595761090886654\n",
      "Validation Score: 0.5708292201382034\n",
      "Training Loss Score: 1.0414778039829933\n",
      "Validation Loss Score: 1.1142824863137013\n",
      "=============================================\n"
     ]
    },
    {
     "name": "stderr",
     "output_type": "stream",
     "text": [
      "/Users/brandenkim/miniconda3/envs/ml_env/lib/python3.9/site-packages/sklearn/neural_network/_multilayer_perceptron.py:691: ConvergenceWarning: Stochastic Optimizer: Maximum iterations (1) reached and the optimization hasn't converged yet.\n",
      "  warnings.warn(\n"
     ]
    },
    {
     "name": "stdout",
     "output_type": "stream",
     "text": [
      "=============================================\n",
      "Run for 139 epoch\n",
      "Training Score: 0.5959770469550194\n",
      "Validation Score: 0.5700888450148075\n",
      "Training Loss Score: 1.041302364422\n",
      "Validation Loss Score: 1.1143122390858884\n",
      "=============================================\n"
     ]
    },
    {
     "name": "stderr",
     "output_type": "stream",
     "text": [
      "/Users/brandenkim/miniconda3/envs/ml_env/lib/python3.9/site-packages/sklearn/neural_network/_multilayer_perceptron.py:691: ConvergenceWarning: Stochastic Optimizer: Maximum iterations (1) reached and the optimization hasn't converged yet.\n",
      "  warnings.warn(\n"
     ]
    },
    {
     "name": "stdout",
     "output_type": "stream",
     "text": [
      "=============================================\n",
      "Run for 140 epoch\n",
      "Training Score: 0.5957919417535633\n",
      "Validation Score: 0.5698420533070089\n",
      "Training Loss Score: 1.0410573597489157\n",
      "Validation Loss Score: 1.1141699768084545\n",
      "=============================================\n"
     ]
    },
    {
     "name": "stderr",
     "output_type": "stream",
     "text": [
      "/Users/brandenkim/miniconda3/envs/ml_env/lib/python3.9/site-packages/sklearn/neural_network/_multilayer_perceptron.py:691: ConvergenceWarning: Stochastic Optimizer: Maximum iterations (1) reached and the optimization hasn't converged yet.\n",
      "  warnings.warn(\n"
     ]
    },
    {
     "name": "stdout",
     "output_type": "stream",
     "text": [
      "=============================================\n",
      "Run for 141 epoch\n",
      "Training Score: 0.5961621521564756\n",
      "Validation Score: 0.5693484698914116\n",
      "Training Loss Score: 1.0408654708904144\n",
      "Validation Loss Score: 1.114019961446244\n",
      "=============================================\n"
     ]
    },
    {
     "name": "stderr",
     "output_type": "stream",
     "text": [
      "/Users/brandenkim/miniconda3/envs/ml_env/lib/python3.9/site-packages/sklearn/neural_network/_multilayer_perceptron.py:691: ConvergenceWarning: Stochastic Optimizer: Maximum iterations (1) reached and the optimization hasn't converged yet.\n",
      "  warnings.warn(\n"
     ]
    },
    {
     "name": "stdout",
     "output_type": "stream",
     "text": [
      "=============================================\n",
      "Run for 142 epoch\n",
      "Training Score: 0.5956376874190165\n",
      "Validation Score: 0.5692250740375123\n",
      "Training Loss Score: 1.040726344061088\n",
      "Validation Loss Score: 1.1140129212096828\n",
      "=============================================\n"
     ]
    },
    {
     "name": "stderr",
     "output_type": "stream",
     "text": [
      "/Users/brandenkim/miniconda3/envs/ml_env/lib/python3.9/site-packages/sklearn/neural_network/_multilayer_perceptron.py:691: ConvergenceWarning: Stochastic Optimizer: Maximum iterations (1) reached and the optimization hasn't converged yet.\n",
      "  warnings.warn(\n"
     ]
    },
    {
     "name": "stdout",
     "output_type": "stream",
     "text": [
      "=============================================\n",
      "Run for 143 epoch\n",
      "Training Score: 0.5962238538902943\n",
      "Validation Score: 0.5695952615992103\n",
      "Training Loss Score: 1.0404787248398033\n",
      "Validation Loss Score: 1.113841831733832\n",
      "=============================================\n"
     ]
    },
    {
     "name": "stderr",
     "output_type": "stream",
     "text": [
      "/Users/brandenkim/miniconda3/envs/ml_env/lib/python3.9/site-packages/sklearn/neural_network/_multilayer_perceptron.py:691: ConvergenceWarning: Stochastic Optimizer: Maximum iterations (1) reached and the optimization hasn't converged yet.\n",
      "  warnings.warn(\n"
     ]
    },
    {
     "name": "stdout",
     "output_type": "stream",
     "text": [
      "=============================================\n",
      "Run for 144 epoch\n",
      "Training Score: 0.596193003023385\n",
      "Validation Score: 0.5684846989141165\n",
      "Training Loss Score: 1.0402934635785963\n",
      "Validation Loss Score: 1.113719226905675\n",
      "=============================================\n"
     ]
    },
    {
     "name": "stderr",
     "output_type": "stream",
     "text": [
      "/Users/brandenkim/miniconda3/envs/ml_env/lib/python3.9/site-packages/sklearn/neural_network/_multilayer_perceptron.py:691: ConvergenceWarning: Stochastic Optimizer: Maximum iterations (1) reached and the optimization hasn't converged yet.\n",
      "  warnings.warn(\n"
     ]
    },
    {
     "name": "stdout",
     "output_type": "stream",
     "text": [
      "=============================================\n",
      "Run for 145 epoch\n",
      "Training Score: 0.5963164064910224\n",
      "Validation Score: 0.5683613030602171\n",
      "Training Loss Score: 1.040114780311488\n",
      "Validation Loss Score: 1.1134799290793842\n",
      "=============================================\n"
     ]
    },
    {
     "name": "stderr",
     "output_type": "stream",
     "text": [
      "/Users/brandenkim/miniconda3/envs/ml_env/lib/python3.9/site-packages/sklearn/neural_network/_multilayer_perceptron.py:691: ConvergenceWarning: Stochastic Optimizer: Maximum iterations (1) reached and the optimization hasn't converged yet.\n",
      "  warnings.warn(\n"
     ]
    },
    {
     "name": "stdout",
     "output_type": "stream",
     "text": [
      "=============================================\n",
      "Run for 146 epoch\n",
      "Training Score: 0.5971493798975751\n",
      "Validation Score: 0.5695952615992103\n",
      "Training Loss Score: 1.0398577563892621\n",
      "Validation Loss Score: 1.1132810848233423\n",
      "=============================================\n"
     ]
    },
    {
     "name": "stderr",
     "output_type": "stream",
     "text": [
      "/Users/brandenkim/miniconda3/envs/ml_env/lib/python3.9/site-packages/sklearn/neural_network/_multilayer_perceptron.py:691: ConvergenceWarning: Stochastic Optimizer: Maximum iterations (1) reached and the optimization hasn't converged yet.\n",
      "  warnings.warn(\n"
     ]
    },
    {
     "name": "stdout",
     "output_type": "stream",
     "text": [
      "=============================================\n",
      "Run for 147 epoch\n",
      "Training Score: 0.5968717220953909\n",
      "Validation Score: 0.5686080947680158\n",
      "Training Loss Score: 1.0397088868358682\n",
      "Validation Loss Score: 1.1132420708767994\n",
      "=============================================\n"
     ]
    },
    {
     "name": "stderr",
     "output_type": "stream",
     "text": [
      "/Users/brandenkim/miniconda3/envs/ml_env/lib/python3.9/site-packages/sklearn/neural_network/_multilayer_perceptron.py:691: ConvergenceWarning: Stochastic Optimizer: Maximum iterations (1) reached and the optimization hasn't converged yet.\n",
      "  warnings.warn(\n"
     ]
    },
    {
     "name": "stdout",
     "output_type": "stream",
     "text": [
      "=============================================\n",
      "Run for 148 epoch\n",
      "Training Score: 0.597488739433578\n",
      "Validation Score: 0.5693484698914116\n",
      "Training Loss Score: 1.0395032587716426\n",
      "Validation Loss Score: 1.1130348658551728\n",
      "=============================================\n"
     ]
    },
    {
     "name": "stderr",
     "output_type": "stream",
     "text": [
      "/Users/brandenkim/miniconda3/envs/ml_env/lib/python3.9/site-packages/sklearn/neural_network/_multilayer_perceptron.py:691: ConvergenceWarning: Stochastic Optimizer: Maximum iterations (1) reached and the optimization hasn't converged yet.\n",
      "  warnings.warn(\n"
     ]
    },
    {
     "name": "stdout",
     "output_type": "stream",
     "text": [
      "=============================================\n",
      "Run for 149 epoch\n",
      "Training Score: 0.5975504411673968\n",
      "Validation Score: 0.569471865745311\n",
      "Training Loss Score: 1.0393439815355412\n",
      "Validation Loss Score: 1.112955997229977\n",
      "=============================================\n",
      "=============================================\n",
      "Run for 150 epoch\n",
      "Training Score: 0.5974578885666687\n",
      "Validation Score: 0.5704590325765054\n",
      "Training Loss Score: 1.039110132938966\n",
      "Validation Loss Score: 1.11271944298585\n",
      "=============================================\n"
     ]
    },
    {
     "name": "stderr",
     "output_type": "stream",
     "text": [
      "/Users/brandenkim/miniconda3/envs/ml_env/lib/python3.9/site-packages/sklearn/neural_network/_multilayer_perceptron.py:691: ConvergenceWarning: Stochastic Optimizer: Maximum iterations (1) reached and the optimization hasn't converged yet.\n",
      "  warnings.warn(\n"
     ]
    }
   ],
   "source": [
    "\"\"\"\n",
    "Actually training the MLP Classifier to generate the graph for the learning graph visualizer.\n",
    "This should utilize the percentage of samples lists that use randomly selected samples of the\n",
    "overall training data. This is so that we can test the accuracy (using cross-validation) across different\n",
    "training data size samples to see at what point the accuracy score stops being affected by the size of the training\n",
    "samples. This is also to see at what point the data might start getting overfit.\n",
    "\n",
    "This is to generate the Accuracy Learning Curve.\n",
    "\"\"\"\n",
    "# Defining hyperparameters here\n",
    "hidden_layer_sizes = [50, 10]\n",
    "activation = 'relu'\n",
    "learning_rate = 'constant'\n",
    "max_iter = 1 # Setting this to 1 since we want to control the epochs ourselves\n",
    "warm_start = True # This is to stack the training across different epochs\n",
    "\n",
    "# lists to hold the results of training / validation scores\n",
    "x_axis_list = []\n",
    "avg_train_scores_list_gm = []\n",
    "avg_validation_scores_list_gm = []\n",
    "avg_train_loss_values_gm = []\n",
    "avg_validation_loss_values_gm = []\n",
    "\n",
    "# First declaring the Decision Tree Classifer from scikit-learn\n",
    "clf = MLPClassifier(\n",
    "    hidden_layer_sizes=hidden_layer_sizes,\n",
    "    activation=activation,\n",
    "    learning_rate=learning_rate,\n",
    "    max_iter=max_iter,\n",
    "    warm_start=warm_start,\n",
    "    random_state=seed\n",
    ")\n",
    "\n",
    "for epoch_iteration in range(1, number_of_epochs + 1):\n",
    "    \n",
    "    # cross_val_score doesn't increase across epoch runs for some reason so I need to split it myself\n",
    "    train_data, val_data, train_label, val_label = train_test_split(gm_train_data, train_labels, test_size=0.2, random_state=seed)\n",
    "    \n",
    "    clf.fit(train_data, train_label)\n",
    "    \n",
    "    accuracy_score = clf.score(train_data, train_label)\n",
    "    validation_score = clf.score(val_data, val_label)\n",
    "#     loss_score = clf.loss_\n",
    "    train_loss_score = log_loss(train_label, clf.predict_proba(train_data))\n",
    "    val_loss_score = log_loss(val_label, clf.predict_proba(val_data))\n",
    "    \n",
    "    x_axis_list.append(epoch_iteration)\n",
    "    avg_train_scores_list_gm.append(accuracy_score)\n",
    "    avg_validation_scores_list_gm.append(validation_score)\n",
    "    avg_train_loss_values_gm.append(train_loss_score)\n",
    "    avg_validation_loss_values_gm.append(val_loss_score)\n",
    "    \n",
    "    print(\"=============================================\")\n",
    "    print(\"Run for \" + str(epoch_iteration) + \" epoch\")\n",
    "    print(\"Training Score: \" + str(accuracy_score))\n",
    "    print(\"Validation Score: \" + str(validation_score))\n",
    "#     print(\"Loss Score: \" + str(loss_score))\n",
    "    print(\"Training Loss Score: \" + str(train_loss_score))\n",
    "    print(\"Validation Loss Score: \" + str(val_loss_score))\n",
    "    print(\"=============================================\")\n",
    "\n"
   ]
  },
  {
   "cell_type": "code",
   "execution_count": 46,
   "id": "aae6b3ba",
   "metadata": {},
   "outputs": [
    {
     "name": "stdout",
     "output_type": "stream",
     "text": [
      "0.5775211017325633\n",
      "0.004575014114379883\n"
     ]
    },
    {
     "name": "stderr",
     "output_type": "stream",
     "text": [
      "/Users/brandenkim/miniconda3/envs/ml_env/lib/python3.9/site-packages/sklearn/neural_network/_multilayer_perceptron.py:691: ConvergenceWarning: Stochastic Optimizer: Maximum iterations (150) reached and the optimization hasn't converged yet.\n",
      "  warnings.warn(\n"
     ]
    }
   ],
   "source": [
    "\"\"\"\n",
    "Computing Accuracy Score on the Test data\n",
    "\"\"\"\n",
    "\n",
    "clf = MLPClassifier(\n",
    "    hidden_layer_sizes=hidden_layer_sizes,\n",
    "    activation=activation,\n",
    "    learning_rate=learning_rate,\n",
    "    max_iter=number_of_epochs,\n",
    "    warm_start=warm_start,\n",
    "    random_state=seed\n",
    ")\n",
    "\n",
    "clf.fit(gm_train_data, train_labels)\n",
    "start_time = time.time()\n",
    "score = clf.score(gm_test_data, test_labels)\n",
    "training_time = time.time() - start_time\n",
    "print(score)\n",
    "print(training_time)"
   ]
  },
  {
   "cell_type": "code",
   "execution_count": 47,
   "id": "85e3b41d",
   "metadata": {},
   "outputs": [
    {
     "data": {
      "image/png": "[encoded data removed]",
      "text/plain": [
       "<Figure size 640x480 with 1 Axes>"
      ]
     },
     "metadata": {},
     "output_type": "display_data"
    }
   ],
   "source": [
    "\"\"\"\n",
    "Graphing the validation curves for both the baseline and the Dimension Reduced datasets.\n",
    "\"\"\"\n",
    "\n",
    "# Plotting the training scores\n",
    "plt.plot(\n",
    "    x_axis_list,\n",
    "    avg_train_scores_list_reg,\n",
    "    color=\"red\",\n",
    "    linewidth=3,\n",
    "    marker='o',\n",
    "    label = \"Average Training Scores (A1)\"\n",
    ")\n",
    "\n",
    "# Plotting the validation scores\n",
    "plt.plot(\n",
    "    x_axis_list,\n",
    "    avg_validation_scores_list_reg,\n",
    "    color=\"orange\",\n",
    "    linewidth=3,\n",
    "    marker='o',\n",
    "    label = \"Average Validation Scores (A1)\"\n",
    ")\n",
    "\n",
    "# Plotting the training scores\n",
    "plt.plot(\n",
    "    x_axis_list,\n",
    "    avg_train_scores_list_gm,\n",
    "    color=\"blue\",\n",
    "    linewidth=3,\n",
    "    marker='o',\n",
    "    label = \"Average Training Scores (GM)\"\n",
    ")\n",
    "\n",
    "# Plotting the validation scores\n",
    "plt.plot(\n",
    "    x_axis_list,\n",
    "    avg_validation_scores_list_gm,\n",
    "    color=\"purple\",\n",
    "    linewidth=3,\n",
    "    marker='o',\n",
    "    label = \"Average Validation Scores (GM)\"\n",
    ")\n",
    "\n",
    "# Naming X-Axis\n",
    "plt.xlabel('Dataset Sizes')\n",
    "# Naming Y-Axis\n",
    "plt.ylabel('Accuracy scores as a percentage')\n",
    "# Naming Title\n",
    "plt.title(\"Accuracy Learning Curve Graph using Cross-Validation on MNIST Dataset: Neural Networks vs GM\")\n",
    "\n",
    "plt.legend()\n",
    "\n",
    "plt.show()"
   ]
  },
  {
   "cell_type": "code",
   "execution_count": 48,
   "id": "d7baf025",
   "metadata": {},
   "outputs": [
    {
     "data": {
      "image/png": "[encoded data removed]",
      "text/plain": [
       "<Figure size 640x480 with 1 Axes>"
      ]
     },
     "metadata": {},
     "output_type": "display_data"
    }
   ],
   "source": [
    "\"\"\"\n",
    "Plotting the results into a loss learning curve graph\n",
    "\"\"\"\n",
    "\n",
    "# Plotting the training scores\n",
    "plt.plot(\n",
    "    x_axis_list,\n",
    "    avg_train_loss_values_reg,\n",
    "    color=\"red\",\n",
    "    linewidth=3,\n",
    "    marker='o',\n",
    "    label = \"Average Training Scores (A1)\"\n",
    ")\n",
    "\n",
    "# Plotting the validation scores\n",
    "plt.plot(\n",
    "    x_axis_list,\n",
    "    avg_validation_loss_values_reg,\n",
    "    color=\"orange\",\n",
    "    linewidth=3,\n",
    "    marker='o',\n",
    "    label = \"Average Validation Scores (A1)\"\n",
    ")\n",
    "# Plotting the training scores\n",
    "plt.plot(\n",
    "    x_axis_list,\n",
    "    avg_train_loss_values_gm,\n",
    "    color=\"blue\",\n",
    "    linewidth=3,\n",
    "    marker='o',\n",
    "    label = \"Average Training Scores (GM)\"\n",
    ")\n",
    "\n",
    "# Plotting the validation scores\n",
    "plt.plot(\n",
    "    x_axis_list,\n",
    "    avg_validation_loss_values_gm,\n",
    "    color=\"purple\",\n",
    "    linewidth=3,\n",
    "    marker='o',\n",
    "    label = \"Average Validation Scores (GM)\"\n",
    ")\n",
    "\n",
    "\n",
    "# Naming X-Axis\n",
    "plt.xlabel('Dataset Sizes')\n",
    "# Naming Y-Axis\n",
    "plt.ylabel('Log-Loss scores')\n",
    "# Naming Title\n",
    "plt.title(\"Loss Learning Curve Graph using Cross-Validation on MNIST Dataset: Neural Networks vs GM\")\n",
    "\n",
    "plt.legend()\n",
    "\n",
    "plt.show()"
   ]
  },
  {
   "cell_type": "code",
   "execution_count": 49,
   "id": "fd11e143",
   "metadata": {},
   "outputs": [],
   "source": [
    "\"\"\"\n",
    "Running the KMeans clustering algorithm to find labels to add as another feature to the dataset\n",
    "\"\"\"\n",
    "init = \"random\"\n",
    "n_init = 10\n",
    "max_iter = 300\n",
    "algorithm = \"lloyd\"\n",
    "\n",
    "kmfinal = KMeans(\n",
    "    n_clusters = 10,\n",
    "    init = init,\n",
    "    n_init = n_init,\n",
    "    max_iter = max_iter,\n",
    "    algorithm = algorithm,\n",
    "    random_state = seed\n",
    ")\n",
    "\n",
    "kmfinal.fit(train_features)\n",
    "kmeans_train_fit_labels = kmfinal.predict(train_features)\n",
    "kmeans_test_fit_labels = kmfinal.predict(test_features)"
   ]
  },
  {
   "cell_type": "code",
   "execution_count": 50,
   "id": "6dc40919",
   "metadata": {},
   "outputs": [],
   "source": [
    "\"\"\"\n",
    "Adding the labels as a column to the train / test data KMeans\n",
    "\"\"\"\n",
    "kmeans_train_data = np.append(train_features, kmeans_train_fit_labels[:, None], axis=1)\n",
    "kmeans_test_data = np.append(test_features, kmeans_test_fit_labels[:, None], axis=1)"
   ]
  },
  {
   "cell_type": "code",
   "execution_count": 51,
   "id": "1e38d963",
   "metadata": {},
   "outputs": [
    {
     "name": "stderr",
     "output_type": "stream",
     "text": [
      "/Users/brandenkim/miniconda3/envs/ml_env/lib/python3.9/site-packages/sklearn/neural_network/_multilayer_perceptron.py:691: ConvergenceWarning: Stochastic Optimizer: Maximum iterations (1) reached and the optimization hasn't converged yet.\n",
      "  warnings.warn(\n"
     ]
    },
    {
     "name": "stdout",
     "output_type": "stream",
     "text": [
      "=============================================\n",
      "Run for 1 epoch\n",
      "Training Score: 0.39575492071327206\n",
      "Validation Score: 0.39067127344521224\n",
      "Training Loss Score: 1.730206318629224\n",
      "Validation Loss Score: 1.7463963525900112\n",
      "=============================================\n"
     ]
    },
    {
     "name": "stderr",
     "output_type": "stream",
     "text": [
      "/Users/brandenkim/miniconda3/envs/ml_env/lib/python3.9/site-packages/sklearn/neural_network/_multilayer_perceptron.py:691: ConvergenceWarning: Stochastic Optimizer: Maximum iterations (1) reached and the optimization hasn't converged yet.\n",
      "  warnings.warn(\n"
     ]
    },
    {
     "name": "stdout",
     "output_type": "stream",
     "text": [
      "=============================================\n",
      "Run for 2 epoch\n",
      "Training Score: 0.4828777688653051\n",
      "Validation Score: 0.47297630799605134\n",
      "Training Loss Score: 1.3784020629803326\n",
      "Validation Loss Score: 1.4080616336038312\n",
      "=============================================\n"
     ]
    },
    {
     "name": "stderr",
     "output_type": "stream",
     "text": [
      "/Users/brandenkim/miniconda3/envs/ml_env/lib/python3.9/site-packages/sklearn/neural_network/_multilayer_perceptron.py:691: ConvergenceWarning: Stochastic Optimizer: Maximum iterations (1) reached and the optimization hasn't converged yet.\n",
      "  warnings.warn(\n"
     ]
    },
    {
     "name": "stdout",
     "output_type": "stream",
     "text": [
      "=============================================\n",
      "Run for 3 epoch\n",
      "Training Score: 0.5149935213179491\n",
      "Validation Score: 0.5077739387956565\n",
      "Training Loss Score: 1.279895359698487\n",
      "Validation Loss Score: 1.3168661501877212\n",
      "=============================================\n"
     ]
    },
    {
     "name": "stderr",
     "output_type": "stream",
     "text": [
      "/Users/brandenkim/miniconda3/envs/ml_env/lib/python3.9/site-packages/sklearn/neural_network/_multilayer_perceptron.py:691: ConvergenceWarning: Stochastic Optimizer: Maximum iterations (1) reached and the optimization hasn't converged yet.\n",
      "  warnings.warn(\n"
     ]
    },
    {
     "name": "stdout",
     "output_type": "stream",
     "text": [
      "=============================================\n",
      "Run for 4 epoch\n",
      "Training Score: 0.5323934102548281\n",
      "Validation Score: 0.5178923988153998\n",
      "Training Loss Score: 1.2433843234077482\n",
      "Validation Loss Score: 1.2829412679896244\n",
      "=============================================\n"
     ]
    },
    {
     "name": "stderr",
     "output_type": "stream",
     "text": [
      "/Users/brandenkim/miniconda3/envs/ml_env/lib/python3.9/site-packages/sklearn/neural_network/_multilayer_perceptron.py:691: ConvergenceWarning: Stochastic Optimizer: Maximum iterations (1) reached and the optimization hasn't converged yet.\n",
      "  warnings.warn(\n"
     ]
    },
    {
     "name": "stdout",
     "output_type": "stream",
     "text": [
      "=============================================\n",
      "Run for 5 epoch\n",
      "Training Score: 0.5403837847843525\n",
      "Validation Score: 0.5266535044422508\n",
      "Training Loss Score: 1.2229835712895876\n",
      "Validation Loss Score: 1.2625643298342215\n",
      "=============================================\n"
     ]
    },
    {
     "name": "stderr",
     "output_type": "stream",
     "text": [
      "/Users/brandenkim/miniconda3/envs/ml_env/lib/python3.9/site-packages/sklearn/neural_network/_multilayer_perceptron.py:691: ConvergenceWarning: Stochastic Optimizer: Maximum iterations (1) reached and the optimization hasn't converged yet.\n",
      "  warnings.warn(\n"
     ]
    },
    {
     "name": "stdout",
     "output_type": "stream",
     "text": [
      "=============================================\n",
      "Run for 6 epoch\n",
      "Training Score: 0.5457209847596718\n",
      "Validation Score: 0.5310957551826259\n",
      "Training Loss Score: 1.2087222025351279\n",
      "Validation Loss Score: 1.2479951525741952\n",
      "=============================================\n"
     ]
    },
    {
     "name": "stderr",
     "output_type": "stream",
     "text": [
      "/Users/brandenkim/miniconda3/envs/ml_env/lib/python3.9/site-packages/sklearn/neural_network/_multilayer_perceptron.py:691: ConvergenceWarning: Stochastic Optimizer: Maximum iterations (1) reached and the optimization hasn't converged yet.\n",
      "  warnings.warn(\n"
     ]
    },
    {
     "name": "stdout",
     "output_type": "stream",
     "text": [
      "=============================================\n",
      "Run for 7 epoch\n",
      "Training Score: 0.549083729252792\n",
      "Validation Score: 0.536771964461994\n",
      "Training Loss Score: 1.198479240789105\n",
      "Validation Loss Score: 1.2381395484370845\n",
      "=============================================\n"
     ]
    },
    {
     "name": "stderr",
     "output_type": "stream",
     "text": [
      "/Users/brandenkim/miniconda3/envs/ml_env/lib/python3.9/site-packages/sklearn/neural_network/_multilayer_perceptron.py:691: ConvergenceWarning: Stochastic Optimizer: Maximum iterations (1) reached and the optimization hasn't converged yet.\n",
      "  warnings.warn(\n"
     ]
    },
    {
     "name": "stdout",
     "output_type": "stream",
     "text": [
      "=============================================\n",
      "Run for 8 epoch\n",
      "Training Score: 0.5514592460048128\n",
      "Validation Score: 0.5381293188548865\n",
      "Training Loss Score: 1.1894631379538967\n",
      "Validation Loss Score: 1.2299253725321333\n",
      "=============================================\n"
     ]
    },
    {
     "name": "stderr",
     "output_type": "stream",
     "text": [
      "/Users/brandenkim/miniconda3/envs/ml_env/lib/python3.9/site-packages/sklearn/neural_network/_multilayer_perceptron.py:691: ConvergenceWarning: Stochastic Optimizer: Maximum iterations (1) reached and the optimization hasn't converged yet.\n",
      "  warnings.warn(\n"
     ]
    },
    {
     "name": "stdout",
     "output_type": "stream",
     "text": [
      "=============================================\n",
      "Run for 9 epoch\n",
      "Training Score: 0.5540198679582896\n",
      "Validation Score: 0.5414610069101679\n",
      "Training Loss Score: 1.1818182978253202\n",
      "Validation Loss Score: 1.2232422116143002\n",
      "=============================================\n"
     ]
    },
    {
     "name": "stderr",
     "output_type": "stream",
     "text": [
      "/Users/brandenkim/miniconda3/envs/ml_env/lib/python3.9/site-packages/sklearn/neural_network/_multilayer_perceptron.py:691: ConvergenceWarning: Stochastic Optimizer: Maximum iterations (1) reached and the optimization hasn't converged yet.\n",
      "  warnings.warn(\n"
     ]
    },
    {
     "name": "stdout",
     "output_type": "stream",
     "text": [
      "=============================================\n",
      "Run for 10 epoch\n",
      "Training Score: 0.5556549639044858\n",
      "Validation Score: 0.5417077986179665\n",
      "Training Loss Score: 1.175031030023224\n",
      "Validation Loss Score: 1.217491797328649\n",
      "=============================================\n"
     ]
    },
    {
     "name": "stderr",
     "output_type": "stream",
     "text": [
      "/Users/brandenkim/miniconda3/envs/ml_env/lib/python3.9/site-packages/sklearn/neural_network/_multilayer_perceptron.py:691: ConvergenceWarning: Stochastic Optimizer: Maximum iterations (1) reached and the optimization hasn't converged yet.\n",
      "  warnings.warn(\n"
     ]
    },
    {
     "name": "stdout",
     "output_type": "stream",
     "text": [
      "=============================================\n",
      "Run for 11 epoch\n",
      "Training Score: 0.5566421916455853\n",
      "Validation Score: 0.5410908193484699\n",
      "Training Loss Score: 1.169088863604556\n",
      "Validation Loss Score: 1.212562886508136\n",
      "=============================================\n"
     ]
    },
    {
     "name": "stderr",
     "output_type": "stream",
     "text": [
      "/Users/brandenkim/miniconda3/envs/ml_env/lib/python3.9/site-packages/sklearn/neural_network/_multilayer_perceptron.py:691: ConvergenceWarning: Stochastic Optimizer: Maximum iterations (1) reached and the optimization hasn't converged yet.\n",
      "  warnings.warn(\n"
     ]
    },
    {
     "name": "stdout",
     "output_type": "stream",
     "text": [
      "=============================================\n",
      "Run for 12 epoch\n",
      "Training Score: 0.5580921823903252\n",
      "Validation Score: 0.5430651530108588\n",
      "Training Loss Score: 1.1635137851547837\n",
      "Validation Loss Score: 1.2082001016574495\n",
      "=============================================\n"
     ]
    },
    {
     "name": "stderr",
     "output_type": "stream",
     "text": [
      "/Users/brandenkim/miniconda3/envs/ml_env/lib/python3.9/site-packages/sklearn/neural_network/_multilayer_perceptron.py:691: ConvergenceWarning: Stochastic Optimizer: Maximum iterations (1) reached and the optimization hasn't converged yet.\n",
      "  warnings.warn(\n"
     ]
    },
    {
     "name": "stdout",
     "output_type": "stream",
     "text": [
      "=============================================\n",
      "Run for 13 epoch\n",
      "Training Score: 0.5591411118652434\n",
      "Validation Score: 0.543928923988154\n",
      "Training Loss Score: 1.1585545243205557\n",
      "Validation Loss Score: 1.2045573991054357\n",
      "=============================================\n"
     ]
    },
    {
     "name": "stderr",
     "output_type": "stream",
     "text": [
      "/Users/brandenkim/miniconda3/envs/ml_env/lib/python3.9/site-packages/sklearn/neural_network/_multilayer_perceptron.py:691: ConvergenceWarning: Stochastic Optimizer: Maximum iterations (1) reached and the optimization hasn't converged yet.\n",
      "  warnings.warn(\n"
     ]
    },
    {
     "name": "stdout",
     "output_type": "stream",
     "text": [
      "=============================================\n",
      "Run for 14 epoch\n",
      "Training Score: 0.5603751465416178\n",
      "Validation Score: 0.5444225074037512\n",
      "Training Loss Score: 1.154297999766338\n",
      "Validation Loss Score: 1.201270134707982\n",
      "=============================================\n"
     ]
    },
    {
     "name": "stderr",
     "output_type": "stream",
     "text": [
      "/Users/brandenkim/miniconda3/envs/ml_env/lib/python3.9/site-packages/sklearn/neural_network/_multilayer_perceptron.py:691: ConvergenceWarning: Stochastic Optimizer: Maximum iterations (1) reached and the optimization hasn't converged yet.\n",
      "  warnings.warn(\n"
     ]
    },
    {
     "name": "stdout",
     "output_type": "stream",
     "text": [
      "=============================================\n",
      "Run for 15 epoch\n",
      "Training Score: 0.5607453569445301\n",
      "Validation Score: 0.5460266535044422\n",
      "Training Loss Score: 1.1502024712206278\n",
      "Validation Loss Score: 1.1980841669985978\n",
      "=============================================\n"
     ]
    },
    {
     "name": "stderr",
     "output_type": "stream",
     "text": [
      "/Users/brandenkim/miniconda3/envs/ml_env/lib/python3.9/site-packages/sklearn/neural_network/_multilayer_perceptron.py:691: ConvergenceWarning: Stochastic Optimizer: Maximum iterations (1) reached and the optimization hasn't converged yet.\n",
      "  warnings.warn(\n"
     ]
    },
    {
     "name": "stdout",
     "output_type": "stream",
     "text": [
      "=============================================\n",
      "Run for 16 epoch\n",
      "Training Score: 0.5619485407539951\n",
      "Validation Score: 0.5472606120434353\n",
      "Training Loss Score: 1.1464828865722512\n",
      "Validation Loss Score: 1.1954300987209838\n",
      "=============================================\n"
     ]
    },
    {
     "name": "stderr",
     "output_type": "stream",
     "text": [
      "/Users/brandenkim/miniconda3/envs/ml_env/lib/python3.9/site-packages/sklearn/neural_network/_multilayer_perceptron.py:691: ConvergenceWarning: Stochastic Optimizer: Maximum iterations (1) reached and the optimization hasn't converged yet.\n",
      "  warnings.warn(\n"
     ]
    },
    {
     "name": "stdout",
     "output_type": "stream",
     "text": [
      "=============================================\n",
      "Run for 17 epoch\n",
      "Training Score: 0.56219534768927\n",
      "Validation Score: 0.5476307996051333\n",
      "Training Loss Score: 1.1429930397167347\n",
      "Validation Loss Score: 1.1927496252499852\n",
      "=============================================\n"
     ]
    },
    {
     "name": "stderr",
     "output_type": "stream",
     "text": [
      "/Users/brandenkim/miniconda3/envs/ml_env/lib/python3.9/site-packages/sklearn/neural_network/_multilayer_perceptron.py:691: ConvergenceWarning: Stochastic Optimizer: Maximum iterations (1) reached and the optimization hasn't converged yet.\n",
      "  warnings.warn(\n"
     ]
    },
    {
     "name": "stdout",
     "output_type": "stream",
     "text": [
      "=============================================\n",
      "Run for 18 epoch\n",
      "Training Score: 0.5644474609736534\n",
      "Validation Score: 0.5484945705824285\n",
      "Training Loss Score: 1.1394143731131532\n",
      "Validation Loss Score: 1.189939883832648\n",
      "=============================================\n"
     ]
    },
    {
     "name": "stderr",
     "output_type": "stream",
     "text": [
      "/Users/brandenkim/miniconda3/envs/ml_env/lib/python3.9/site-packages/sklearn/neural_network/_multilayer_perceptron.py:691: ConvergenceWarning: Stochastic Optimizer: Maximum iterations (1) reached and the optimization hasn't converged yet.\n",
      "  warnings.warn(\n"
     ]
    },
    {
     "name": "stdout",
     "output_type": "stream",
     "text": [
      "=============================================\n",
      "Run for 19 epoch\n",
      "Training Score: 0.5657431973838465\n",
      "Validation Score: 0.5497285291214216\n",
      "Training Loss Score: 1.13653359099919\n",
      "Validation Loss Score: 1.1876028889123103\n",
      "=============================================\n"
     ]
    },
    {
     "name": "stderr",
     "output_type": "stream",
     "text": [
      "/Users/brandenkim/miniconda3/envs/ml_env/lib/python3.9/site-packages/sklearn/neural_network/_multilayer_perceptron.py:691: ConvergenceWarning: Stochastic Optimizer: Maximum iterations (1) reached and the optimization hasn't converged yet.\n",
      "  warnings.warn(\n"
     ]
    },
    {
     "name": "stdout",
     "output_type": "stream",
     "text": [
      "=============================================\n",
      "Run for 20 epoch\n",
      "Training Score: 0.5664219164558524\n",
      "Validation Score: 0.5493583415597236\n",
      "Training Loss Score: 1.1337130518117369\n",
      "Validation Loss Score: 1.1854432409699616\n",
      "=============================================\n"
     ]
    },
    {
     "name": "stderr",
     "output_type": "stream",
     "text": [
      "/Users/brandenkim/miniconda3/envs/ml_env/lib/python3.9/site-packages/sklearn/neural_network/_multilayer_perceptron.py:691: ConvergenceWarning: Stochastic Optimizer: Maximum iterations (1) reached and the optimization hasn't converged yet.\n",
      "  warnings.warn(\n"
     ]
    },
    {
     "name": "stdout",
     "output_type": "stream",
     "text": [
      "=============================================\n",
      "Run for 21 epoch\n",
      "Training Score: 0.5677793545998643\n",
      "Validation Score: 0.5488647581441264\n",
      "Training Loss Score: 1.1310152709878938\n",
      "Validation Loss Score: 1.1833449832297174\n",
      "=============================================\n"
     ]
    },
    {
     "name": "stderr",
     "output_type": "stream",
     "text": [
      "/Users/brandenkim/miniconda3/envs/ml_env/lib/python3.9/site-packages/sklearn/neural_network/_multilayer_perceptron.py:691: ConvergenceWarning: Stochastic Optimizer: Maximum iterations (1) reached and the optimization hasn't converged yet.\n",
      "  warnings.warn(\n"
     ]
    },
    {
     "name": "stdout",
     "output_type": "stream",
     "text": [
      "=============================================\n",
      "Run for 22 epoch\n",
      "Training Score: 0.568612328006417\n",
      "Validation Score: 0.549111549851925\n",
      "Training Loss Score: 1.128594649113941\n",
      "Validation Loss Score: 1.181394549625276\n",
      "=============================================\n"
     ]
    },
    {
     "name": "stderr",
     "output_type": "stream",
     "text": [
      "/Users/brandenkim/miniconda3/envs/ml_env/lib/python3.9/site-packages/sklearn/neural_network/_multilayer_perceptron.py:691: ConvergenceWarning: Stochastic Optimizer: Maximum iterations (1) reached and the optimization hasn't converged yet.\n",
      "  warnings.warn(\n"
     ]
    },
    {
     "name": "stdout",
     "output_type": "stream",
     "text": [
      "=============================================\n",
      "Run for 23 epoch\n",
      "Training Score: 0.5694144505460603\n",
      "Validation Score: 0.5493583415597236\n",
      "Training Loss Score: 1.1263662955067735\n",
      "Validation Loss Score: 1.1795469198181976\n",
      "=============================================\n"
     ]
    },
    {
     "name": "stderr",
     "output_type": "stream",
     "text": [
      "/Users/brandenkim/miniconda3/envs/ml_env/lib/python3.9/site-packages/sklearn/neural_network/_multilayer_perceptron.py:691: ConvergenceWarning: Stochastic Optimizer: Maximum iterations (1) reached and the optimization hasn't converged yet.\n",
      "  warnings.warn(\n"
     ]
    },
    {
     "name": "stdout",
     "output_type": "stream",
     "text": [
      "=============================================\n",
      "Run for 24 epoch\n",
      "Training Score: 0.5696612574813352\n",
      "Validation Score: 0.5515794669299111\n",
      "Training Loss Score: 1.1241585175488429\n",
      "Validation Loss Score: 1.1776340143687967\n",
      "=============================================\n"
     ]
    },
    {
     "name": "stderr",
     "output_type": "stream",
     "text": [
      "/Users/brandenkim/miniconda3/envs/ml_env/lib/python3.9/site-packages/sklearn/neural_network/_multilayer_perceptron.py:691: ConvergenceWarning: Stochastic Optimizer: Maximum iterations (1) reached and the optimization hasn't converged yet.\n",
      "  warnings.warn(\n"
     ]
    },
    {
     "name": "stdout",
     "output_type": "stream",
     "text": [
      "=============================================\n",
      "Run for 25 epoch\n",
      "Training Score: 0.5699697661504288\n",
      "Validation Score: 0.5530602171767028\n",
      "Training Loss Score: 1.1221135143688288\n",
      "Validation Loss Score: 1.1757367253719853\n",
      "=============================================\n"
     ]
    },
    {
     "name": "stderr",
     "output_type": "stream",
     "text": [
      "/Users/brandenkim/miniconda3/envs/ml_env/lib/python3.9/site-packages/sklearn/neural_network/_multilayer_perceptron.py:691: ConvergenceWarning: Stochastic Optimizer: Maximum iterations (1) reached and the optimization hasn't converged yet.\n",
      "  warnings.warn(\n"
     ]
    },
    {
     "name": "stdout",
     "output_type": "stream",
     "text": [
      "=============================================\n",
      "Run for 26 epoch\n",
      "Training Score: 0.5706793360893441\n",
      "Validation Score: 0.5529368213228035\n",
      "Training Loss Score: 1.1201028790366743\n",
      "Validation Loss Score: 1.1739756140261226\n",
      "=============================================\n"
     ]
    },
    {
     "name": "stderr",
     "output_type": "stream",
     "text": [
      "/Users/brandenkim/miniconda3/envs/ml_env/lib/python3.9/site-packages/sklearn/neural_network/_multilayer_perceptron.py:691: ConvergenceWarning: Stochastic Optimizer: Maximum iterations (1) reached and the optimization hasn't converged yet.\n",
      "  warnings.warn(\n"
     ]
    },
    {
     "name": "stdout",
     "output_type": "stream",
     "text": [
      "=============================================\n",
      "Run for 27 epoch\n",
      "Training Score: 0.5711112482260752\n",
      "Validation Score: 0.5525666337611056\n",
      "Training Loss Score: 1.1182489261553576\n",
      "Validation Loss Score: 1.1723960278668761\n",
      "=============================================\n"
     ]
    },
    {
     "name": "stderr",
     "output_type": "stream",
     "text": [
      "/Users/brandenkim/miniconda3/envs/ml_env/lib/python3.9/site-packages/sklearn/neural_network/_multilayer_perceptron.py:691: ConvergenceWarning: Stochastic Optimizer: Maximum iterations (1) reached and the optimization hasn't converged yet.\n",
      "  warnings.warn(\n"
     ]
    },
    {
     "name": "stdout",
     "output_type": "stream",
     "text": [
      "=============================================\n",
      "Run for 28 epoch\n",
      "Training Score: 0.5716357129635343\n",
      "Validation Score: 0.5528134254689042\n",
      "Training Loss Score: 1.1165767806457345\n",
      "Validation Loss Score: 1.1711063843828782\n",
      "=============================================\n"
     ]
    },
    {
     "name": "stderr",
     "output_type": "stream",
     "text": [
      "/Users/brandenkim/miniconda3/envs/ml_env/lib/python3.9/site-packages/sklearn/neural_network/_multilayer_perceptron.py:691: ConvergenceWarning: Stochastic Optimizer: Maximum iterations (1) reached and the optimization hasn't converged yet.\n",
      "  warnings.warn(\n"
     ]
    },
    {
     "name": "stdout",
     "output_type": "stream",
     "text": [
      "=============================================\n",
      "Run for 29 epoch\n",
      "Training Score: 0.5724069846362683\n",
      "Validation Score: 0.5538005923000987\n",
      "Training Loss Score: 1.1147572916550292\n",
      "Validation Loss Score: 1.1696011369226689\n",
      "=============================================\n"
     ]
    },
    {
     "name": "stderr",
     "output_type": "stream",
     "text": [
      "/Users/brandenkim/miniconda3/envs/ml_env/lib/python3.9/site-packages/sklearn/neural_network/_multilayer_perceptron.py:691: ConvergenceWarning: Stochastic Optimizer: Maximum iterations (1) reached and the optimization hasn't converged yet.\n",
      "  warnings.warn(\n"
     ]
    },
    {
     "name": "stdout",
     "output_type": "stream",
     "text": [
      "=============================================\n",
      "Run for 30 epoch\n",
      "Training Score: 0.5726537915715432\n",
      "Validation Score: 0.5536771964461994\n",
      "Training Loss Score: 1.1131428323845391\n",
      "Validation Loss Score: 1.1684159961750484\n",
      "=============================================\n"
     ]
    },
    {
     "name": "stderr",
     "output_type": "stream",
     "text": [
      "/Users/brandenkim/miniconda3/envs/ml_env/lib/python3.9/site-packages/sklearn/neural_network/_multilayer_perceptron.py:691: ConvergenceWarning: Stochastic Optimizer: Maximum iterations (1) reached and the optimization hasn't converged yet.\n",
      "  warnings.warn(\n"
     ]
    },
    {
     "name": "stdout",
     "output_type": "stream",
     "text": [
      "=============================================\n",
      "Run for 31 epoch\n",
      "Training Score: 0.573579317578824\n",
      "Validation Score: 0.555528134254689\n",
      "Training Loss Score: 1.1115763024064038\n",
      "Validation Loss Score: 1.1672701532072698\n",
      "=============================================\n"
     ]
    },
    {
     "name": "stderr",
     "output_type": "stream",
     "text": [
      "/Users/brandenkim/miniconda3/envs/ml_env/lib/python3.9/site-packages/sklearn/neural_network/_multilayer_perceptron.py:691: ConvergenceWarning: Stochastic Optimizer: Maximum iterations (1) reached and the optimization hasn't converged yet.\n",
      "  warnings.warn(\n"
     ]
    },
    {
     "name": "stdout",
     "output_type": "stream",
     "text": [
      "=============================================\n",
      "Run for 32 epoch\n",
      "Training Score: 0.5741346331831925\n",
      "Validation Score: 0.5550345508390918\n",
      "Training Loss Score: 1.1099225048430892\n",
      "Validation Loss Score: 1.16599466080661\n",
      "=============================================\n"
     ]
    },
    {
     "name": "stderr",
     "output_type": "stream",
     "text": [
      "/Users/brandenkim/miniconda3/envs/ml_env/lib/python3.9/site-packages/sklearn/neural_network/_multilayer_perceptron.py:691: ConvergenceWarning: Stochastic Optimizer: Maximum iterations (1) reached and the optimization hasn't converged yet.\n",
      "  warnings.warn(\n"
     ]
    },
    {
     "name": "stdout",
     "output_type": "stream",
     "text": [
      "=============================================\n",
      "Run for 33 epoch\n",
      "Training Score: 0.5746590979206516\n",
      "Validation Score: 0.5551579466929911\n",
      "Training Loss Score: 1.1083683837065552\n",
      "Validation Loss Score: 1.1648292944304988\n",
      "=============================================\n"
     ]
    },
    {
     "name": "stderr",
     "output_type": "stream",
     "text": [
      "/Users/brandenkim/miniconda3/envs/ml_env/lib/python3.9/site-packages/sklearn/neural_network/_multilayer_perceptron.py:691: ConvergenceWarning: Stochastic Optimizer: Maximum iterations (1) reached and the optimization hasn't converged yet.\n",
      "  warnings.warn(\n"
     ]
    },
    {
     "name": "stdout",
     "output_type": "stream",
     "text": [
      "=============================================\n",
      "Run for 34 epoch\n",
      "Training Score: 0.5749984574566546\n",
      "Validation Score: 0.5551579466929911\n",
      "Training Loss Score: 1.1069709805926937\n",
      "Validation Loss Score: 1.1638235390817984\n",
      "=============================================\n"
     ]
    },
    {
     "name": "stderr",
     "output_type": "stream",
     "text": [
      "/Users/brandenkim/miniconda3/envs/ml_env/lib/python3.9/site-packages/sklearn/neural_network/_multilayer_perceptron.py:691: ConvergenceWarning: Stochastic Optimizer: Maximum iterations (1) reached and the optimization hasn't converged yet.\n",
      "  warnings.warn(\n"
     ]
    },
    {
     "name": "stdout",
     "output_type": "stream",
     "text": [
      "=============================================\n",
      "Run for 35 epoch\n",
      "Training Score: 0.5756154747948418\n",
      "Validation Score: 0.5552813425468904\n",
      "Training Loss Score: 1.1055277086546638\n",
      "Validation Loss Score: 1.1627899347898174\n",
      "=============================================\n"
     ]
    },
    {
     "name": "stderr",
     "output_type": "stream",
     "text": [
      "/Users/brandenkim/miniconda3/envs/ml_env/lib/python3.9/site-packages/sklearn/neural_network/_multilayer_perceptron.py:691: ConvergenceWarning: Stochastic Optimizer: Maximum iterations (1) reached and the optimization hasn't converged yet.\n",
      "  warnings.warn(\n"
     ]
    },
    {
     "name": "stdout",
     "output_type": "stream",
     "text": [
      "=============================================\n",
      "Run for 36 epoch\n",
      "Training Score: 0.5769112112050349\n",
      "Validation Score: 0.555898321816387\n",
      "Training Loss Score: 1.1041937840523417\n",
      "Validation Loss Score: 1.1619744337661526\n",
      "=============================================\n"
     ]
    },
    {
     "name": "stderr",
     "output_type": "stream",
     "text": [
      "/Users/brandenkim/miniconda3/envs/ml_env/lib/python3.9/site-packages/sklearn/neural_network/_multilayer_perceptron.py:691: ConvergenceWarning: Stochastic Optimizer: Maximum iterations (1) reached and the optimization hasn't converged yet.\n",
      "  warnings.warn(\n"
     ]
    },
    {
     "name": "stdout",
     "output_type": "stream",
     "text": [
      "=============================================\n",
      "Run for 37 epoch\n",
      "Training Score: 0.577435675942494\n",
      "Validation Score: 0.5557749259624877\n",
      "Training Loss Score: 1.1028050253920114\n",
      "Validation Loss Score: 1.1608620345689382\n",
      "=============================================\n"
     ]
    },
    {
     "name": "stderr",
     "output_type": "stream",
     "text": [
      "/Users/brandenkim/miniconda3/envs/ml_env/lib/python3.9/site-packages/sklearn/neural_network/_multilayer_perceptron.py:691: ConvergenceWarning: Stochastic Optimizer: Maximum iterations (1) reached and the optimization hasn't converged yet.\n",
      "  warnings.warn(\n"
     ]
    },
    {
     "name": "stdout",
     "output_type": "stream",
     "text": [
      "=============================================\n",
      "Run for 38 epoch\n",
      "Training Score: 0.5776824828777689\n",
      "Validation Score: 0.5557749259624877\n",
      "Training Loss Score: 1.1014516356227326\n",
      "Validation Loss Score: 1.1598182275468025\n",
      "=============================================\n"
     ]
    },
    {
     "name": "stderr",
     "output_type": "stream",
     "text": [
      "/Users/brandenkim/miniconda3/envs/ml_env/lib/python3.9/site-packages/sklearn/neural_network/_multilayer_perceptron.py:691: ConvergenceWarning: Stochastic Optimizer: Maximum iterations (1) reached and the optimization hasn't converged yet.\n",
      "  warnings.warn(\n"
     ]
    },
    {
     "name": "stdout",
     "output_type": "stream",
     "text": [
      "=============================================\n",
      "Run for 39 epoch\n",
      "Training Score: 0.5781760967483186\n",
      "Validation Score: 0.5554047384007897\n",
      "Training Loss Score: 1.1001922601452345\n",
      "Validation Loss Score: 1.1587029857157163\n",
      "=============================================\n"
     ]
    },
    {
     "name": "stderr",
     "output_type": "stream",
     "text": [
      "/Users/brandenkim/miniconda3/envs/ml_env/lib/python3.9/site-packages/sklearn/neural_network/_multilayer_perceptron.py:691: ConvergenceWarning: Stochastic Optimizer: Maximum iterations (1) reached and the optimization hasn't converged yet.\n",
      "  warnings.warn(\n"
     ]
    },
    {
     "name": "stdout",
     "output_type": "stream",
     "text": [
      "=============================================\n",
      "Run for 40 epoch\n",
      "Training Score: 0.5783920528166842\n",
      "Validation Score: 0.5561451135241856\n",
      "Training Loss Score: 1.098976971038272\n",
      "Validation Loss Score: 1.1577168103840503\n",
      "=============================================\n"
     ]
    },
    {
     "name": "stderr",
     "output_type": "stream",
     "text": [
      "/Users/brandenkim/miniconda3/envs/ml_env/lib/python3.9/site-packages/sklearn/neural_network/_multilayer_perceptron.py:691: ConvergenceWarning: Stochastic Optimizer: Maximum iterations (1) reached and the optimization hasn't converged yet.\n",
      "  warnings.warn(\n"
     ]
    },
    {
     "name": "stdout",
     "output_type": "stream",
     "text": [
      "=============================================\n",
      "Run for 41 epoch\n",
      "Training Score: 0.5788548158203245\n",
      "Validation Score: 0.5566386969397829\n",
      "Training Loss Score: 1.0978829831785932\n",
      "Validation Loss Score: 1.1569918296084145\n",
      "=============================================\n"
     ]
    },
    {
     "name": "stderr",
     "output_type": "stream",
     "text": [
      "/Users/brandenkim/miniconda3/envs/ml_env/lib/python3.9/site-packages/sklearn/neural_network/_multilayer_perceptron.py:691: ConvergenceWarning: Stochastic Optimizer: Maximum iterations (1) reached and the optimization hasn't converged yet.\n",
      "  warnings.warn(\n"
     ]
    },
    {
     "name": "stdout",
     "output_type": "stream",
     "text": [
      "=============================================\n",
      "Run for 42 epoch\n",
      "Training Score: 0.5795335348923305\n",
      "Validation Score: 0.5560217176702863\n",
      "Training Loss Score: 1.0967545513116521\n",
      "Validation Loss Score: 1.156134751241388\n",
      "=============================================\n"
     ]
    },
    {
     "name": "stderr",
     "output_type": "stream",
     "text": [
      "/Users/brandenkim/miniconda3/envs/ml_env/lib/python3.9/site-packages/sklearn/neural_network/_multilayer_perceptron.py:691: ConvergenceWarning: Stochastic Optimizer: Maximum iterations (1) reached and the optimization hasn't converged yet.\n",
      "  warnings.warn(\n"
     ]
    },
    {
     "name": "stdout",
     "output_type": "stream",
     "text": [
      "=============================================\n",
      "Run for 43 epoch\n",
      "Training Score: 0.5792558770901463\n",
      "Validation Score: 0.555898321816387\n",
      "Training Loss Score: 1.0956236042130953\n",
      "Validation Loss Score: 1.1552188343442602\n",
      "=============================================\n"
     ]
    },
    {
     "name": "stderr",
     "output_type": "stream",
     "text": [
      "/Users/brandenkim/miniconda3/envs/ml_env/lib/python3.9/site-packages/sklearn/neural_network/_multilayer_perceptron.py:691: ConvergenceWarning: Stochastic Optimizer: Maximum iterations (1) reached and the optimization hasn't converged yet.\n",
      "  warnings.warn(\n"
     ]
    },
    {
     "name": "stdout",
     "output_type": "stream",
     "text": [
      "=============================================\n",
      "Run for 44 epoch\n",
      "Training Score: 0.5798111926945148\n",
      "Validation Score: 0.5557749259624877\n",
      "Training Loss Score: 1.0946273094998973\n",
      "Validation Loss Score: 1.1543934894654757\n",
      "=============================================\n"
     ]
    },
    {
     "name": "stderr",
     "output_type": "stream",
     "text": [
      "/Users/brandenkim/miniconda3/envs/ml_env/lib/python3.9/site-packages/sklearn/neural_network/_multilayer_perceptron.py:691: ConvergenceWarning: Stochastic Optimizer: Maximum iterations (1) reached and the optimization hasn't converged yet.\n",
      "  warnings.warn(\n"
     ]
    },
    {
     "name": "stdout",
     "output_type": "stream",
     "text": [
      "=============================================\n",
      "Run for 45 epoch\n",
      "Training Score: 0.5795952366261492\n",
      "Validation Score: 0.555898321816387\n",
      "Training Loss Score: 1.0935841150845806\n",
      "Validation Loss Score: 1.153479502972707\n",
      "=============================================\n"
     ]
    },
    {
     "name": "stderr",
     "output_type": "stream",
     "text": [
      "/Users/brandenkim/miniconda3/envs/ml_env/lib/python3.9/site-packages/sklearn/neural_network/_multilayer_perceptron.py:691: ConvergenceWarning: Stochastic Optimizer: Maximum iterations (1) reached and the optimization hasn't converged yet.\n",
      "  warnings.warn(\n"
     ]
    },
    {
     "name": "stdout",
     "output_type": "stream",
     "text": [
      "=============================================\n",
      "Run for 46 epoch\n",
      "Training Score: 0.5796877892268772\n",
      "Validation Score: 0.5557749259624877\n",
      "Training Loss Score: 1.0925080803631473\n",
      "Validation Loss Score: 1.1526483583918445\n",
      "=============================================\n"
     ]
    },
    {
     "name": "stderr",
     "output_type": "stream",
     "text": [
      "/Users/brandenkim/miniconda3/envs/ml_env/lib/python3.9/site-packages/sklearn/neural_network/_multilayer_perceptron.py:691: ConvergenceWarning: Stochastic Optimizer: Maximum iterations (1) reached and the optimization hasn't converged yet.\n",
      "  warnings.warn(\n"
     ]
    },
    {
     "name": "stdout",
     "output_type": "stream",
     "text": [
      "=============================================\n",
      "Run for 47 epoch\n",
      "Training Score: 0.5802739556981551\n",
      "Validation Score: 0.5568854886475815\n",
      "Training Loss Score: 1.0915656916845473\n",
      "Validation Loss Score: 1.151750622484717\n",
      "=============================================\n"
     ]
    },
    {
     "name": "stderr",
     "output_type": "stream",
     "text": [
      "/Users/brandenkim/miniconda3/envs/ml_env/lib/python3.9/site-packages/sklearn/neural_network/_multilayer_perceptron.py:691: ConvergenceWarning: Stochastic Optimizer: Maximum iterations (1) reached and the optimization hasn't converged yet.\n",
      "  warnings.warn(\n"
     ]
    },
    {
     "name": "stdout",
     "output_type": "stream",
     "text": [
      "=============================================\n",
      "Run for 48 epoch\n",
      "Training Score: 0.5806750169679769\n",
      "Validation Score: 0.557502467917078\n",
      "Training Loss Score: 1.0906533485185088\n",
      "Validation Loss Score: 1.1508238553420531\n",
      "=============================================\n"
     ]
    },
    {
     "name": "stderr",
     "output_type": "stream",
     "text": [
      "/Users/brandenkim/miniconda3/envs/ml_env/lib/python3.9/site-packages/sklearn/neural_network/_multilayer_perceptron.py:691: ConvergenceWarning: Stochastic Optimizer: Maximum iterations (1) reached and the optimization hasn't converged yet.\n",
      "  warnings.warn(\n"
     ]
    },
    {
     "name": "stdout",
     "output_type": "stream",
     "text": [
      "=============================================\n",
      "Run for 49 epoch\n",
      "Training Score: 0.5810760782377985\n",
      "Validation Score: 0.5576258637709773\n",
      "Training Loss Score: 1.0897249130620237\n",
      "Validation Loss Score: 1.1500197973878372\n",
      "=============================================\n"
     ]
    },
    {
     "name": "stderr",
     "output_type": "stream",
     "text": [
      "/Users/brandenkim/miniconda3/envs/ml_env/lib/python3.9/site-packages/sklearn/neural_network/_multilayer_perceptron.py:691: ConvergenceWarning: Stochastic Optimizer: Maximum iterations (1) reached and the optimization hasn't converged yet.\n",
      "  warnings.warn(\n"
     ]
    },
    {
     "name": "stdout",
     "output_type": "stream",
     "text": [
      "=============================================\n",
      "Run for 50 epoch\n",
      "Training Score: 0.5810143765039798\n",
      "Validation Score: 0.5579960513326753\n",
      "Training Loss Score: 1.088897668023509\n",
      "Validation Loss Score: 1.149157449324381\n",
      "=============================================\n"
     ]
    },
    {
     "name": "stderr",
     "output_type": "stream",
     "text": [
      "/Users/brandenkim/miniconda3/envs/ml_env/lib/python3.9/site-packages/sklearn/neural_network/_multilayer_perceptron.py:691: ConvergenceWarning: Stochastic Optimizer: Maximum iterations (1) reached and the optimization hasn't converged yet.\n",
      "  warnings.warn(\n"
     ]
    },
    {
     "name": "stdout",
     "output_type": "stream",
     "text": [
      "=============================================\n",
      "Run for 51 epoch\n",
      "Training Score: 0.5812303325723452\n",
      "Validation Score: 0.5586130306021717\n",
      "Training Loss Score: 1.0881897454040204\n",
      "Validation Loss Score: 1.1483958089556894\n",
      "=============================================\n"
     ]
    },
    {
     "name": "stderr",
     "output_type": "stream",
     "text": [
      "/Users/brandenkim/miniconda3/envs/ml_env/lib/python3.9/site-packages/sklearn/neural_network/_multilayer_perceptron.py:691: ConvergenceWarning: Stochastic Optimizer: Maximum iterations (1) reached and the optimization hasn't converged yet.\n",
      "  warnings.warn(\n"
     ]
    },
    {
     "name": "stdout",
     "output_type": "stream",
     "text": [
      "=============================================\n",
      "Run for 52 epoch\n",
      "Training Score: 0.5812303325723452\n",
      "Validation Score: 0.5599703849950641\n",
      "Training Loss Score: 1.0874450879737685\n",
      "Validation Loss Score: 1.1475155999539104\n",
      "=============================================\n"
     ]
    },
    {
     "name": "stderr",
     "output_type": "stream",
     "text": [
      "/Users/brandenkim/miniconda3/envs/ml_env/lib/python3.9/site-packages/sklearn/neural_network/_multilayer_perceptron.py:691: ConvergenceWarning: Stochastic Optimizer: Maximum iterations (1) reached and the optimization hasn't converged yet.\n",
      "  warnings.warn(\n"
     ]
    },
    {
     "name": "stdout",
     "output_type": "stream",
     "text": [
      "=============================================\n",
      "Run for 53 epoch\n",
      "Training Score: 0.5809835256370705\n",
      "Validation Score: 0.5602171767028628\n",
      "Training Loss Score: 1.0867462060573299\n",
      "Validation Loss Score: 1.1468550373435429\n",
      "=============================================\n"
     ]
    },
    {
     "name": "stderr",
     "output_type": "stream",
     "text": [
      "/Users/brandenkim/miniconda3/envs/ml_env/lib/python3.9/site-packages/sklearn/neural_network/_multilayer_perceptron.py:691: ConvergenceWarning: Stochastic Optimizer: Maximum iterations (1) reached and the optimization hasn't converged yet.\n",
      "  warnings.warn(\n"
     ]
    },
    {
     "name": "stdout",
     "output_type": "stream",
     "text": [
      "=============================================\n",
      "Run for 54 epoch\n",
      "Training Score: 0.5814771395076201\n",
      "Validation Score: 0.5613277393879565\n",
      "Training Loss Score: 1.0860111480978059\n",
      "Validation Loss Score: 1.146227390620133\n",
      "=============================================\n"
     ]
    },
    {
     "name": "stderr",
     "output_type": "stream",
     "text": [
      "/Users/brandenkim/miniconda3/envs/ml_env/lib/python3.9/site-packages/sklearn/neural_network/_multilayer_perceptron.py:691: ConvergenceWarning: Stochastic Optimizer: Maximum iterations (1) reached and the optimization hasn't converged yet.\n",
      "  warnings.warn(\n"
     ]
    },
    {
     "name": "stdout",
     "output_type": "stream",
     "text": [
      "=============================================\n",
      "Run for 55 epoch\n",
      "Training Score: 0.581631393842167\n",
      "Validation Score: 0.5612043435340572\n",
      "Training Loss Score: 1.0853078607614748\n",
      "Validation Loss Score: 1.1455297786210703\n",
      "=============================================\n"
     ]
    },
    {
     "name": "stderr",
     "output_type": "stream",
     "text": [
      "/Users/brandenkim/miniconda3/envs/ml_env/lib/python3.9/site-packages/sklearn/neural_network/_multilayer_perceptron.py:691: ConvergenceWarning: Stochastic Optimizer: Maximum iterations (1) reached and the optimization hasn't converged yet.\n",
      "  warnings.warn(\n"
     ]
    },
    {
     "name": "stdout",
     "output_type": "stream",
     "text": [
      "=============================================\n",
      "Run for 56 epoch\n",
      "Training Score: 0.5820941568458073\n",
      "Validation Score: 0.5604639684106614\n",
      "Training Loss Score: 1.0844922696356623\n",
      "Validation Loss Score: 1.1445952897853426\n",
      "=============================================\n"
     ]
    },
    {
     "name": "stderr",
     "output_type": "stream",
     "text": [
      "/Users/brandenkim/miniconda3/envs/ml_env/lib/python3.9/site-packages/sklearn/neural_network/_multilayer_perceptron.py:691: ConvergenceWarning: Stochastic Optimizer: Maximum iterations (1) reached and the optimization hasn't converged yet.\n",
      "  warnings.warn(\n"
     ]
    },
    {
     "name": "stdout",
     "output_type": "stream",
     "text": [
      "=============================================\n",
      "Run for 57 epoch\n",
      "Training Score: 0.5824952181156291\n",
      "Validation Score: 0.5613277393879565\n",
      "Training Loss Score: 1.0838019257584224\n",
      "Validation Loss Score: 1.1440471190514525\n",
      "=============================================\n"
     ]
    },
    {
     "name": "stderr",
     "output_type": "stream",
     "text": [
      "/Users/brandenkim/miniconda3/envs/ml_env/lib/python3.9/site-packages/sklearn/neural_network/_multilayer_perceptron.py:691: ConvergenceWarning: Stochastic Optimizer: Maximum iterations (1) reached and the optimization hasn't converged yet.\n",
      "  warnings.warn(\n"
     ]
    },
    {
     "name": "stdout",
     "output_type": "stream",
     "text": [
      "=============================================\n",
      "Run for 58 epoch\n",
      "Training Score: 0.5828962793854507\n",
      "Validation Score: 0.5615745310957552\n",
      "Training Loss Score: 1.0829785316354197\n",
      "Validation Loss Score: 1.1431648660513902\n",
      "=============================================\n"
     ]
    },
    {
     "name": "stderr",
     "output_type": "stream",
     "text": [
      "/Users/brandenkim/miniconda3/envs/ml_env/lib/python3.9/site-packages/sklearn/neural_network/_multilayer_perceptron.py:691: ConvergenceWarning: Stochastic Optimizer: Maximum iterations (1) reached and the optimization hasn't converged yet.\n",
      "  warnings.warn(\n"
     ]
    },
    {
     "name": "stdout",
     "output_type": "stream",
     "text": [
      "=============================================\n",
      "Run for 59 epoch\n",
      "Training Score: 0.5828037267847227\n",
      "Validation Score: 0.5609575518262586\n",
      "Training Loss Score: 1.0821848686911026\n",
      "Validation Loss Score: 1.1423801121915458\n",
      "=============================================\n"
     ]
    },
    {
     "name": "stderr",
     "output_type": "stream",
     "text": [
      "/Users/brandenkim/miniconda3/envs/ml_env/lib/python3.9/site-packages/sklearn/neural_network/_multilayer_perceptron.py:691: ConvergenceWarning: Stochastic Optimizer: Maximum iterations (1) reached and the optimization hasn't converged yet.\n",
      "  warnings.warn(\n"
     ]
    },
    {
     "name": "stdout",
     "output_type": "stream",
     "text": [
      "=============================================\n",
      "Run for 60 epoch\n",
      "Training Score: 0.5825569198494478\n",
      "Validation Score: 0.5615745310957552\n",
      "Training Loss Score: 1.0816211139296061\n",
      "Validation Loss Score: 1.1417468913169715\n",
      "=============================================\n"
     ]
    },
    {
     "name": "stderr",
     "output_type": "stream",
     "text": [
      "/Users/brandenkim/miniconda3/envs/ml_env/lib/python3.9/site-packages/sklearn/neural_network/_multilayer_perceptron.py:691: ConvergenceWarning: Stochastic Optimizer: Maximum iterations (1) reached and the optimization hasn't converged yet.\n",
      "  warnings.warn(\n"
     ]
    },
    {
     "name": "stdout",
     "output_type": "stream",
     "text": [
      "=============================================\n",
      "Run for 61 epoch\n",
      "Training Score: 0.5830505337199975\n",
      "Validation Score: 0.562314906219151\n",
      "Training Loss Score: 1.080928013640307\n",
      "Validation Loss Score: 1.1409858223927263\n",
      "=============================================\n"
     ]
    },
    {
     "name": "stderr",
     "output_type": "stream",
     "text": [
      "/Users/brandenkim/miniconda3/envs/ml_env/lib/python3.9/site-packages/sklearn/neural_network/_multilayer_perceptron.py:691: ConvergenceWarning: Stochastic Optimizer: Maximum iterations (1) reached and the optimization hasn't converged yet.\n",
      "  warnings.warn(\n"
     ]
    },
    {
     "name": "stdout",
     "output_type": "stream",
     "text": [
      "=============================================\n",
      "Run for 62 epoch\n",
      "Training Score: 0.5835749984574566\n",
      "Validation Score: 0.5630552813425469\n",
      "Training Loss Score: 1.0801533513341417\n",
      "Validation Loss Score: 1.1402173657256893\n",
      "=============================================\n"
     ]
    },
    {
     "name": "stderr",
     "output_type": "stream",
     "text": [
      "/Users/brandenkim/miniconda3/envs/ml_env/lib/python3.9/site-packages/sklearn/neural_network/_multilayer_perceptron.py:691: ConvergenceWarning: Stochastic Optimizer: Maximum iterations (1) reached and the optimization hasn't converged yet.\n",
      "  warnings.warn(\n"
     ]
    },
    {
     "name": "stdout",
     "output_type": "stream",
     "text": [
      "=============================================\n",
      "Run for 63 epoch\n",
      "Training Score: 0.5832047880545443\n",
      "Validation Score: 0.5647828232971372\n",
      "Training Loss Score: 1.0795321320874223\n",
      "Validation Loss Score: 1.1395126782400853\n",
      "=============================================\n"
     ]
    },
    {
     "name": "stderr",
     "output_type": "stream",
     "text": [
      "/Users/brandenkim/miniconda3/envs/ml_env/lib/python3.9/site-packages/sklearn/neural_network/_multilayer_perceptron.py:691: ConvergenceWarning: Stochastic Optimizer: Maximum iterations (1) reached and the optimization hasn't converged yet.\n",
      "  warnings.warn(\n"
     ]
    },
    {
     "name": "stdout",
     "output_type": "stream",
     "text": [
      "=============================================\n",
      "Run for 64 epoch\n",
      "Training Score: 0.5834515949898192\n",
      "Validation Score: 0.5645360315893386\n",
      "Training Loss Score: 1.0788575234281057\n",
      "Validation Loss Score: 1.138961729667531\n",
      "=============================================\n"
     ]
    },
    {
     "name": "stderr",
     "output_type": "stream",
     "text": [
      "/Users/brandenkim/miniconda3/envs/ml_env/lib/python3.9/site-packages/sklearn/neural_network/_multilayer_perceptron.py:691: ConvergenceWarning: Stochastic Optimizer: Maximum iterations (1) reached and the optimization hasn't converged yet.\n",
      "  warnings.warn(\n"
     ]
    },
    {
     "name": "stdout",
     "output_type": "stream",
     "text": [
      "=============================================\n",
      "Run for 65 epoch\n",
      "Training Score: 0.5840069105941877\n",
      "Validation Score: 0.5644126357354393\n",
      "Training Loss Score: 1.0782641441572818\n",
      "Validation Loss Score: 1.1383578620459471\n",
      "=============================================\n"
     ]
    },
    {
     "name": "stderr",
     "output_type": "stream",
     "text": [
      "/Users/brandenkim/miniconda3/envs/ml_env/lib/python3.9/site-packages/sklearn/neural_network/_multilayer_perceptron.py:691: ConvergenceWarning: Stochastic Optimizer: Maximum iterations (1) reached and the optimization hasn't converged yet.\n",
      "  warnings.warn(\n"
     ]
    },
    {
     "name": "stdout",
     "output_type": "stream",
     "text": [
      "=============================================\n",
      "Run for 66 epoch\n",
      "Training Score: 0.5846239279323749\n",
      "Validation Score: 0.5641658440276407\n",
      "Training Loss Score: 1.077692382684171\n",
      "Validation Loss Score: 1.1378511063191374\n",
      "=============================================\n"
     ]
    },
    {
     "name": "stderr",
     "output_type": "stream",
     "text": [
      "/Users/brandenkim/miniconda3/envs/ml_env/lib/python3.9/site-packages/sklearn/neural_network/_multilayer_perceptron.py:691: ConvergenceWarning: Stochastic Optimizer: Maximum iterations (1) reached and the optimization hasn't converged yet.\n",
      "  warnings.warn(\n"
     ]
    },
    {
     "name": "stdout",
     "output_type": "stream",
     "text": [
      "=============================================\n",
      "Run for 67 epoch\n",
      "Training Score: 0.5847473314000123\n",
      "Validation Score: 0.5647828232971372\n",
      "Training Loss Score: 1.0770324222928163\n",
      "Validation Loss Score: 1.1372041158777648\n",
      "=============================================\n"
     ]
    },
    {
     "name": "stderr",
     "output_type": "stream",
     "text": [
      "/Users/brandenkim/miniconda3/envs/ml_env/lib/python3.9/site-packages/sklearn/neural_network/_multilayer_perceptron.py:691: ConvergenceWarning: Stochastic Optimizer: Maximum iterations (1) reached and the optimization hasn't converged yet.\n",
      "  warnings.warn(\n"
     ]
    },
    {
     "name": "stdout",
     "output_type": "stream",
     "text": [
      "=============================================\n",
      "Run for 68 epoch\n",
      "Training Score: 0.584716480533103\n",
      "Validation Score: 0.5649062191510366\n",
      "Training Loss Score: 1.076463004206965\n",
      "Validation Loss Score: 1.13667161263955\n",
      "=============================================\n"
     ]
    },
    {
     "name": "stderr",
     "output_type": "stream",
     "text": [
      "/Users/brandenkim/miniconda3/envs/ml_env/lib/python3.9/site-packages/sklearn/neural_network/_multilayer_perceptron.py:691: ConvergenceWarning: Stochastic Optimizer: Maximum iterations (1) reached and the optimization hasn't converged yet.\n",
      "  warnings.warn(\n"
     ]
    },
    {
     "name": "stdout",
     "output_type": "stream",
     "text": [
      "=============================================\n",
      "Run for 69 epoch\n",
      "Training Score: 0.5851792435367433\n",
      "Validation Score: 0.5645360315893386\n",
      "Training Loss Score: 1.0759829488041615\n",
      "Validation Loss Score: 1.1362708351667197\n",
      "=============================================\n"
     ]
    },
    {
     "name": "stderr",
     "output_type": "stream",
     "text": [
      "/Users/brandenkim/miniconda3/envs/ml_env/lib/python3.9/site-packages/sklearn/neural_network/_multilayer_perceptron.py:691: ConvergenceWarning: Stochastic Optimizer: Maximum iterations (1) reached and the optimization hasn't converged yet.\n",
      "  warnings.warn(\n"
     ]
    },
    {
     "name": "stdout",
     "output_type": "stream",
     "text": [
      "=============================================\n",
      "Run for 70 epoch\n",
      "Training Score: 0.5851175418029246\n",
      "Validation Score: 0.5640424481737414\n",
      "Training Loss Score: 1.0754253085247807\n",
      "Validation Loss Score: 1.135758181185059\n",
      "=============================================\n"
     ]
    },
    {
     "name": "stderr",
     "output_type": "stream",
     "text": [
      "/Users/brandenkim/miniconda3/envs/ml_env/lib/python3.9/site-packages/sklearn/neural_network/_multilayer_perceptron.py:691: ConvergenceWarning: Stochastic Optimizer: Maximum iterations (1) reached and the optimization hasn't converged yet.\n",
      "  warnings.warn(\n"
     ]
    },
    {
     "name": "stdout",
     "output_type": "stream",
     "text": [
      "=============================================\n",
      "Run for 71 epoch\n",
      "Training Score: 0.5854877522058369\n",
      "Validation Score: 0.56428923988154\n",
      "Training Loss Score: 1.0748952818777113\n",
      "Validation Loss Score: 1.135248873832556\n",
      "=============================================\n"
     ]
    },
    {
     "name": "stderr",
     "output_type": "stream",
     "text": [
      "/Users/brandenkim/miniconda3/envs/ml_env/lib/python3.9/site-packages/sklearn/neural_network/_multilayer_perceptron.py:691: ConvergenceWarning: Stochastic Optimizer: Maximum iterations (1) reached and the optimization hasn't converged yet.\n",
      "  warnings.warn(\n"
     ]
    },
    {
     "name": "stdout",
     "output_type": "stream",
     "text": [
      "=============================================\n",
      "Run for 72 epoch\n",
      "Training Score: 0.5856111556734744\n",
      "Validation Score: 0.5631786771964462\n",
      "Training Loss Score: 1.0745273743573969\n",
      "Validation Loss Score: 1.1347421374623\n",
      "=============================================\n"
     ]
    },
    {
     "name": "stderr",
     "output_type": "stream",
     "text": [
      "/Users/brandenkim/miniconda3/envs/ml_env/lib/python3.9/site-packages/sklearn/neural_network/_multilayer_perceptron.py:691: ConvergenceWarning: Stochastic Optimizer: Maximum iterations (1) reached and the optimization hasn't converged yet.\n",
      "  warnings.warn(\n"
     ]
    },
    {
     "name": "stdout",
     "output_type": "stream",
     "text": [
      "=============================================\n",
      "Run for 73 epoch\n",
      "Training Score: 0.5860122169432961\n",
      "Validation Score: 0.5633020730503455\n",
      "Training Loss Score: 1.07396392149684\n",
      "Validation Loss Score: 1.134160976702797\n",
      "=============================================\n"
     ]
    },
    {
     "name": "stderr",
     "output_type": "stream",
     "text": [
      "/Users/brandenkim/miniconda3/envs/ml_env/lib/python3.9/site-packages/sklearn/neural_network/_multilayer_perceptron.py:691: ConvergenceWarning: Stochastic Optimizer: Maximum iterations (1) reached and the optimization hasn't converged yet.\n",
      "  warnings.warn(\n"
     ]
    },
    {
     "name": "stdout",
     "output_type": "stream",
     "text": [
      "=============================================\n",
      "Run for 74 epoch\n",
      "Training Score: 0.585919664342568\n",
      "Validation Score: 0.562685093780849\n",
      "Training Loss Score: 1.0734882015935971\n",
      "Validation Loss Score: 1.1335374594533594\n",
      "=============================================\n"
     ]
    },
    {
     "name": "stderr",
     "output_type": "stream",
     "text": [
      "/Users/brandenkim/miniconda3/envs/ml_env/lib/python3.9/site-packages/sklearn/neural_network/_multilayer_perceptron.py:691: ConvergenceWarning: Stochastic Optimizer: Maximum iterations (1) reached and the optimization hasn't converged yet.\n",
      "  warnings.warn(\n"
     ]
    },
    {
     "name": "stdout",
     "output_type": "stream",
     "text": [
      "=============================================\n",
      "Run for 75 epoch\n",
      "Training Score: 0.5860122169432961\n",
      "Validation Score: 0.5633020730503455\n",
      "Training Loss Score: 1.07298712894118\n",
      "Validation Loss Score: 1.1329293573216246\n",
      "=============================================\n"
     ]
    },
    {
     "name": "stderr",
     "output_type": "stream",
     "text": [
      "/Users/brandenkim/miniconda3/envs/ml_env/lib/python3.9/site-packages/sklearn/neural_network/_multilayer_perceptron.py:691: ConvergenceWarning: Stochastic Optimizer: Maximum iterations (1) reached and the optimization hasn't converged yet.\n",
      "  warnings.warn(\n"
     ]
    },
    {
     "name": "stdout",
     "output_type": "stream",
     "text": [
      "=============================================\n",
      "Run for 76 epoch\n",
      "Training Score: 0.585919664342568\n",
      "Validation Score: 0.5636722606120435\n",
      "Training Loss Score: 1.072402623071035\n",
      "Validation Loss Score: 1.1321917990970476\n",
      "=============================================\n"
     ]
    },
    {
     "name": "stderr",
     "output_type": "stream",
     "text": [
      "/Users/brandenkim/miniconda3/envs/ml_env/lib/python3.9/site-packages/sklearn/neural_network/_multilayer_perceptron.py:691: ConvergenceWarning: Stochastic Optimizer: Maximum iterations (1) reached and the optimization hasn't converged yet.\n",
      "  warnings.warn(\n"
     ]
    },
    {
     "name": "stdout",
     "output_type": "stream",
     "text": [
      "=============================================\n",
      "Run for 77 epoch\n",
      "Training Score: 0.5863207256123897\n",
      "Validation Score: 0.5644126357354393\n",
      "Training Loss Score: 1.071860572143723\n",
      "Validation Loss Score: 1.1316852134188091\n",
      "=============================================\n"
     ]
    },
    {
     "name": "stderr",
     "output_type": "stream",
     "text": [
      "/Users/brandenkim/miniconda3/envs/ml_env/lib/python3.9/site-packages/sklearn/neural_network/_multilayer_perceptron.py:691: ConvergenceWarning: Stochastic Optimizer: Maximum iterations (1) reached and the optimization hasn't converged yet.\n",
      "  warnings.warn(\n"
     ]
    },
    {
     "name": "stdout",
     "output_type": "stream",
     "text": [
      "=============================================\n",
      "Run for 78 epoch\n",
      "Training Score: 0.5861356204109336\n",
      "Validation Score: 0.56428923988154\n",
      "Training Loss Score: 1.0713081293416742\n",
      "Validation Loss Score: 1.1310853917016777\n",
      "=============================================\n"
     ]
    },
    {
     "name": "stderr",
     "output_type": "stream",
     "text": [
      "/Users/brandenkim/miniconda3/envs/ml_env/lib/python3.9/site-packages/sklearn/neural_network/_multilayer_perceptron.py:691: ConvergenceWarning: Stochastic Optimizer: Maximum iterations (1) reached and the optimization hasn't converged yet.\n",
      "  warnings.warn(\n"
     ]
    },
    {
     "name": "stdout",
     "output_type": "stream",
     "text": [
      "=============================================\n",
      "Run for 79 epoch\n",
      "Training Score: 0.5860430678102054\n",
      "Validation Score: 0.5647828232971372\n",
      "Training Loss Score: 1.0709197289583483\n",
      "Validation Loss Score: 1.1305584836573694\n",
      "=============================================\n"
     ]
    },
    {
     "name": "stderr",
     "output_type": "stream",
     "text": [
      "/Users/brandenkim/miniconda3/envs/ml_env/lib/python3.9/site-packages/sklearn/neural_network/_multilayer_perceptron.py:691: ConvergenceWarning: Stochastic Optimizer: Maximum iterations (1) reached and the optimization hasn't converged yet.\n",
      "  warnings.warn(\n"
     ]
    },
    {
     "name": "stdout",
     "output_type": "stream",
     "text": [
      "=============================================\n",
      "Run for 80 epoch\n",
      "Training Score: 0.5861973221447523\n",
      "Validation Score: 0.5656465942744324\n",
      "Training Loss Score: 1.0704516529135715\n",
      "Validation Loss Score: 1.1300275918521347\n",
      "=============================================\n"
     ]
    },
    {
     "name": "stderr",
     "output_type": "stream",
     "text": [
      "/Users/brandenkim/miniconda3/envs/ml_env/lib/python3.9/site-packages/sklearn/neural_network/_multilayer_perceptron.py:691: ConvergenceWarning: Stochastic Optimizer: Maximum iterations (1) reached and the optimization hasn't converged yet.\n",
      "  warnings.warn(\n"
     ]
    },
    {
     "name": "stdout",
     "output_type": "stream",
     "text": [
      "=============================================\n",
      "Run for 81 epoch\n",
      "Training Score: 0.5868760412167582\n",
      "Validation Score: 0.5661401776900297\n",
      "Training Loss Score: 1.0699004551899187\n",
      "Validation Loss Score: 1.1294305273938656\n",
      "=============================================\n"
     ]
    },
    {
     "name": "stderr",
     "output_type": "stream",
     "text": [
      "/Users/brandenkim/miniconda3/envs/ml_env/lib/python3.9/site-packages/sklearn/neural_network/_multilayer_perceptron.py:691: ConvergenceWarning: Stochastic Optimizer: Maximum iterations (1) reached and the optimization hasn't converged yet.\n",
      "  warnings.warn(\n"
     ]
    },
    {
     "name": "stdout",
     "output_type": "stream",
     "text": [
      "=============================================\n",
      "Run for 82 epoch\n",
      "Training Score: 0.5869377429505769\n",
      "Validation Score: 0.565893385982231\n",
      "Training Loss Score: 1.0694081219888427\n",
      "Validation Loss Score: 1.1287406940579914\n",
      "=============================================\n"
     ]
    },
    {
     "name": "stderr",
     "output_type": "stream",
     "text": [
      "/Users/brandenkim/miniconda3/envs/ml_env/lib/python3.9/site-packages/sklearn/neural_network/_multilayer_perceptron.py:691: ConvergenceWarning: Stochastic Optimizer: Maximum iterations (1) reached and the optimization hasn't converged yet.\n",
      "  warnings.warn(\n"
     ]
    },
    {
     "name": "stdout",
     "output_type": "stream",
     "text": [
      "=============================================\n",
      "Run for 83 epoch\n",
      "Training Score: 0.5870611464182144\n",
      "Validation Score: 0.566263573543929\n",
      "Training Loss Score: 1.0689725270544994\n",
      "Validation Loss Score: 1.1282771844376636\n",
      "=============================================\n"
     ]
    },
    {
     "name": "stderr",
     "output_type": "stream",
     "text": [
      "/Users/brandenkim/miniconda3/envs/ml_env/lib/python3.9/site-packages/sklearn/neural_network/_multilayer_perceptron.py:691: ConvergenceWarning: Stochastic Optimizer: Maximum iterations (1) reached and the optimization hasn't converged yet.\n",
      "  warnings.warn(\n"
     ]
    },
    {
     "name": "stdout",
     "output_type": "stream",
     "text": [
      "=============================================\n",
      "Run for 84 epoch\n",
      "Training Score: 0.5871845498858518\n",
      "Validation Score: 0.5666337611056268\n",
      "Training Loss Score: 1.0684414989249713\n",
      "Validation Loss Score: 1.1277456388790061\n",
      "=============================================\n"
     ]
    },
    {
     "name": "stderr",
     "output_type": "stream",
     "text": [
      "/Users/brandenkim/miniconda3/envs/ml_env/lib/python3.9/site-packages/sklearn/neural_network/_multilayer_perceptron.py:691: ConvergenceWarning: Stochastic Optimizer: Maximum iterations (1) reached and the optimization hasn't converged yet.\n",
      "  warnings.warn(\n"
     ]
    },
    {
     "name": "stdout",
     "output_type": "stream",
     "text": [
      "=============================================\n",
      "Run for 85 epoch\n",
      "Training Score: 0.587462207688036\n",
      "Validation Score: 0.5665103652517275\n",
      "Training Loss Score: 1.0681093948076748\n",
      "Validation Loss Score: 1.1274528156452714\n",
      "=============================================\n"
     ]
    },
    {
     "name": "stderr",
     "output_type": "stream",
     "text": [
      "/Users/brandenkim/miniconda3/envs/ml_env/lib/python3.9/site-packages/sklearn/neural_network/_multilayer_perceptron.py:691: ConvergenceWarning: Stochastic Optimizer: Maximum iterations (1) reached and the optimization hasn't converged yet.\n",
      "  warnings.warn(\n"
     ]
    },
    {
     "name": "stdout",
     "output_type": "stream",
     "text": [
      "=============================================\n",
      "Run for 86 epoch\n",
      "Training Score: 0.5876781637564016\n",
      "Validation Score: 0.567127344521224\n",
      "Training Loss Score: 1.0676749741396085\n",
      "Validation Loss Score: 1.1270080819505308\n",
      "=============================================\n"
     ]
    },
    {
     "name": "stderr",
     "output_type": "stream",
     "text": [
      "/Users/brandenkim/miniconda3/envs/ml_env/lib/python3.9/site-packages/sklearn/neural_network/_multilayer_perceptron.py:691: ConvergenceWarning: Stochastic Optimizer: Maximum iterations (1) reached and the optimization hasn't converged yet.\n",
      "  warnings.warn(\n"
     ]
    },
    {
     "name": "stdout",
     "output_type": "stream",
     "text": [
      "=============================================\n",
      "Run for 87 epoch\n",
      "Training Score: 0.587801567224039\n",
      "Validation Score: 0.566263573543929\n",
      "Training Loss Score: 1.0672949212477412\n",
      "Validation Loss Score: 1.1267459698166298\n",
      "=============================================\n"
     ]
    },
    {
     "name": "stderr",
     "output_type": "stream",
     "text": [
      "/Users/brandenkim/miniconda3/envs/ml_env/lib/python3.9/site-packages/sklearn/neural_network/_multilayer_perceptron.py:691: ConvergenceWarning: Stochastic Optimizer: Maximum iterations (1) reached and the optimization hasn't converged yet.\n",
      "  warnings.warn(\n"
     ]
    },
    {
     "name": "stdout",
     "output_type": "stream",
     "text": [
      "=============================================\n",
      "Run for 88 epoch\n",
      "Training Score: 0.5879558215585858\n",
      "Validation Score: 0.5656465942744324\n",
      "Training Loss Score: 1.0668291302519406\n",
      "Validation Loss Score: 1.126238271033764\n",
      "=============================================\n"
     ]
    },
    {
     "name": "stderr",
     "output_type": "stream",
     "text": [
      "/Users/brandenkim/miniconda3/envs/ml_env/lib/python3.9/site-packages/sklearn/neural_network/_multilayer_perceptron.py:691: ConvergenceWarning: Stochastic Optimizer: Maximum iterations (1) reached and the optimization hasn't converged yet.\n",
      "  warnings.warn(\n"
     ]
    },
    {
     "name": "stdout",
     "output_type": "stream",
     "text": [
      "=============================================\n",
      "Run for 89 epoch\n",
      "Training Score: 0.587801567224039\n",
      "Validation Score: 0.565893385982231\n",
      "Training Loss Score: 1.066410796543974\n",
      "Validation Loss Score: 1.1260782316366704\n",
      "=============================================\n"
     ]
    },
    {
     "name": "stderr",
     "output_type": "stream",
     "text": [
      "/Users/brandenkim/miniconda3/envs/ml_env/lib/python3.9/site-packages/sklearn/neural_network/_multilayer_perceptron.py:691: ConvergenceWarning: Stochastic Optimizer: Maximum iterations (1) reached and the optimization hasn't converged yet.\n",
      "  warnings.warn(\n"
     ]
    },
    {
     "name": "stdout",
     "output_type": "stream",
     "text": [
      "=============================================\n",
      "Run for 90 epoch\n",
      "Training Score: 0.5878632689578577\n",
      "Validation Score: 0.5655231984205331\n",
      "Training Loss Score: 1.066027260519357\n",
      "Validation Loss Score: 1.1256369526784784\n",
      "=============================================\n"
     ]
    },
    {
     "name": "stderr",
     "output_type": "stream",
     "text": [
      "/Users/brandenkim/miniconda3/envs/ml_env/lib/python3.9/site-packages/sklearn/neural_network/_multilayer_perceptron.py:691: ConvergenceWarning: Stochastic Optimizer: Maximum iterations (1) reached and the optimization hasn't converged yet.\n",
      "  warnings.warn(\n"
     ]
    },
    {
     "name": "stdout",
     "output_type": "stream",
     "text": [
      "=============================================\n",
      "Run for 91 epoch\n",
      "Training Score: 0.5884185845622262\n",
      "Validation Score: 0.5649062191510366\n",
      "Training Loss Score: 1.0655493280636503\n",
      "Validation Loss Score: 1.1254362592525762\n",
      "=============================================\n"
     ]
    },
    {
     "name": "stderr",
     "output_type": "stream",
     "text": [
      "/Users/brandenkim/miniconda3/envs/ml_env/lib/python3.9/site-packages/sklearn/neural_network/_multilayer_perceptron.py:691: ConvergenceWarning: Stochastic Optimizer: Maximum iterations (1) reached and the optimization hasn't converged yet.\n",
      "  warnings.warn(\n"
     ]
    },
    {
     "name": "stdout",
     "output_type": "stream",
     "text": [
      "=============================================\n",
      "Run for 92 epoch\n",
      "Training Score: 0.5887887949651385\n",
      "Validation Score: 0.565893385982231\n",
      "Training Loss Score: 1.065059551811909\n",
      "Validation Loss Score: 1.1248370070336478\n",
      "=============================================\n"
     ]
    },
    {
     "name": "stderr",
     "output_type": "stream",
     "text": [
      "/Users/brandenkim/miniconda3/envs/ml_env/lib/python3.9/site-packages/sklearn/neural_network/_multilayer_perceptron.py:691: ConvergenceWarning: Stochastic Optimizer: Maximum iterations (1) reached and the optimization hasn't converged yet.\n",
      "  warnings.warn(\n"
     ]
    },
    {
     "name": "stdout",
     "output_type": "stream",
     "text": [
      "=============================================\n",
      "Run for 93 epoch\n",
      "Training Score: 0.588572838896773\n",
      "Validation Score: 0.5646594274432379\n",
      "Training Loss Score: 1.0646323317547683\n",
      "Validation Loss Score: 1.124404376661164\n",
      "=============================================\n"
     ]
    },
    {
     "name": "stderr",
     "output_type": "stream",
     "text": [
      "/Users/brandenkim/miniconda3/envs/ml_env/lib/python3.9/site-packages/sklearn/neural_network/_multilayer_perceptron.py:691: ConvergenceWarning: Stochastic Optimizer: Maximum iterations (1) reached and the optimization hasn't converged yet.\n",
      "  warnings.warn(\n"
     ]
    },
    {
     "name": "stdout",
     "output_type": "stream",
     "text": [
      "=============================================\n",
      "Run for 94 epoch\n",
      "Training Score: 0.5887579440982291\n",
      "Validation Score: 0.5650296150049359\n",
      "Training Loss Score: 1.0641424675458908\n",
      "Validation Loss Score: 1.1239193690669498\n",
      "=============================================\n"
     ]
    },
    {
     "name": "stderr",
     "output_type": "stream",
     "text": [
      "/Users/brandenkim/miniconda3/envs/ml_env/lib/python3.9/site-packages/sklearn/neural_network/_multilayer_perceptron.py:691: ConvergenceWarning: Stochastic Optimizer: Maximum iterations (1) reached and the optimization hasn't converged yet.\n",
      "  warnings.warn(\n"
     ]
    },
    {
     "name": "stdout",
     "output_type": "stream",
     "text": [
      "=============================================\n",
      "Run for 95 epoch\n",
      "Training Score: 0.5888196458320479\n",
      "Validation Score: 0.5647828232971372\n",
      "Training Loss Score: 1.0637216993471532\n",
      "Validation Loss Score: 1.1234640576335981\n",
      "=============================================\n"
     ]
    },
    {
     "name": "stderr",
     "output_type": "stream",
     "text": [
      "/Users/brandenkim/miniconda3/envs/ml_env/lib/python3.9/site-packages/sklearn/neural_network/_multilayer_perceptron.py:691: ConvergenceWarning: Stochastic Optimizer: Maximum iterations (1) reached and the optimization hasn't converged yet.\n",
      "  warnings.warn(\n"
     ]
    },
    {
     "name": "stdout",
     "output_type": "stream",
     "text": [
      "=============================================\n",
      "Run for 96 epoch\n",
      "Training Score: 0.5888504966989573\n",
      "Validation Score: 0.566263573543929\n",
      "Training Loss Score: 1.063291859896276\n",
      "Validation Loss Score: 1.123021664298427\n",
      "=============================================\n"
     ]
    },
    {
     "name": "stderr",
     "output_type": "stream",
     "text": [
      "/Users/brandenkim/miniconda3/envs/ml_env/lib/python3.9/site-packages/sklearn/neural_network/_multilayer_perceptron.py:691: ConvergenceWarning: Stochastic Optimizer: Maximum iterations (1) reached and the optimization hasn't converged yet.\n",
      "  warnings.warn(\n"
     ]
    },
    {
     "name": "stdout",
     "output_type": "stream",
     "text": [
      "=============================================\n",
      "Run for 97 epoch\n",
      "Training Score: 0.5894675140371445\n",
      "Validation Score: 0.5661401776900297\n",
      "Training Loss Score: 1.0628719380857\n",
      "Validation Loss Score: 1.1226884527805627\n",
      "=============================================\n"
     ]
    },
    {
     "name": "stderr",
     "output_type": "stream",
     "text": [
      "/Users/brandenkim/miniconda3/envs/ml_env/lib/python3.9/site-packages/sklearn/neural_network/_multilayer_perceptron.py:691: ConvergenceWarning: Stochastic Optimizer: Maximum iterations (1) reached and the optimization hasn't converged yet.\n",
      "  warnings.warn(\n"
     ]
    },
    {
     "name": "stdout",
     "output_type": "stream",
     "text": [
      "=============================================\n",
      "Run for 98 epoch\n",
      "Training Score: 0.5890973036342321\n",
      "Validation Score: 0.5667571569595261\n",
      "Training Loss Score: 1.0624943518733667\n",
      "Validation Loss Score: 1.1223442028908954\n",
      "=============================================\n"
     ]
    },
    {
     "name": "stderr",
     "output_type": "stream",
     "text": [
      "/Users/brandenkim/miniconda3/envs/ml_env/lib/python3.9/site-packages/sklearn/neural_network/_multilayer_perceptron.py:691: ConvergenceWarning: Stochastic Optimizer: Maximum iterations (1) reached and the optimization hasn't converged yet.\n",
      "  warnings.warn(\n"
     ]
    },
    {
     "name": "stdout",
     "output_type": "stream",
     "text": [
      "=============================================\n",
      "Run for 99 epoch\n",
      "Training Score: 0.5893749614364163\n",
      "Validation Score: 0.5668805528134254\n",
      "Training Loss Score: 1.062072254350591\n",
      "Validation Loss Score: 1.121862524750831\n",
      "=============================================\n"
     ]
    },
    {
     "name": "stderr",
     "output_type": "stream",
     "text": [
      "/Users/brandenkim/miniconda3/envs/ml_env/lib/python3.9/site-packages/sklearn/neural_network/_multilayer_perceptron.py:691: ConvergenceWarning: Stochastic Optimizer: Maximum iterations (1) reached and the optimization hasn't converged yet.\n",
      "  warnings.warn(\n"
     ]
    },
    {
     "name": "stdout",
     "output_type": "stream",
     "text": [
      "=============================================\n",
      "Run for 100 epoch\n",
      "Training Score: 0.5891898562349602\n",
      "Validation Score: 0.5670039486673247\n",
      "Training Loss Score: 1.061681029667287\n",
      "Validation Loss Score: 1.1214756327391393\n",
      "=============================================\n"
     ]
    },
    {
     "name": "stderr",
     "output_type": "stream",
     "text": [
      "/Users/brandenkim/miniconda3/envs/ml_env/lib/python3.9/site-packages/sklearn/neural_network/_multilayer_perceptron.py:691: ConvergenceWarning: Stochastic Optimizer: Maximum iterations (1) reached and the optimization hasn't converged yet.\n",
      "  warnings.warn(\n"
     ]
    },
    {
     "name": "stdout",
     "output_type": "stream",
     "text": [
      "=============================================\n",
      "Run for 101 epoch\n",
      "Training Score: 0.5892207071018696\n",
      "Validation Score: 0.5670039486673247\n",
      "Training Loss Score: 1.061302535499078\n",
      "Validation Loss Score: 1.1211257116126796\n",
      "=============================================\n"
     ]
    },
    {
     "name": "stderr",
     "output_type": "stream",
     "text": [
      "/Users/brandenkim/miniconda3/envs/ml_env/lib/python3.9/site-packages/sklearn/neural_network/_multilayer_perceptron.py:691: ConvergenceWarning: Stochastic Optimizer: Maximum iterations (1) reached and the optimization hasn't converged yet.\n",
      "  warnings.warn(\n"
     ]
    },
    {
     "name": "stdout",
     "output_type": "stream",
     "text": [
      "=============================================\n",
      "Run for 102 epoch\n",
      "Training Score: 0.5895909175047819\n",
      "Validation Score: 0.5672507403751234\n",
      "Training Loss Score: 1.060897321213756\n",
      "Validation Loss Score: 1.1207795030676906\n",
      "=============================================\n"
     ]
    },
    {
     "name": "stderr",
     "output_type": "stream",
     "text": [
      "/Users/brandenkim/miniconda3/envs/ml_env/lib/python3.9/site-packages/sklearn/neural_network/_multilayer_perceptron.py:691: ConvergenceWarning: Stochastic Optimizer: Maximum iterations (1) reached and the optimization hasn't converged yet.\n",
      "  warnings.warn(\n"
     ]
    },
    {
     "name": "stdout",
     "output_type": "stream",
     "text": [
      "=============================================\n",
      "Run for 103 epoch\n",
      "Training Score: 0.5904855926451533\n",
      "Validation Score: 0.5676209279368213\n",
      "Training Loss Score: 1.0606082358509588\n",
      "Validation Loss Score: 1.1206515334989524\n",
      "=============================================\n"
     ]
    },
    {
     "name": "stderr",
     "output_type": "stream",
     "text": [
      "/Users/brandenkim/miniconda3/envs/ml_env/lib/python3.9/site-packages/sklearn/neural_network/_multilayer_perceptron.py:691: ConvergenceWarning: Stochastic Optimizer: Maximum iterations (1) reached and the optimization hasn't converged yet.\n",
      "  warnings.warn(\n"
     ]
    },
    {
     "name": "stdout",
     "output_type": "stream",
     "text": [
      "=============================================\n",
      "Run for 104 epoch\n",
      "Training Score: 0.5909483556487938\n",
      "Validation Score: 0.5676209279368213\n",
      "Training Loss Score: 1.060173908907012\n",
      "Validation Loss Score: 1.1202811884856914\n",
      "=============================================\n"
     ]
    },
    {
     "name": "stderr",
     "output_type": "stream",
     "text": [
      "/Users/brandenkim/miniconda3/envs/ml_env/lib/python3.9/site-packages/sklearn/neural_network/_multilayer_perceptron.py:691: ConvergenceWarning: Stochastic Optimizer: Maximum iterations (1) reached and the optimization hasn't converged yet.\n",
      "  warnings.warn(\n"
     ]
    },
    {
     "name": "stdout",
     "output_type": "stream",
     "text": [
      "=============================================\n",
      "Run for 105 epoch\n",
      "Training Score: 0.5906706978466095\n",
      "Validation Score: 0.5677443237907206\n",
      "Training Loss Score: 1.0598543037404173\n",
      "Validation Loss Score: 1.1198947074610057\n",
      "=============================================\n"
     ]
    },
    {
     "name": "stderr",
     "output_type": "stream",
     "text": [
      "/Users/brandenkim/miniconda3/envs/ml_env/lib/python3.9/site-packages/sklearn/neural_network/_multilayer_perceptron.py:691: ConvergenceWarning: Stochastic Optimizer: Maximum iterations (1) reached and the optimization hasn't converged yet.\n",
      "  warnings.warn(\n"
     ]
    },
    {
     "name": "stdout",
     "output_type": "stream",
     "text": [
      "=============================================\n",
      "Run for 106 epoch\n",
      "Training Score: 0.5907323995804282\n",
      "Validation Score: 0.5677443237907206\n",
      "Training Loss Score: 1.0594824872580537\n",
      "Validation Loss Score: 1.1195851661344989\n",
      "=============================================\n"
     ]
    },
    {
     "name": "stderr",
     "output_type": "stream",
     "text": [
      "/Users/brandenkim/miniconda3/envs/ml_env/lib/python3.9/site-packages/sklearn/neural_network/_multilayer_perceptron.py:691: ConvergenceWarning: Stochastic Optimizer: Maximum iterations (1) reached and the optimization hasn't converged yet.\n",
      "  warnings.warn(\n"
     ]
    },
    {
     "name": "stdout",
     "output_type": "stream",
     "text": [
      "=============================================\n",
      "Run for 107 epoch\n",
      "Training Score: 0.5904238909113346\n",
      "Validation Score: 0.5684846989141165\n",
      "Training Loss Score: 1.0592423850672665\n",
      "Validation Loss Score: 1.1194036659367732\n",
      "=============================================\n"
     ]
    },
    {
     "name": "stderr",
     "output_type": "stream",
     "text": [
      "/Users/brandenkim/miniconda3/envs/ml_env/lib/python3.9/site-packages/sklearn/neural_network/_multilayer_perceptron.py:691: ConvergenceWarning: Stochastic Optimizer: Maximum iterations (1) reached and the optimization hasn't converged yet.\n",
      "  warnings.warn(\n"
     ]
    },
    {
     "name": "stdout",
     "output_type": "stream",
     "text": [
      "=============================================\n",
      "Run for 108 epoch\n",
      "Training Score: 0.590547294378972\n",
      "Validation Score: 0.569101678183613\n",
      "Training Loss Score: 1.058951106762149\n",
      "Validation Loss Score: 1.119092175528094\n",
      "=============================================\n"
     ]
    },
    {
     "name": "stderr",
     "output_type": "stream",
     "text": [
      "/Users/brandenkim/miniconda3/envs/ml_env/lib/python3.9/site-packages/sklearn/neural_network/_multilayer_perceptron.py:691: ConvergenceWarning: Stochastic Optimizer: Maximum iterations (1) reached and the optimization hasn't converged yet.\n",
      "  warnings.warn(\n"
     ]
    },
    {
     "name": "stdout",
     "output_type": "stream",
     "text": [
      "=============================================\n",
      "Run for 109 epoch\n",
      "Training Score: 0.590547294378972\n",
      "Validation Score: 0.5699654491609082\n",
      "Training Loss Score: 1.0586617250231831\n",
      "Validation Loss Score: 1.1187944630566211\n",
      "=============================================\n"
     ]
    },
    {
     "name": "stderr",
     "output_type": "stream",
     "text": [
      "/Users/brandenkim/miniconda3/envs/ml_env/lib/python3.9/site-packages/sklearn/neural_network/_multilayer_perceptron.py:691: ConvergenceWarning: Stochastic Optimizer: Maximum iterations (1) reached and the optimization hasn't converged yet.\n",
      "  warnings.warn(\n"
     ]
    },
    {
     "name": "stdout",
     "output_type": "stream",
     "text": [
      "=============================================\n",
      "Run for 110 epoch\n",
      "Training Score: 0.5906706978466095\n",
      "Validation Score: 0.5700888450148075\n",
      "Training Loss Score: 1.0583662939275487\n",
      "Validation Loss Score: 1.1185449082939396\n",
      "=============================================\n"
     ]
    },
    {
     "name": "stderr",
     "output_type": "stream",
     "text": [
      "/Users/brandenkim/miniconda3/envs/ml_env/lib/python3.9/site-packages/sklearn/neural_network/_multilayer_perceptron.py:691: ConvergenceWarning: Stochastic Optimizer: Maximum iterations (1) reached and the optimization hasn't converged yet.\n",
      "  warnings.warn(\n"
     ]
    },
    {
     "name": "stdout",
     "output_type": "stream",
     "text": [
      "=============================================\n",
      "Run for 111 epoch\n",
      "Training Score: 0.5903930400444253\n",
      "Validation Score: 0.5709526159921027\n",
      "Training Loss Score: 1.058029549778957\n",
      "Validation Loss Score: 1.1181491615372143\n",
      "=============================================\n"
     ]
    },
    {
     "name": "stderr",
     "output_type": "stream",
     "text": [
      "/Users/brandenkim/miniconda3/envs/ml_env/lib/python3.9/site-packages/sklearn/neural_network/_multilayer_perceptron.py:691: ConvergenceWarning: Stochastic Optimizer: Maximum iterations (1) reached and the optimization hasn't converged yet.\n",
      "  warnings.warn(\n"
     ]
    },
    {
     "name": "stdout",
     "output_type": "stream",
     "text": [
      "=============================================\n",
      "Run for 112 epoch\n",
      "Training Score: 0.5907632504473376\n",
      "Validation Score: 0.5708292201382034\n",
      "Training Loss Score: 1.057803789424637\n",
      "Validation Loss Score: 1.1179134551871823\n",
      "=============================================\n"
     ]
    },
    {
     "name": "stderr",
     "output_type": "stream",
     "text": [
      "/Users/brandenkim/miniconda3/envs/ml_env/lib/python3.9/site-packages/sklearn/neural_network/_multilayer_perceptron.py:691: ConvergenceWarning: Stochastic Optimizer: Maximum iterations (1) reached and the optimization hasn't converged yet.\n",
      "  warnings.warn(\n"
     ]
    },
    {
     "name": "stdout",
     "output_type": "stream",
     "text": [
      "=============================================\n",
      "Run for 113 epoch\n",
      "Training Score: 0.5910409082495218\n",
      "Validation Score: 0.5703356367226061\n",
      "Training Loss Score: 1.0575316651807714\n",
      "Validation Loss Score: 1.1175729407246344\n",
      "=============================================\n"
     ]
    },
    {
     "name": "stderr",
     "output_type": "stream",
     "text": [
      "/Users/brandenkim/miniconda3/envs/ml_env/lib/python3.9/site-packages/sklearn/neural_network/_multilayer_perceptron.py:691: ConvergenceWarning: Stochastic Optimizer: Maximum iterations (1) reached and the optimization hasn't converged yet.\n",
      "  warnings.warn(\n"
     ]
    },
    {
     "name": "stdout",
     "output_type": "stream",
     "text": [
      "=============================================\n",
      "Run for 114 epoch\n",
      "Training Score: 0.5907941013142469\n",
      "Validation Score: 0.570705824284304\n",
      "Training Loss Score: 1.0573175228181209\n",
      "Validation Loss Score: 1.1173354746399533\n",
      "=============================================\n"
     ]
    },
    {
     "name": "stderr",
     "output_type": "stream",
     "text": [
      "/Users/brandenkim/miniconda3/envs/ml_env/lib/python3.9/site-packages/sklearn/neural_network/_multilayer_perceptron.py:691: ConvergenceWarning: Stochastic Optimizer: Maximum iterations (1) reached and the optimization hasn't converged yet.\n",
      "  warnings.warn(\n"
     ]
    },
    {
     "name": "stdout",
     "output_type": "stream",
     "text": [
      "=============================================\n",
      "Run for 115 epoch\n",
      "Training Score: 0.5910100573826125\n",
      "Validation Score: 0.5703356367226061\n",
      "Training Loss Score: 1.0569873513203827\n",
      "Validation Loss Score: 1.1169126034108192\n",
      "=============================================\n"
     ]
    },
    {
     "name": "stderr",
     "output_type": "stream",
     "text": [
      "/Users/brandenkim/miniconda3/envs/ml_env/lib/python3.9/site-packages/sklearn/neural_network/_multilayer_perceptron.py:691: ConvergenceWarning: Stochastic Optimizer: Maximum iterations (1) reached and the optimization hasn't converged yet.\n",
      "  warnings.warn(\n"
     ]
    },
    {
     "name": "stdout",
     "output_type": "stream",
     "text": [
      "=============================================\n",
      "Run for 116 epoch\n",
      "Training Score: 0.5910409082495218\n",
      "Validation Score: 0.5708292201382034\n",
      "Training Loss Score: 1.0566944147241055\n",
      "Validation Loss Score: 1.1165092075725778\n",
      "=============================================\n"
     ]
    },
    {
     "name": "stderr",
     "output_type": "stream",
     "text": [
      "/Users/brandenkim/miniconda3/envs/ml_env/lib/python3.9/site-packages/sklearn/neural_network/_multilayer_perceptron.py:691: ConvergenceWarning: Stochastic Optimizer: Maximum iterations (1) reached and the optimization hasn't converged yet.\n",
      "  warnings.warn(\n"
     ]
    },
    {
     "name": "stdout",
     "output_type": "stream",
     "text": [
      "=============================================\n",
      "Run for 117 epoch\n",
      "Training Score: 0.5911334608502499\n",
      "Validation Score: 0.5704590325765054\n",
      "Training Loss Score: 1.0564953418091623\n",
      "Validation Loss Score: 1.1162199751509414\n",
      "=============================================\n"
     ]
    },
    {
     "name": "stderr",
     "output_type": "stream",
     "text": [
      "/Users/brandenkim/miniconda3/envs/ml_env/lib/python3.9/site-packages/sklearn/neural_network/_multilayer_perceptron.py:691: ConvergenceWarning: Stochastic Optimizer: Maximum iterations (1) reached and the optimization hasn't converged yet.\n",
      "  warnings.warn(\n"
     ]
    },
    {
     "name": "stdout",
     "output_type": "stream",
     "text": [
      "=============================================\n",
      "Run for 118 epoch\n",
      "Training Score: 0.591657925587709\n",
      "Validation Score: 0.569471865745311\n",
      "Training Loss Score: 1.0562631744994226\n",
      "Validation Loss Score: 1.1159828528757607\n",
      "=============================================\n"
     ]
    },
    {
     "name": "stderr",
     "output_type": "stream",
     "text": [
      "/Users/brandenkim/miniconda3/envs/ml_env/lib/python3.9/site-packages/sklearn/neural_network/_multilayer_perceptron.py:691: ConvergenceWarning: Stochastic Optimizer: Maximum iterations (1) reached and the optimization hasn't converged yet.\n",
      "  warnings.warn(\n"
     ]
    },
    {
     "name": "stdout",
     "output_type": "stream",
     "text": [
      "=============================================\n",
      "Run for 119 epoch\n",
      "Training Score: 0.5913494169186154\n",
      "Validation Score: 0.5700888450148075\n",
      "Training Loss Score: 1.0559013247824427\n",
      "Validation Loss Score: 1.1155878257390777\n",
      "=============================================\n"
     ]
    },
    {
     "name": "stderr",
     "output_type": "stream",
     "text": [
      "/Users/brandenkim/miniconda3/envs/ml_env/lib/python3.9/site-packages/sklearn/neural_network/_multilayer_perceptron.py:691: ConvergenceWarning: Stochastic Optimizer: Maximum iterations (1) reached and the optimization hasn't converged yet.\n",
      "  warnings.warn(\n"
     ]
    },
    {
     "name": "stdout",
     "output_type": "stream",
     "text": [
      "=============================================\n",
      "Run for 120 epoch\n",
      "Training Score: 0.5917504781884371\n",
      "Validation Score: 0.5688548864758144\n",
      "Training Loss Score: 1.0555644587671444\n",
      "Validation Loss Score: 1.1153651276456753\n",
      "=============================================\n"
     ]
    },
    {
     "name": "stderr",
     "output_type": "stream",
     "text": [
      "/Users/brandenkim/miniconda3/envs/ml_env/lib/python3.9/site-packages/sklearn/neural_network/_multilayer_perceptron.py:691: ConvergenceWarning: Stochastic Optimizer: Maximum iterations (1) reached and the optimization hasn't converged yet.\n",
      "  warnings.warn(\n"
     ]
    },
    {
     "name": "stdout",
     "output_type": "stream",
     "text": [
      "=============================================\n",
      "Run for 121 epoch\n",
      "Training Score: 0.591226013450978\n",
      "Validation Score: 0.5678677196446199\n",
      "Training Loss Score: 1.0553331497262706\n",
      "Validation Loss Score: 1.1152288729631024\n",
      "=============================================\n"
     ]
    },
    {
     "name": "stderr",
     "output_type": "stream",
     "text": [
      "/Users/brandenkim/miniconda3/envs/ml_env/lib/python3.9/site-packages/sklearn/neural_network/_multilayer_perceptron.py:691: ConvergenceWarning: Stochastic Optimizer: Maximum iterations (1) reached and the optimization hasn't converged yet.\n",
      "  warnings.warn(\n"
     ]
    },
    {
     "name": "stdout",
     "output_type": "stream",
     "text": [
      "=============================================\n",
      "Run for 122 epoch\n",
      "Training Score: 0.5914111186524341\n",
      "Validation Score: 0.5666337611056268\n",
      "Training Loss Score: 1.0549885082072497\n",
      "Validation Loss Score: 1.1149583834264993\n",
      "=============================================\n"
     ]
    },
    {
     "name": "stderr",
     "output_type": "stream",
     "text": [
      "/Users/brandenkim/miniconda3/envs/ml_env/lib/python3.9/site-packages/sklearn/neural_network/_multilayer_perceptron.py:691: ConvergenceWarning: Stochastic Optimizer: Maximum iterations (1) reached and the optimization hasn't converged yet.\n",
      "  warnings.warn(\n"
     ]
    },
    {
     "name": "stdout",
     "output_type": "stream",
     "text": [
      "=============================================\n",
      "Run for 123 epoch\n",
      "Training Score: 0.5915345221200716\n",
      "Validation Score: 0.5667571569595261\n",
      "Training Loss Score: 1.0547247278864527\n",
      "Validation Loss Score: 1.114671057960564\n",
      "=============================================\n"
     ]
    },
    {
     "name": "stderr",
     "output_type": "stream",
     "text": [
      "/Users/brandenkim/miniconda3/envs/ml_env/lib/python3.9/site-packages/sklearn/neural_network/_multilayer_perceptron.py:691: ConvergenceWarning: Stochastic Optimizer: Maximum iterations (1) reached and the optimization hasn't converged yet.\n",
      "  warnings.warn(\n"
     ]
    },
    {
     "name": "stdout",
     "output_type": "stream",
     "text": [
      "=============================================\n",
      "Run for 124 epoch\n",
      "Training Score: 0.5910717591164312\n",
      "Validation Score: 0.5668805528134254\n",
      "Training Loss Score: 1.0544856267288927\n",
      "Validation Loss Score: 1.1144342657700292\n",
      "=============================================\n"
     ]
    },
    {
     "name": "stderr",
     "output_type": "stream",
     "text": [
      "/Users/brandenkim/miniconda3/envs/ml_env/lib/python3.9/site-packages/sklearn/neural_network/_multilayer_perceptron.py:691: ConvergenceWarning: Stochastic Optimizer: Maximum iterations (1) reached and the optimization hasn't converged yet.\n",
      "  warnings.warn(\n"
     ]
    },
    {
     "name": "stdout",
     "output_type": "stream",
     "text": [
      "=============================================\n",
      "Run for 125 epoch\n",
      "Training Score: 0.5910100573826125\n",
      "Validation Score: 0.5663869693978283\n",
      "Training Loss Score: 1.0541324473213494\n",
      "Validation Loss Score: 1.1141766387929968\n",
      "=============================================\n"
     ]
    },
    {
     "name": "stderr",
     "output_type": "stream",
     "text": [
      "/Users/brandenkim/miniconda3/envs/ml_env/lib/python3.9/site-packages/sklearn/neural_network/_multilayer_perceptron.py:691: ConvergenceWarning: Stochastic Optimizer: Maximum iterations (1) reached and the optimization hasn't converged yet.\n",
      "  warnings.warn(\n"
     ]
    },
    {
     "name": "stdout",
     "output_type": "stream",
     "text": [
      "=============================================\n",
      "Run for 126 epoch\n",
      "Training Score: 0.5913185660517061\n",
      "Validation Score: 0.5670039486673247\n",
      "Training Loss Score: 1.0537217633371727\n",
      "Validation Loss Score: 1.113886511732179\n",
      "=============================================\n"
     ]
    },
    {
     "name": "stderr",
     "output_type": "stream",
     "text": [
      "/Users/brandenkim/miniconda3/envs/ml_env/lib/python3.9/site-packages/sklearn/neural_network/_multilayer_perceptron.py:691: ConvergenceWarning: Stochastic Optimizer: Maximum iterations (1) reached and the optimization hasn't converged yet.\n",
      "  warnings.warn(\n"
     ]
    },
    {
     "name": "stdout",
     "output_type": "stream",
     "text": [
      "=============================================\n",
      "Run for 127 epoch\n",
      "Training Score: 0.5907632504473376\n",
      "Validation Score: 0.5673741362290227\n",
      "Training Loss Score: 1.0535382525412407\n",
      "Validation Loss Score: 1.1137735041283074\n",
      "=============================================\n"
     ]
    },
    {
     "name": "stderr",
     "output_type": "stream",
     "text": [
      "/Users/brandenkim/miniconda3/envs/ml_env/lib/python3.9/site-packages/sklearn/neural_network/_multilayer_perceptron.py:691: ConvergenceWarning: Stochastic Optimizer: Maximum iterations (1) reached and the optimization hasn't converged yet.\n",
      "  warnings.warn(\n"
     ]
    },
    {
     "name": "stdout",
     "output_type": "stream",
     "text": [
      "=============================================\n",
      "Run for 128 epoch\n",
      "Training Score: 0.5906706978466095\n",
      "Validation Score: 0.5670039486673247\n",
      "Training Loss Score: 1.0534178987770082\n",
      "Validation Loss Score: 1.1136684240432915\n",
      "=============================================\n"
     ]
    },
    {
     "name": "stderr",
     "output_type": "stream",
     "text": [
      "/Users/brandenkim/miniconda3/envs/ml_env/lib/python3.9/site-packages/sklearn/neural_network/_multilayer_perceptron.py:691: ConvergenceWarning: Stochastic Optimizer: Maximum iterations (1) reached and the optimization hasn't converged yet.\n",
      "  warnings.warn(\n"
     ]
    },
    {
     "name": "stdout",
     "output_type": "stream",
     "text": [
      "=============================================\n",
      "Run for 129 epoch\n",
      "Training Score: 0.5911334608502499\n",
      "Validation Score: 0.5670039486673247\n",
      "Training Loss Score: 1.0530700867418734\n",
      "Validation Loss Score: 1.1133190378135658\n",
      "=============================================\n"
     ]
    },
    {
     "name": "stderr",
     "output_type": "stream",
     "text": [
      "/Users/brandenkim/miniconda3/envs/ml_env/lib/python3.9/site-packages/sklearn/neural_network/_multilayer_perceptron.py:691: ConvergenceWarning: Stochastic Optimizer: Maximum iterations (1) reached and the optimization hasn't converged yet.\n",
      "  warnings.warn(\n"
     ]
    },
    {
     "name": "stdout",
     "output_type": "stream",
     "text": [
      "=============================================\n",
      "Run for 130 epoch\n",
      "Training Score: 0.5907632504473376\n",
      "Validation Score: 0.5676209279368213\n",
      "Training Loss Score: 1.05291094725312\n",
      "Validation Loss Score: 1.1133063678291972\n",
      "=============================================\n"
     ]
    },
    {
     "name": "stderr",
     "output_type": "stream",
     "text": [
      "/Users/brandenkim/miniconda3/envs/ml_env/lib/python3.9/site-packages/sklearn/neural_network/_multilayer_perceptron.py:691: ConvergenceWarning: Stochastic Optimizer: Maximum iterations (1) reached and the optimization hasn't converged yet.\n",
      "  warnings.warn(\n"
     ]
    },
    {
     "name": "stdout",
     "output_type": "stream",
     "text": [
      "=============================================\n",
      "Run for 131 epoch\n",
      "Training Score: 0.5907632504473376\n",
      "Validation Score: 0.5672507403751234\n",
      "Training Loss Score: 1.052684771041085\n",
      "Validation Loss Score: 1.1131400472206427\n",
      "=============================================\n"
     ]
    },
    {
     "name": "stderr",
     "output_type": "stream",
     "text": [
      "/Users/brandenkim/miniconda3/envs/ml_env/lib/python3.9/site-packages/sklearn/neural_network/_multilayer_perceptron.py:691: ConvergenceWarning: Stochastic Optimizer: Maximum iterations (1) reached and the optimization hasn't converged yet.\n",
      "  warnings.warn(\n"
     ]
    },
    {
     "name": "stdout",
     "output_type": "stream",
     "text": [
      "=============================================\n",
      "Run for 132 epoch\n",
      "Training Score: 0.590886653914975\n",
      "Validation Score: 0.567127344521224\n",
      "Training Loss Score: 1.0524332137069896\n",
      "Validation Loss Score: 1.1128062134472154\n",
      "=============================================\n"
     ]
    },
    {
     "name": "stderr",
     "output_type": "stream",
     "text": [
      "/Users/brandenkim/miniconda3/envs/ml_env/lib/python3.9/site-packages/sklearn/neural_network/_multilayer_perceptron.py:691: ConvergenceWarning: Stochastic Optimizer: Maximum iterations (1) reached and the optimization hasn't converged yet.\n",
      "  warnings.warn(\n"
     ]
    },
    {
     "name": "stdout",
     "output_type": "stream",
     "text": [
      "=============================================\n",
      "Run for 133 epoch\n",
      "Training Score: 0.591226013450978\n",
      "Validation Score: 0.567127344521224\n",
      "Training Loss Score: 1.0522449914304248\n",
      "Validation Loss Score: 1.1126131063102023\n",
      "=============================================\n"
     ]
    },
    {
     "name": "stderr",
     "output_type": "stream",
     "text": [
      "/Users/brandenkim/miniconda3/envs/ml_env/lib/python3.9/site-packages/sklearn/neural_network/_multilayer_perceptron.py:691: ConvergenceWarning: Stochastic Optimizer: Maximum iterations (1) reached and the optimization hasn't converged yet.\n",
      "  warnings.warn(\n"
     ]
    },
    {
     "name": "stdout",
     "output_type": "stream",
     "text": [
      "=============================================\n",
      "Run for 134 epoch\n",
      "Training Score: 0.5912568643178874\n",
      "Validation Score: 0.5665103652517275\n",
      "Training Loss Score: 1.0519596336829182\n",
      "Validation Loss Score: 1.1123637268227853\n",
      "=============================================\n"
     ]
    },
    {
     "name": "stderr",
     "output_type": "stream",
     "text": [
      "/Users/brandenkim/miniconda3/envs/ml_env/lib/python3.9/site-packages/sklearn/neural_network/_multilayer_perceptron.py:691: ConvergenceWarning: Stochastic Optimizer: Maximum iterations (1) reached and the optimization hasn't converged yet.\n",
      "  warnings.warn(\n"
     ]
    },
    {
     "name": "stdout",
     "output_type": "stream",
     "text": [
      "=============================================\n",
      "Run for 135 epoch\n",
      "Training Score: 0.5915962238538903\n",
      "Validation Score: 0.5668805528134254\n",
      "Training Loss Score: 1.051684061931676\n",
      "Validation Loss Score: 1.1121154038501544\n",
      "=============================================\n"
     ]
    },
    {
     "name": "stderr",
     "output_type": "stream",
     "text": [
      "/Users/brandenkim/miniconda3/envs/ml_env/lib/python3.9/site-packages/sklearn/neural_network/_multilayer_perceptron.py:691: ConvergenceWarning: Stochastic Optimizer: Maximum iterations (1) reached and the optimization hasn't converged yet.\n",
      "  warnings.warn(\n"
     ]
    },
    {
     "name": "stdout",
     "output_type": "stream",
     "text": [
      "=============================================\n",
      "Run for 136 epoch\n",
      "Training Score: 0.5917504781884371\n",
      "Validation Score: 0.5660167818361304\n",
      "Training Loss Score: 1.0515216750490979\n",
      "Validation Loss Score: 1.1119689117457205\n",
      "=============================================\n"
     ]
    },
    {
     "name": "stderr",
     "output_type": "stream",
     "text": [
      "/Users/brandenkim/miniconda3/envs/ml_env/lib/python3.9/site-packages/sklearn/neural_network/_multilayer_perceptron.py:691: ConvergenceWarning: Stochastic Optimizer: Maximum iterations (1) reached and the optimization hasn't converged yet.\n",
      "  warnings.warn(\n"
     ]
    },
    {
     "name": "stdout",
     "output_type": "stream",
     "text": [
      "=============================================\n",
      "Run for 137 epoch\n",
      "Training Score: 0.5918430307891652\n",
      "Validation Score: 0.5657699901283317\n",
      "Training Loss Score: 1.051201606474737\n",
      "Validation Loss Score: 1.111657690343948\n",
      "=============================================\n"
     ]
    },
    {
     "name": "stderr",
     "output_type": "stream",
     "text": [
      "/Users/brandenkim/miniconda3/envs/ml_env/lib/python3.9/site-packages/sklearn/neural_network/_multilayer_perceptron.py:691: ConvergenceWarning: Stochastic Optimizer: Maximum iterations (1) reached and the optimization hasn't converged yet.\n",
      "  warnings.warn(\n"
     ]
    },
    {
     "name": "stdout",
     "output_type": "stream",
     "text": [
      "=============================================\n",
      "Run for 138 epoch\n",
      "Training Score: 0.5919047325229839\n",
      "Validation Score: 0.5660167818361304\n",
      "Training Loss Score: 1.0509644438498729\n",
      "Validation Loss Score: 1.1115104612782998\n",
      "=============================================\n"
     ]
    },
    {
     "name": "stderr",
     "output_type": "stream",
     "text": [
      "/Users/brandenkim/miniconda3/envs/ml_env/lib/python3.9/site-packages/sklearn/neural_network/_multilayer_perceptron.py:691: ConvergenceWarning: Stochastic Optimizer: Maximum iterations (1) reached and the optimization hasn't converged yet.\n",
      "  warnings.warn(\n"
     ]
    },
    {
     "name": "stdout",
     "output_type": "stream",
     "text": [
      "=============================================\n",
      "Run for 139 epoch\n",
      "Training Score: 0.5915962238538903\n",
      "Validation Score: 0.5665103652517275\n",
      "Training Loss Score: 1.0506490550295011\n",
      "Validation Loss Score: 1.1112140020940493\n",
      "=============================================\n"
     ]
    },
    {
     "name": "stderr",
     "output_type": "stream",
     "text": [
      "/Users/brandenkim/miniconda3/envs/ml_env/lib/python3.9/site-packages/sklearn/neural_network/_multilayer_perceptron.py:691: ConvergenceWarning: Stochastic Optimizer: Maximum iterations (1) reached and the optimization hasn't converged yet.\n",
      "  warnings.warn(\n"
     ]
    },
    {
     "name": "stdout",
     "output_type": "stream",
     "text": [
      "=============================================\n",
      "Run for 140 epoch\n",
      "Training Score: 0.5915345221200716\n",
      "Validation Score: 0.5668805528134254\n",
      "Training Loss Score: 1.0505124427487296\n",
      "Validation Loss Score: 1.1110633754367174\n",
      "=============================================\n"
     ]
    },
    {
     "name": "stderr",
     "output_type": "stream",
     "text": [
      "/Users/brandenkim/miniconda3/envs/ml_env/lib/python3.9/site-packages/sklearn/neural_network/_multilayer_perceptron.py:691: ConvergenceWarning: Stochastic Optimizer: Maximum iterations (1) reached and the optimization hasn't converged yet.\n",
      "  warnings.warn(\n"
     ]
    },
    {
     "name": "stdout",
     "output_type": "stream",
     "text": [
      "=============================================\n",
      "Run for 141 epoch\n",
      "Training Score: 0.5915962238538903\n",
      "Validation Score: 0.566263573543929\n",
      "Training Loss Score: 1.0502649895803262\n",
      "Validation Loss Score: 1.1108220348529332\n",
      "=============================================\n"
     ]
    },
    {
     "name": "stderr",
     "output_type": "stream",
     "text": [
      "/Users/brandenkim/miniconda3/envs/ml_env/lib/python3.9/site-packages/sklearn/neural_network/_multilayer_perceptron.py:691: ConvergenceWarning: Stochastic Optimizer: Maximum iterations (1) reached and the optimization hasn't converged yet.\n",
      "  warnings.warn(\n"
     ]
    },
    {
     "name": "stdout",
     "output_type": "stream",
     "text": [
      "=============================================\n",
      "Run for 142 epoch\n",
      "Training Score: 0.5920281359906213\n",
      "Validation Score: 0.5665103652517275\n",
      "Training Loss Score: 1.050109240219252\n",
      "Validation Loss Score: 1.1107191782943475\n",
      "=============================================\n"
     ]
    },
    {
     "name": "stderr",
     "output_type": "stream",
     "text": [
      "/Users/brandenkim/miniconda3/envs/ml_env/lib/python3.9/site-packages/sklearn/neural_network/_multilayer_perceptron.py:691: ConvergenceWarning: Stochastic Optimizer: Maximum iterations (1) reached and the optimization hasn't converged yet.\n",
      "  warnings.warn(\n"
     ]
    },
    {
     "name": "stdout",
     "output_type": "stream",
     "text": [
      "=============================================\n",
      "Run for 143 epoch\n",
      "Training Score: 0.5918430307891652\n",
      "Validation Score: 0.5660167818361304\n",
      "Training Loss Score: 1.0499140432095786\n",
      "Validation Loss Score: 1.1106202176267106\n",
      "=============================================\n"
     ]
    },
    {
     "name": "stderr",
     "output_type": "stream",
     "text": [
      "/Users/brandenkim/miniconda3/envs/ml_env/lib/python3.9/site-packages/sklearn/neural_network/_multilayer_perceptron.py:691: ConvergenceWarning: Stochastic Optimizer: Maximum iterations (1) reached and the optimization hasn't converged yet.\n",
      "  warnings.warn(\n"
     ]
    },
    {
     "name": "stdout",
     "output_type": "stream",
     "text": [
      "=============================================\n",
      "Run for 144 epoch\n",
      "Training Score: 0.5919047325229839\n",
      "Validation Score: 0.5660167818361304\n",
      "Training Loss Score: 1.0495424452436408\n",
      "Validation Loss Score: 1.110315010519897\n",
      "=============================================\n"
     ]
    },
    {
     "name": "stderr",
     "output_type": "stream",
     "text": [
      "/Users/brandenkim/miniconda3/envs/ml_env/lib/python3.9/site-packages/sklearn/neural_network/_multilayer_perceptron.py:691: ConvergenceWarning: Stochastic Optimizer: Maximum iterations (1) reached and the optimization hasn't converged yet.\n",
      "  warnings.warn(\n"
     ]
    },
    {
     "name": "stdout",
     "output_type": "stream",
     "text": [
      "=============================================\n",
      "Run for 145 epoch\n",
      "Training Score: 0.59208983772444\n",
      "Validation Score: 0.5661401776900297\n",
      "Training Loss Score: 1.0494215971404486\n",
      "Validation Loss Score: 1.1101580050148772\n",
      "=============================================\n"
     ]
    },
    {
     "name": "stderr",
     "output_type": "stream",
     "text": [
      "/Users/brandenkim/miniconda3/envs/ml_env/lib/python3.9/site-packages/sklearn/neural_network/_multilayer_perceptron.py:691: ConvergenceWarning: Stochastic Optimizer: Maximum iterations (1) reached and the optimization hasn't converged yet.\n",
      "  warnings.warn(\n"
     ]
    },
    {
     "name": "stdout",
     "output_type": "stream",
     "text": [
      "=============================================\n",
      "Run for 146 epoch\n",
      "Training Score: 0.5917196273215277\n",
      "Validation Score: 0.565893385982231\n",
      "Training Loss Score: 1.0491889425526129\n",
      "Validation Loss Score: 1.1099868651607818\n",
      "=============================================\n"
     ]
    },
    {
     "name": "stderr",
     "output_type": "stream",
     "text": [
      "/Users/brandenkim/miniconda3/envs/ml_env/lib/python3.9/site-packages/sklearn/neural_network/_multilayer_perceptron.py:691: ConvergenceWarning: Stochastic Optimizer: Maximum iterations (1) reached and the optimization hasn't converged yet.\n",
      "  warnings.warn(\n"
     ]
    },
    {
     "name": "stdout",
     "output_type": "stream",
     "text": [
      "=============================================\n",
      "Run for 147 epoch\n",
      "Training Score: 0.5923983463935336\n",
      "Validation Score: 0.5665103652517275\n",
      "Training Loss Score: 1.049084097672905\n",
      "Validation Loss Score: 1.109856514703868\n",
      "=============================================\n"
     ]
    },
    {
     "name": "stderr",
     "output_type": "stream",
     "text": [
      "/Users/brandenkim/miniconda3/envs/ml_env/lib/python3.9/site-packages/sklearn/neural_network/_multilayer_perceptron.py:691: ConvergenceWarning: Stochastic Optimizer: Maximum iterations (1) reached and the optimization hasn't converged yet.\n",
      "  warnings.warn(\n"
     ]
    },
    {
     "name": "stdout",
     "output_type": "stream",
     "text": [
      "=============================================\n",
      "Run for 148 epoch\n",
      "Training Score: 0.592429197260443\n",
      "Validation Score: 0.5665103652517275\n",
      "Training Loss Score: 1.0488865143886792\n",
      "Validation Loss Score: 1.109606877746304\n",
      "=============================================\n"
     ]
    },
    {
     "name": "stderr",
     "output_type": "stream",
     "text": [
      "/Users/brandenkim/miniconda3/envs/ml_env/lib/python3.9/site-packages/sklearn/neural_network/_multilayer_perceptron.py:691: ConvergenceWarning: Stochastic Optimizer: Maximum iterations (1) reached and the optimization hasn't converged yet.\n",
      "  warnings.warn(\n"
     ]
    },
    {
     "name": "stdout",
     "output_type": "stream",
     "text": [
      "=============================================\n",
      "Run for 149 epoch\n",
      "Training Score: 0.5919355833898933\n",
      "Validation Score: 0.565893385982231\n",
      "Training Loss Score: 1.0486292735407392\n",
      "Validation Loss Score: 1.109464524864746\n",
      "=============================================\n",
      "=============================================\n",
      "Run for 150 epoch\n",
      "Training Score: 0.5921515394582588\n",
      "Validation Score: 0.5661401776900297\n",
      "Training Loss Score: 1.0484725343659933\n",
      "Validation Loss Score: 1.109121563084212\n",
      "=============================================\n"
     ]
    },
    {
     "name": "stderr",
     "output_type": "stream",
     "text": [
      "/Users/brandenkim/miniconda3/envs/ml_env/lib/python3.9/site-packages/sklearn/neural_network/_multilayer_perceptron.py:691: ConvergenceWarning: Stochastic Optimizer: Maximum iterations (1) reached and the optimization hasn't converged yet.\n",
      "  warnings.warn(\n"
     ]
    }
   ],
   "source": [
    "\"\"\"\n",
    "Actually training the MLP Classifier to generate the graph for the learning graph visualizer.\n",
    "This should utilize the percentage of samples lists that use randomly selected samples of the\n",
    "overall training data. This is so that we can test the accuracy (using cross-validation) across different\n",
    "training data size samples to see at what point the accuracy score stops being affected by the size of the training\n",
    "samples. This is also to see at what point the data might start getting overfit.\n",
    "\n",
    "This is to generate the Accuracy Learning Curve.\n",
    "\"\"\"\n",
    "# Defining hyperparameters here\n",
    "hidden_layer_sizes = [50, 10]\n",
    "activation = 'relu'\n",
    "learning_rate = 'constant'\n",
    "max_iter = 1 # Setting this to 1 since we want to control the epochs ourselves\n",
    "warm_start = True # This is to stack the training across different epochs\n",
    "\n",
    "# lists to hold the results of training / validation scores\n",
    "x_axis_list = []\n",
    "avg_train_scores_list_kmeans = []\n",
    "avg_validation_scores_list_kmeans = []\n",
    "avg_train_loss_values_kmeans = []\n",
    "avg_validation_loss_values_kmeans = []\n",
    "\n",
    "# First declaring the Decision Tree Classifer from scikit-learn\n",
    "clf = MLPClassifier(\n",
    "    hidden_layer_sizes=hidden_layer_sizes,\n",
    "    activation=activation,\n",
    "    learning_rate=learning_rate,\n",
    "    max_iter=max_iter,\n",
    "    warm_start=warm_start,\n",
    "    random_state=seed\n",
    ")\n",
    "\n",
    "for epoch_iteration in range(1, number_of_epochs + 1):\n",
    "    \n",
    "    # cross_val_score doesn't increase across epoch runs for some reason so I need to split it myself\n",
    "    train_data, val_data, train_label, val_label = train_test_split(kmeans_train_data, train_labels, test_size=0.2, random_state=seed)\n",
    "    \n",
    "    clf.fit(train_data, train_label)\n",
    "    \n",
    "    accuracy_score = clf.score(train_data, train_label)\n",
    "    validation_score = clf.score(val_data, val_label)\n",
    "#     loss_score = clf.loss_\n",
    "    train_loss_score = log_loss(train_label, clf.predict_proba(train_data))\n",
    "    val_loss_score = log_loss(val_label, clf.predict_proba(val_data))\n",
    "    \n",
    "    x_axis_list.append(epoch_iteration)\n",
    "    avg_train_scores_list_kmeans.append(accuracy_score)\n",
    "    avg_validation_scores_list_kmeans.append(validation_score)\n",
    "    avg_train_loss_values_kmeans.append(train_loss_score)\n",
    "    avg_validation_loss_values_kmeans.append(val_loss_score)\n",
    "    \n",
    "    print(\"=============================================\")\n",
    "    print(\"Run for \" + str(epoch_iteration) + \" epoch\")\n",
    "    print(\"Training Score: \" + str(accuracy_score))\n",
    "    print(\"Validation Score: \" + str(validation_score))\n",
    "#     print(\"Loss Score: \" + str(loss_score))\n",
    "    print(\"Training Loss Score: \" + str(train_loss_score))\n",
    "    print(\"Validation Loss Score: \" + str(val_loss_score))\n",
    "    print(\"=============================================\")\n",
    "\n"
   ]
  },
  {
   "cell_type": "code",
   "execution_count": 52,
   "id": "65441d2e",
   "metadata": {},
   "outputs": [
    {
     "name": "stdout",
     "output_type": "stream",
     "text": [
      "0.5735228787205686\n",
      "0.0045871734619140625\n"
     ]
    },
    {
     "name": "stderr",
     "output_type": "stream",
     "text": [
      "/Users/brandenkim/miniconda3/envs/ml_env/lib/python3.9/site-packages/sklearn/neural_network/_multilayer_perceptron.py:691: ConvergenceWarning: Stochastic Optimizer: Maximum iterations (150) reached and the optimization hasn't converged yet.\n",
      "  warnings.warn(\n"
     ]
    }
   ],
   "source": [
    "\"\"\"\n",
    "Computing Accuracy Score on the Test data KMeans\n",
    "\"\"\"\n",
    "\n",
    "clf = MLPClassifier(\n",
    "    hidden_layer_sizes=hidden_layer_sizes,\n",
    "    activation=activation,\n",
    "    learning_rate=learning_rate,\n",
    "    max_iter=number_of_epochs,\n",
    "    warm_start=warm_start,\n",
    "    random_state=seed\n",
    ")\n",
    "\n",
    "clf.fit(kmeans_train_data, train_labels)\n",
    "start_time = time.time()\n",
    "score = clf.score(kmeans_test_data, test_labels)\n",
    "training_time = time.time() - start_time\n",
    "print(score)\n",
    "print(training_time)"
   ]
  },
  {
   "cell_type": "code",
   "execution_count": 53,
   "id": "24c1e0f6",
   "metadata": {},
   "outputs": [
    {
     "data": {
      "image/png": "[encoded data removed]",
      "text/plain": [
       "<Figure size 640x480 with 1 Axes>"
      ]
     },
     "metadata": {},
     "output_type": "display_data"
    }
   ],
   "source": [
    "\"\"\"\n",
    "Graphing the validation curves for both the baseline and the Dimension Reduced datasets.\n",
    "\"\"\"\n",
    "\n",
    "# Plotting the training scores\n",
    "plt.plot(\n",
    "    x_axis_list,\n",
    "    avg_train_scores_list_reg,\n",
    "    color=\"red\",\n",
    "    linewidth=3,\n",
    "    marker='o',\n",
    "    label = \"Average Training Scores (A1)\"\n",
    ")\n",
    "\n",
    "# Plotting the validation scores\n",
    "plt.plot(\n",
    "    x_axis_list,\n",
    "    avg_validation_scores_list_reg,\n",
    "    color=\"orange\",\n",
    "    linewidth=3,\n",
    "    marker='o',\n",
    "    label = \"Average Validation Scores (A1)\"\n",
    ")\n",
    "\n",
    "# Plotting the training scores\n",
    "plt.plot(\n",
    "    x_axis_list,\n",
    "    avg_train_scores_list_kmeans,\n",
    "    color=\"blue\",\n",
    "    linewidth=3,\n",
    "    marker='o',\n",
    "    label = \"Average Training Scores (KMeans)\"\n",
    ")\n",
    "\n",
    "# Plotting the validation scores\n",
    "plt.plot(\n",
    "    x_axis_list,\n",
    "    avg_validation_scores_list_kmeans,\n",
    "    color=\"purple\",\n",
    "    linewidth=3,\n",
    "    marker='o',\n",
    "    label = \"Average Validation Scores (KMeans)\"\n",
    ")\n",
    "\n",
    "# Naming X-Axis\n",
    "plt.xlabel('Dataset Sizes')\n",
    "# Naming Y-Axis\n",
    "plt.ylabel('Accuracy scores as a percentage')\n",
    "# Naming Title\n",
    "plt.title(\"Accuracy Learning Curve Graph using Cross-Validation on MNIST Dataset: Neural Networks vs KMeans\")\n",
    "\n",
    "plt.legend()\n",
    "\n",
    "plt.show()"
   ]
  },
  {
   "cell_type": "code",
   "execution_count": 54,
   "id": "f795ffad",
   "metadata": {},
   "outputs": [
    {
     "data": {
      "image/png": "[encoded data removed]",
      "text/plain": [
       "<Figure size 640x480 with 1 Axes>"
      ]
     },
     "metadata": {},
     "output_type": "display_data"
    }
   ],
   "source": [
    "\"\"\"\n",
    "Plotting the results into a loss learning curve graph\n",
    "\"\"\"\n",
    "\n",
    "# Plotting the training scores\n",
    "plt.plot(\n",
    "    x_axis_list,\n",
    "    avg_train_loss_values_reg,\n",
    "    color=\"red\",\n",
    "    linewidth=3,\n",
    "    marker='o',\n",
    "    label = \"Average Training Scores (A1)\"\n",
    ")\n",
    "\n",
    "# Plotting the validation scores\n",
    "plt.plot(\n",
    "    x_axis_list,\n",
    "    avg_validation_loss_values_reg,\n",
    "    color=\"orange\",\n",
    "    linewidth=3,\n",
    "    marker='o',\n",
    "    label = \"Average Validation Scores (A1)\"\n",
    ")\n",
    "# Plotting the training scores\n",
    "plt.plot(\n",
    "    x_axis_list,\n",
    "    avg_train_loss_values_kmeans,\n",
    "    color=\"blue\",\n",
    "    linewidth=3,\n",
    "    marker='o',\n",
    "    label = \"Average Training Scores (KMeans)\"\n",
    ")\n",
    "\n",
    "# Plotting the validation scores\n",
    "plt.plot(\n",
    "    x_axis_list,\n",
    "    avg_validation_loss_values_kmeans,\n",
    "    color=\"purple\",\n",
    "    linewidth=3,\n",
    "    marker='o',\n",
    "    label = \"Average Validation Scores (KMeans)\"\n",
    ")\n",
    "\n",
    "\n",
    "# Naming X-Axis\n",
    "plt.xlabel('Dataset Sizes')\n",
    "# Naming Y-Axis\n",
    "plt.ylabel('Log-Loss scores')\n",
    "# Naming Title\n",
    "plt.title(\"Loss Learning Curve Graph using Cross-Validation on MNIST Dataset: Neural Networks vs KMeans\")\n",
    "\n",
    "plt.legend()\n",
    "\n",
    "plt.show()"
   ]
  },
  {
   "cell_type": "code",
   "execution_count": null,
   "id": "484bb2e2",
   "metadata": {},
   "outputs": [],
   "source": []
  },
  {
   "cell_type": "code",
   "execution_count": null,
   "id": "4b01e2a8",
   "metadata": {},
   "outputs": [],
   "source": []
  },
  {
   "cell_type": "code",
   "execution_count": null,
   "id": "b08b1d9d",
   "metadata": {},
   "outputs": [],
   "source": []
  }
 ],
 "metadata": {
  "kernelspec": {
   "display_name": "Python 3 (ipykernel)",
   "language": "python",
   "name": "python3"
  },
  "language_info": {
   "codemirror_mode": {
    "name": "ipython",
    "version": 3
   },
   "file_extension": ".py",
   "mimetype": "text/x-python",
   "name": "python",
   "nbconvert_exporter": "python",
   "pygments_lexer": "ipython3",
   "version": "3.9.0"
  }
 },
 "nbformat": 4,
 "nbformat_minor": 5
}
